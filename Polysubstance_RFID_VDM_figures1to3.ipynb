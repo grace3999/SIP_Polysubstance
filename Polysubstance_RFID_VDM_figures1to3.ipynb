{
 "cells": [
  {
   "cell_type": "code",
   "execution_count": null,
   "metadata": {},
   "outputs": [],
   "source": [
    "#getting and working with data\n",
    "import pandas as pd\n",
    "import numpy as np\n",
    "import re\n",
    "import os\n",
    "import datetime as dt\n",
    "import string\n",
    "\n",
    "from scipy import stats\n",
    "from statsmodels.formula.api import ols\n",
    "from statsmodels.stats.anova import anova_lm\n",
    "from statsmodels.stats.anova import AnovaRM\n",
    "from statsmodels.graphics.factorplots import interaction_plot\n",
    "\n",
    "import pingouin as pg\n",
    "from pingouin import ttest\n",
    "\n",
    "from CosinorPy import file_parser, cosinor, cosinor1\n",
    "\n",
    "from sklearn.preprocessing import StandardScaler\n",
    "from sklearn.preprocessing import RobustScaler\n",
    "from sklearn import metrics\n",
    "\n",
    "#dimensionality reduction\n",
    "from sklearn.decomposition import PCA\n",
    "\n",
    "#clustering\n",
    "from sklearn.cluster import KMeans\n",
    "import scipy.cluster.hierarchy as shc\n",
    "from bioinfokit.visuz import cluster\n",
    "\n",
    "#visualizing results\n",
    "import matplotlib.pyplot as plt\n",
    "%matplotlib inline\n",
    "import seaborn as sns\n",
    "\n",
    "sns.set_context(\"poster\")\n",
    "sns.set_style(\"ticks\")\n",
    "sns.set(font_scale=2)\n",
    "\n",
    "pd.set_option('display.max_rows', 500)\n",
    "pd.set_option('display.max_columns', 500)\n",
    "pd.set_option('display.width', 15000)\n",
    "pd.set_option('display.max_colwidth', -1)\n",
    "\n",
    "import warnings; warnings.simplefilter('ignore')\n",
    "np.set_printoptions(suppress=True)"
   ]
  },
  {
   "cell_type": "markdown",
   "metadata": {},
   "source": [
    "# Get data"
   ]
  },
  {
   "cell_type": "markdown",
   "metadata": {},
   "source": [
    "## Get filtered drinking data combined with RFID (already processed in other nb)"
   ]
  },
  {
   "cell_type": "code",
   "execution_count": null,
   "metadata": {},
   "outputs": [],
   "source": [
    "path = '/Users/abbieschindler/Documents/Schindler_Lab/Data/RFID_VDM/polysubstance_paper/data/final/clean/VDM/VDM_poly_final_clean_231103.csv'\n",
    "data_VDM_start = pd.read_csv(path)\n",
    "data_VDM_start = pd.DataFrame(data = data_VDM_start)\n",
    "data_VDM_start['Id'] = data_VDM_start['Sex'] + '_' + data_VDM_start['IdRFID'].astype('str')\n",
    "\n",
    "print(data_VDM_start.shape)\n",
    "data_VDM_start.head()"
   ]
  },
  {
   "cell_type": "code",
   "execution_count": null,
   "metadata": {
    "scrolled": true
   },
   "outputs": [],
   "source": [
    "data_VDM_start.groupby(['IdRFID'])['ld_day'].max()"
   ]
  },
  {
   "cell_type": "code",
   "execution_count": null,
   "metadata": {},
   "outputs": [],
   "source": [
    "#some got taken out on 8th day \n",
    "data_VDM_start = data_VDM_start[data_VDM_start['ld_day']<8]\n",
    "data_VDM_start = data_VDM_start[data_VDM_start['ld_day']>0]\n",
    "data_VDM_start = data_VDM_start[data_VDM_start['VDM_RFID_timediff']<3]\n",
    "data_VDM_start = data_VDM_start[data_VDM_start['Cage_N']>1]\n",
    "\n",
    "data_VDM_start['intake_ml_kg'] = data_VDM_start['value'] / (data_VDM_start['weight_pre']/1000)\n",
    "\n",
    "data_VDM_start.head()"
   ]
  },
  {
   "cell_type": "code",
   "execution_count": null,
   "metadata": {},
   "outputs": [],
   "source": [
    "hour_to_zeit = {0:19,\n",
    "                1:20,\n",
    "                2:21,\n",
    "                3:22,\n",
    "                4:23,\n",
    "                5:24,\n",
    "                6:1,\n",
    "                7:2,\n",
    "                8:3,\n",
    "                9:4,\n",
    "                10:5,\n",
    "                11:6,\n",
    "                12:7,\n",
    "                13:8,\n",
    "                14:9,\n",
    "                15:10,\n",
    "                16:11,\n",
    "                17:12,\n",
    "                18:13,\n",
    "                19:14,\n",
    "                20:15,\n",
    "                21:16,\n",
    "                22:17,\n",
    "                23:18,\n",
    "               }\n",
    "\n",
    "data_VDM_start['zeitgeber'] = data_VDM_start['VDM_hour'].map(hour_to_zeit)"
   ]
  },
  {
   "cell_type": "code",
   "execution_count": null,
   "metadata": {},
   "outputs": [],
   "source": [
    "zeit_to_quart = {0:1,\n",
    "                 1:1,\n",
    "                 2:1,\n",
    "                 3:1,\n",
    "                 4:1,\n",
    "                 5:1,\n",
    "                 6:2,\n",
    "                 7:2,\n",
    "                 8:2,\n",
    "                 9:2,\n",
    "                 10:2,\n",
    "                 11:2,\n",
    "                 12:3,\n",
    "                 13:3,\n",
    "                 14:3,\n",
    "                 15:3,\n",
    "                 16:3,\n",
    "                 17:3,\n",
    "                 18:4,\n",
    "                 19:4,\n",
    "                 20:4,\n",
    "                 21:4,\n",
    "                 22:4,\n",
    "                 23:4,\n",
    "                 }\n",
    "\n",
    "data_VDM_start['zeit_quart'] = data_VDM_start['zeitgeber'].map(zeit_to_quart)"
   ]
  },
  {
   "cell_type": "code",
   "execution_count": null,
   "metadata": {},
   "outputs": [],
   "source": [
    "len(data_VDM_start[data_VDM_start['Sex']=='female']['IdRFID'].unique())"
   ]
  },
  {
   "cell_type": "code",
   "execution_count": null,
   "metadata": {},
   "outputs": [],
   "source": [
    "len(data_VDM_start[data_VDM_start['Sex']=='male']['IdRFID'].unique())"
   ]
  },
  {
   "cell_type": "code",
   "execution_count": null,
   "metadata": {},
   "outputs": [],
   "source": [
    "data_VDM_start.shape"
   ]
  },
  {
   "cell_type": "code",
   "execution_count": null,
   "metadata": {},
   "outputs": [],
   "source": [
    "data_VDM_total_ld_day_hour = data_VDM_start.groupby(['IdRFID', 'Sex', 'substance', 'ld_cycle', 'zeitgeber', 'ld_day',\n",
    "                                   ])['intake_ml_kg'].sum().reset_index()\n",
    "\n",
    "print(data_VDM_total_ld_day_hour.shape)\n",
    "data_VDM_total_ld_day_hour.head()"
   ]
  },
  {
   "cell_type": "code",
   "execution_count": null,
   "metadata": {
    "scrolled": true
   },
   "outputs": [],
   "source": [
    "substances = ['water', 'EtOH05', 'EtOH10', 'Fent05', 'Fent20']\n",
    "data_final = pd.DataFrame()\n",
    "\n",
    "for IdRFID in data_VDM_total_ld_day_hour['IdRFID'].unique():\n",
    "    print(IdRFID)\n",
    "    \n",
    "    d_animal = data_VDM_total_ld_day_hour[data_VDM_total_ld_day_hour['IdRFID']==IdRFID]\n",
    "    \n",
    "    for substance in substances:\n",
    "        \n",
    "        days_hours_df = pd.DataFrame(0, index=np.arange(1,8), columns=data_VDM_start['zeitgeber'].unique()).unstack().reset_index()\n",
    "        days_hours_df.columns = ['zeitgeber', 'ld_day', 'ddd']\n",
    "        days_hours_df['ld_cycle'] = ['light' if x<13 else 'dark' for x in days_hours_df['zeitgeber']]\n",
    "        days_hours_df['substance'] = substance\n",
    "        days_hours_df['IdRFID'] = IdRFID\n",
    "        days_hours_df['Sex'] = d_animal['Sex'].values[0]\n",
    "        \n",
    "        x = days_hours_df.merge(d_animal, on=['IdRFID', 'Sex', 'ld_day', 'ld_cycle', 'zeitgeber', 'substance'], \n",
    "                                how='left').sort_values(['substance', 'ld_day', 'zeitgeber'])\n",
    "        \n",
    "        if data_final.empty:\n",
    "            data_final = x\n",
    "        else:\n",
    "            data_final = pd.concat([data_final, x], axis=0)\n",
    "        \n",
    "    print(data_final.shape,'\\n')\n",
    "\n",
    "data_final = data_final.fillna(0).sort_values(['IdRFID', 'substance', 'ld_day', 'zeitgeber'])\n",
    "data_final.head()"
   ]
  },
  {
   "cell_type": "code",
   "execution_count": null,
   "metadata": {},
   "outputs": [],
   "source": [
    "zeit_to_quart = {0:1,\n",
    "                 1:1,\n",
    "                 2:1,\n",
    "                 3:1,\n",
    "                 4:1,\n",
    "                 5:1,\n",
    "                 6:2,\n",
    "                 7:2,\n",
    "                 8:2,\n",
    "                 9:2,\n",
    "                 10:2,\n",
    "                 11:2,\n",
    "                 12:3,\n",
    "                 13:3,\n",
    "                 14:3,\n",
    "                 15:3,\n",
    "                 16:3,\n",
    "                 17:3,\n",
    "                 18:4,\n",
    "                 19:4,\n",
    "                 20:4,\n",
    "                 21:4,\n",
    "                 22:4,\n",
    "                 23:4,\n",
    "                 }\n",
    "\n",
    "data_final['zeit_quart'] = data_final['zeitgeber'].map(zeit_to_quart)\n",
    "\n",
    "data_final.head()"
   ]
  },
  {
   "cell_type": "markdown",
   "metadata": {},
   "source": [
    "## Get RFID data (already processed in other nb)"
   ]
  },
  {
   "cell_type": "code",
   "execution_count": null,
   "metadata": {},
   "outputs": [],
   "source": [
    "path = '/Users/abbieschindler/Documents/Schindler_Lab/Data/RFID_VDM/polysubstance_paper/data/final/clean/RFID/RFID_poly_final_clean_231103.csv'\n",
    "\n",
    "data_RFID_start = pd.read_csv(path)\n",
    "data_RFID_start = pd.DataFrame(data = data_RFID_start)\n",
    "print(data_RFID_start.shape)\n",
    "data_RFID_start.head()"
   ]
  },
  {
   "cell_type": "code",
   "execution_count": null,
   "metadata": {
    "scrolled": true
   },
   "outputs": [],
   "source": [
    "data_RFID_start.groupby(['IdRFID'])['ld_day'].max()"
   ]
  },
  {
   "cell_type": "code",
   "execution_count": null,
   "metadata": {},
   "outputs": [],
   "source": [
    "#some got taken out on 8th day so end at lights on day 8\n",
    "data_RFID_start = data_RFID_start[data_RFID_start['ld_day']<8]\n",
    "data_RFID_start = data_RFID_start[data_RFID_start['ld_day']>0]\n",
    "\n",
    "data_RFID_start = data_RFID_start[data_RFID_start['Cage_N']>1]\n",
    "print(data_RFID_start.shape)\n",
    "data_RFID_start.head()"
   ]
  },
  {
   "cell_type": "code",
   "execution_count": null,
   "metadata": {},
   "outputs": [],
   "source": [
    "hour_to_zeit = {0:19,\n",
    "                1:20,\n",
    "                2:21,\n",
    "                3:22,\n",
    "                4:23,\n",
    "                5:24,\n",
    "                6:1,\n",
    "                7:2,\n",
    "                8:3,\n",
    "                9:4,\n",
    "                10:5,\n",
    "                11:6,\n",
    "                12:7,\n",
    "                13:8,\n",
    "                14:9,\n",
    "                15:10,\n",
    "                16:11,\n",
    "                17:12,\n",
    "                18:13,\n",
    "                19:14,\n",
    "                20:15,\n",
    "                21:16,\n",
    "                22:17,\n",
    "                23:18,\n",
    "               }\n",
    "\n",
    "data_RFID_start['zeitgeber'] = data_RFID_start['RFID_hour'].map(hour_to_zeit)"
   ]
  },
  {
   "cell_type": "code",
   "execution_count": null,
   "metadata": {},
   "outputs": [],
   "source": [
    "zeit_to_quart = {0:1,\n",
    "                 1:1,\n",
    "                 2:1,\n",
    "                 3:1,\n",
    "                 4:1,\n",
    "                 5:1,\n",
    "                 6:2,\n",
    "                 7:2,\n",
    "                 8:2,\n",
    "                 9:2,\n",
    "                 10:2,\n",
    "                 11:2,\n",
    "                 12:3,\n",
    "                 13:3,\n",
    "                 14:3,\n",
    "                 15:3,\n",
    "                 16:3,\n",
    "                 17:3,\n",
    "                 18:4,\n",
    "                 19:4,\n",
    "                 20:4,\n",
    "                 21:4,\n",
    "                 22:4,\n",
    "                 23:4,\n",
    "                 }\n",
    "\n",
    "data_RFID_start['zeit_quart'] = data_RFID_start['zeitgeber'].map(zeit_to_quart)\n",
    "\n",
    "data_RFID_start.head()"
   ]
  },
  {
   "cell_type": "markdown",
   "metadata": {},
   "source": [
    "## Confirm matching RFIDs "
   ]
  },
  {
   "cell_type": "code",
   "execution_count": null,
   "metadata": {},
   "outputs": [],
   "source": [
    "set(data_RFID_start['IdRFID'].unique()) - set(data_VDM_start['IdRFID'].unique())"
   ]
  },
  {
   "cell_type": "code",
   "execution_count": null,
   "metadata": {},
   "outputs": [],
   "source": [
    "set(data_VDM_start['IdRFID'].unique()) - set(data_RFID_start['IdRFID'].unique())"
   ]
  },
  {
   "cell_type": "code",
   "execution_count": null,
   "metadata": {},
   "outputs": [],
   "source": [
    "sub_map = {'etoh_05': 'EtOH05',\n",
    "           'etoh_10': 'EtOH10',\n",
    "           'fent_05': 'Fent05',\n",
    "           'fent_20': 'Fent20',\n",
    "           'water_1': 'water',\n",
    "           'water_2': 'water',}\n",
    "\n",
    "data_RFID_start['substance'] = data_RFID_start['unitLabel_drink'].map(sub_map)"
   ]
  },
  {
   "cell_type": "code",
   "execution_count": null,
   "metadata": {},
   "outputs": [],
   "source": [
    "data_RFID_total_ld_day_hour = data_RFID_start.groupby(['IdRFID', 'Sex', 'substance', 'ld_cycle', 'zeitgeber', 'ld_day',\n",
    "                                   ])['eventDuration'].sum().reset_index()\n",
    "\n",
    "print(data_RFID_total_ld_day_hour.shape)\n",
    "data_RFID_total_ld_day_hour.head()"
   ]
  },
  {
   "cell_type": "code",
   "execution_count": null,
   "metadata": {},
   "outputs": [],
   "source": [
    "substances = ['water', 'EtOH05', 'EtOH10', 'Fent05', 'Fent20']\n",
    "data_RFID_final = pd.DataFrame()\n",
    "\n",
    "for IdRFID in data_RFID_total_ld_day_hour['IdRFID'].unique():\n",
    "    print(IdRFID)\n",
    "    \n",
    "    d_animal = data_RFID_total_ld_day_hour[data_RFID_total_ld_day_hour['IdRFID']==IdRFID]\n",
    "    \n",
    "    for substance in substances:\n",
    "        \n",
    "        days_hours_df = pd.DataFrame(0, index=np.arange(1,8), columns=data_RFID_start['zeitgeber'].unique()).unstack().reset_index()\n",
    "        days_hours_df.columns = ['zeitgeber', 'ld_day', 'ddd']\n",
    "        days_hours_df['ld_cycle'] = ['light' if x<13 else 'dark' for x in days_hours_df['zeitgeber']]\n",
    "        days_hours_df['substance'] = substance\n",
    "        days_hours_df['IdRFID'] = IdRFID\n",
    "        days_hours_df['Sex'] = d_animal['Sex'].values[0]\n",
    "        \n",
    "        x = days_hours_df.merge(d_animal, on=['IdRFID', 'Sex', 'ld_day', 'ld_cycle', 'zeitgeber', 'substance'], \n",
    "                                how='left').sort_values(['substance', 'ld_day', 'zeitgeber'])\n",
    "        \n",
    "        if data_RFID_final.empty:\n",
    "            data_RFID_final = x\n",
    "        else:\n",
    "            data_RFID_final = pd.concat([data_RFID_final, x], axis=0)\n",
    "        \n",
    "    print(data_RFID_final.shape,'\\n')\n",
    "\n",
    "data_RFID_final = data_RFID_final.fillna(0).sort_values(['IdRFID', 'substance', 'ld_day', 'zeitgeber'])\n",
    "data_RFID_final.head()"
   ]
  },
  {
   "cell_type": "code",
   "execution_count": null,
   "metadata": {},
   "outputs": [],
   "source": [
    "zeit_to_quart = {0:1,\n",
    "                 1:1,\n",
    "                 2:1,\n",
    "                 3:1,\n",
    "                 4:1,\n",
    "                 5:1,\n",
    "                 6:2,\n",
    "                 7:2,\n",
    "                 8:2,\n",
    "                 9:2,\n",
    "                 10:2,\n",
    "                 11:2,\n",
    "                 12:3,\n",
    "                 13:3,\n",
    "                 14:3,\n",
    "                 15:3,\n",
    "                 16:3,\n",
    "                 17:3,\n",
    "                 18:4,\n",
    "                 19:4,\n",
    "                 20:4,\n",
    "                 21:4,\n",
    "                 22:4,\n",
    "                 23:4,\n",
    "                 }\n",
    "\n",
    "data_RFID_final['zeit_quart'] = data_RFID_final['zeitgeber'].map(zeit_to_quart)\n",
    "\n",
    "data_RFID_final.head()"
   ]
  },
  {
   "cell_type": "markdown",
   "metadata": {},
   "source": [
    "# RFID data"
   ]
  },
  {
   "cell_type": "code",
   "execution_count": null,
   "metadata": {},
   "outputs": [],
   "source": [
    "data_RFID = data_RFID_final"
   ]
  },
  {
   "cell_type": "markdown",
   "metadata": {},
   "source": [
    "## total with combined substances"
   ]
  },
  {
   "cell_type": "markdown",
   "metadata": {},
   "source": [
    "### event duration proportion"
   ]
  },
  {
   "cell_type": "code",
   "execution_count": null,
   "metadata": {},
   "outputs": [],
   "source": [
    "sns.displot(data=data_RFID_start, x=\"eventDuration\", kind='ecdf', hue='Sex', palette='PuBuGn')\n",
    "#plt.ylim(0,2000)\n",
    "plt.xlim(0,30)\n",
    "plt.xlabel('Time in chamber (sec)')\n",
    "\n",
    "m=data_RFID_start[data_RFID_start['Sex']=='male']['eventDuration'].values\n",
    "f=data_RFID_start[data_RFID_start['Sex']=='female']['eventDuration'].values\n",
    "print(stats.kstest(m, f))\n",
    "\n",
    "plt.show()"
   ]
  },
  {
   "cell_type": "markdown",
   "metadata": {},
   "source": [
    "### total event duration sum"
   ]
  },
  {
   "cell_type": "code",
   "execution_count": null,
   "metadata": {},
   "outputs": [],
   "source": [
    "data_RFID_total = data_RFID.groupby(['IdRFID', 'Sex', \n",
    "                                   ])['eventDuration'].sum().reset_index()\n",
    "\n",
    "data_RFID_total['Time in chamber (min)'] = data_RFID_total['eventDuration']/60\n",
    "\n",
    "data_RFID_total.head()"
   ]
  },
  {
   "cell_type": "code",
   "execution_count": null,
   "metadata": {},
   "outputs": [],
   "source": [
    "g = sns.catplot(x='Sex', y='Time in chamber (min)', data=data_RFID_total,  kind='bar', height=5, aspect=1,\n",
    "            ci=68, palette='PuBuGn')\n",
    "\n",
    "# map data to stripplot\n",
    "g.map(sns.stripplot, 'Sex', 'Time in chamber (min)', \n",
    "      palette=sns.color_palette('PuBuGn')[2:4], dodge=True, alpha=0.6, ec='k', linewidth=1)\n",
    "plt.ylim(0,2000)\n",
    "plt.show()\n",
    "\n",
    "male = data_RFID_total[data_RFID_total['Sex']=='male']['Time in chamber (min)']\n",
    "female = data_RFID_total[data_RFID_total['Sex']=='female']['Time in chamber (min)']\n",
    "stats.ttest_ind(female, male)"
   ]
  },
  {
   "cell_type": "markdown",
   "metadata": {},
   "source": [
    "## light dark with combined substances"
   ]
  },
  {
   "cell_type": "markdown",
   "metadata": {},
   "source": [
    "### event duration proportion"
   ]
  },
  {
   "cell_type": "code",
   "execution_count": null,
   "metadata": {},
   "outputs": [],
   "source": [
    "g=sns.displot(data=data_RFID_start, x=\"eventDuration\", kind='ecdf', hue='ld_cycle', col='Sex', palette='PuBuGn')\n",
    "#plt.ylim(0,2000)\n",
    "plt.xlim(0,30)\n",
    "\n",
    "g.set_axis_labels('Time in chamber (sec)')\n",
    "plt.show()"
   ]
  },
  {
   "cell_type": "markdown",
   "metadata": {},
   "source": [
    "### total event duration sum"
   ]
  },
  {
   "cell_type": "code",
   "execution_count": null,
   "metadata": {},
   "outputs": [],
   "source": [
    "data_RFID_total_ld = data_RFID.groupby(['IdRFID', 'Sex', 'ld_cycle', \n",
    "                                   ])['eventDuration'].sum().reset_index()\n",
    "\n",
    "data_RFID_total_ld['Time in chamber (min)'] = data_RFID_total_ld['eventDuration']/60\n",
    "\n",
    "data_RFID_total_ld.head()"
   ]
  },
  {
   "cell_type": "code",
   "execution_count": null,
   "metadata": {},
   "outputs": [],
   "source": [
    "g= sns.catplot(x='ld_cycle', y='Time in chamber (min)', data=data_RFID_total_ld,  kind='bar', height=5, aspect=1,\n",
    "            ci=68, hue='Sex', palette='PuBuGn')\n",
    "\n",
    "# map data to stripplot\n",
    "g.map(sns.stripplot, 'ld_cycle', 'Time in chamber (min)', 'Sex',\n",
    "      palette=sns.color_palette('PuBuGn')[2:4], dodge=True, alpha=0.6, ec='k', linewidth=1)\n",
    "plt.ylim(0,2000)\n",
    "plt.xlabel('Light/Dark Cycle')\n",
    "plt.show()"
   ]
  },
  {
   "cell_type": "code",
   "execution_count": null,
   "metadata": {
    "scrolled": true
   },
   "outputs": [],
   "source": [
    "dv = 'Time in chamber (min)'\n",
    "\n",
    "#RM using Pingouin\n",
    "aov = pg.mixed_anova(dv=dv, within='ld_cycle', between='Sex', subject='IdRFID', data=data_RFID_total_ld)\n",
    "pg.print_table(aov)\n",
    "\n",
    "#posthocs\n",
    "posthocs = pg.pairwise_ttests(dv=dv, within='ld_cycle', between='Sex',\n",
    "                              subject='IdRFID', data=data_RFID_total_ld, padjust='bonf')\n",
    "pg.print_table(posthocs)"
   ]
  },
  {
   "cell_type": "markdown",
   "metadata": {},
   "source": [
    "## daily total with combined substance "
   ]
  },
  {
   "cell_type": "markdown",
   "metadata": {},
   "source": [
    "### event duration proportion"
   ]
  },
  {
   "cell_type": "code",
   "execution_count": null,
   "metadata": {},
   "outputs": [],
   "source": [
    "g=sns.displot(data=data_RFID_start, x=\"eventDuration\", kind='ecdf', hue='ld_day', col='Sex', palette='PuBuGn')\n",
    "#plt.ylim(0,2000)\n",
    "plt.xlim(0,30)\n",
    "\n",
    "g.set_axis_labels('Time in chamber (sec)')\n",
    "plt.show()"
   ]
  },
  {
   "cell_type": "markdown",
   "metadata": {},
   "source": [
    "### total event duration sum"
   ]
  },
  {
   "cell_type": "code",
   "execution_count": null,
   "metadata": {},
   "outputs": [],
   "source": [
    "data_RFID_total_daily = data_RFID.groupby(['IdRFID', 'Sex', 'ld_day',\n",
    "                                   ])['eventDuration'].sum().reset_index()\n",
    "\n",
    "data_RFID_total_daily['Time in chamber (min)'] = data_RFID_total_daily['eventDuration']/60\n",
    "\n",
    "data_RFID_total_daily.head()"
   ]
  },
  {
   "cell_type": "code",
   "execution_count": null,
   "metadata": {},
   "outputs": [],
   "source": [
    "g= sns.catplot(x='ld_day', y='Time in chamber (min)', data=data_RFID_total_daily,  kind='bar', height=5, aspect=2,\n",
    "            ci=68, hue='Sex', palette='PuBuGn')\n",
    "\n",
    "# map data to stripplot\n",
    "g.map(sns.stripplot, 'ld_day', 'Time in chamber (min)', 'Sex',\n",
    "      palette=sns.color_palette('PuBuGn')[2:4], dodge=True, alpha=0.6, ec='k', linewidth=1)\n",
    "\n",
    "plt.xlabel('Day')\n",
    "plt.show()"
   ]
  },
  {
   "cell_type": "code",
   "execution_count": null,
   "metadata": {
    "scrolled": true
   },
   "outputs": [],
   "source": [
    "dv = 'Time in chamber (min)'\n",
    "\n",
    "#RM using Pingouin\n",
    "aov = pg.mixed_anova(dv=dv, within='ld_day', between='Sex', subject='IdRFID', data=data_RFID_total_daily)\n",
    "pg.print_table(aov)\n",
    "\n",
    "#posthocs\n",
    "posthocs = pg.pairwise_ttests(dv=dv, within='ld_day', between='Sex',\n",
    "                              subject='IdRFID', data=data_RFID_total_daily, padjust='bonf')\n",
    "pg.print_table(posthocs)"
   ]
  },
  {
   "cell_type": "markdown",
   "metadata": {},
   "source": [
    "## hourly total with combined substances"
   ]
  },
  {
   "cell_type": "markdown",
   "metadata": {},
   "source": [
    "### event duration proportion"
   ]
  },
  {
   "cell_type": "code",
   "execution_count": null,
   "metadata": {
    "scrolled": true
   },
   "outputs": [],
   "source": [
    "g=sns.displot(data=data_RFID_start, x=\"eventDuration\", kind='ecdf', hue='zeitgeber', col='Sex', palette='PuBuGn')\n",
    "#plt.ylim(0,2000)\n",
    "plt.xlim(0,30)\n",
    "\n",
    "g.set_axis_labels('Time in chamber (sec)')\n",
    "plt.show()"
   ]
  },
  {
   "cell_type": "markdown",
   "metadata": {},
   "source": [
    "### total event duration sum"
   ]
  },
  {
   "cell_type": "code",
   "execution_count": null,
   "metadata": {},
   "outputs": [],
   "source": [
    "data_RFID_total_hourly = data_RFID.groupby(['IdRFID', 'Sex', 'zeitgeber', \n",
    "                                   ])['eventDuration'].sum().reset_index()\n",
    "\n",
    "data_RFID_total_hourly['Time in chamber (min)'] = data_RFID_total_hourly['eventDuration']/60\n",
    "\n",
    "data_RFID_total_hourly.head()"
   ]
  },
  {
   "cell_type": "code",
   "execution_count": null,
   "metadata": {},
   "outputs": [],
   "source": [
    "g= sns.catplot(x='zeitgeber', y='Time in chamber (min)', data=data_RFID_total_hourly,  kind='bar', height=5, aspect=2,\n",
    "            ci=68, hue='Sex', palette='PuBuGn')\n",
    "\n",
    "# map data to stripplot\n",
    "g.map(sns.stripplot, 'zeitgeber', 'Time in chamber (min)', 'Sex',\n",
    "      palette=sns.color_palette('PuBuGn')[2:4], dodge=True, alpha=0.6, ec='k', linewidth=1,\n",
    "      )\n",
    "\n",
    "plt.xlabel('Zeitgeber time (hour)')\n",
    "plt.show()"
   ]
  },
  {
   "cell_type": "code",
   "execution_count": null,
   "metadata": {},
   "outputs": [],
   "source": [
    "dv = 'Time in chamber (min)'\n",
    "\n",
    "#RM using Pingouin\n",
    "aov = pg.mixed_anova(dv=dv, within='zeitgeber', between='Sex', subject='IdRFID', data=data_RFID_total_hourly)\n",
    "pg.print_table(aov)\n",
    "\n",
    "#posthocs\n",
    "posthocs = pg.pairwise_ttests(dv=dv, within='zeitgeber', between='Sex',\n",
    "                              subject='IdRFID', data=data_RFID_total_hourly, padjust='bonf')\n",
    "pg.print_table(posthocs)"
   ]
  },
  {
   "cell_type": "markdown",
   "metadata": {},
   "source": [
    "## daily and hourly combined substances heatmap"
   ]
  },
  {
   "cell_type": "code",
   "execution_count": null,
   "metadata": {},
   "outputs": [],
   "source": [
    "data_RFID_total_hour_day = data_RFID.groupby(['IdRFID', 'Sex', 'zeitgeber', 'ld_day',\n",
    "                                   ])['eventDuration'].sum().reset_index()\n",
    "\n",
    "data_RFID_total_hour_day['Time in chamber (min)'] = data_RFID_total_hour_day['eventDuration']/60\n",
    "\n",
    "data_RFID_total_hour_day.head()"
   ]
  },
  {
   "cell_type": "markdown",
   "metadata": {},
   "source": [
    "### event duration"
   ]
  },
  {
   "cell_type": "code",
   "execution_count": null,
   "metadata": {},
   "outputs": [],
   "source": [
    "d = data_RFID_total_hour_day[data_RFID_total_hour_day['Sex']=='female']\n",
    "groupby = d.groupby(['ld_day', 'zeitgeber'])['Time in chamber (min)'].mean().reset_index()\n",
    "\n",
    "\n",
    "sns.set(font_scale=2)\n",
    "groupby = groupby.pivot('ld_day', 'zeitgeber', \"Time in chamber (min)\")\n",
    "plt.figure(figsize=(5,5))\n",
    "ax = sns.heatmap(groupby, cmap=\"PuBuGn\", linewidths=.25, vmax=12,\n",
    "                     cbar_kws={'label': 'Time in chamber (min)'})\n",
    "\n",
    "#plt.xlabel('Bottle')\n",
    "plt.show()"
   ]
  },
  {
   "cell_type": "markdown",
   "metadata": {},
   "source": [
    "## total with separate substances "
   ]
  },
  {
   "cell_type": "markdown",
   "metadata": {},
   "source": [
    "### event duration proportion"
   ]
  },
  {
   "cell_type": "code",
   "execution_count": null,
   "metadata": {},
   "outputs": [],
   "source": [
    "order=['water', 'EtOH05', 'EtOH10', 'Fent05', 'Fent20']\n",
    "\n",
    "g=sns.displot(data=data_RFID_start, x=\"eventDuration\", kind='ecdf', hue='substance', col='Sex', palette='PuBuGn',\n",
    "             hue_order=order)\n",
    "#plt.ylim(0,2000)\n",
    "plt.xlim(0,30)\n",
    "\n",
    "g.set_axis_labels('Time in chamber (sec)')\n",
    "plt.show()"
   ]
  },
  {
   "cell_type": "markdown",
   "metadata": {},
   "source": [
    "### total event duration sum"
   ]
  },
  {
   "cell_type": "code",
   "execution_count": null,
   "metadata": {},
   "outputs": [],
   "source": [
    "order=['water', 'EtOH05', 'EtOH10', 'Fent05', 'Fent20']\n",
    "data_RFID_total_sub = data_RFID.groupby(['IdRFID', 'Sex', 'substance',\n",
    "                                   ])['eventDuration'].sum().reset_index()\n",
    "\n",
    "data_RFID_total_sub['Time in chamber (min)'] = data_RFID_total_sub['eventDuration']/60\n",
    "\n",
    "data_RFID_total_sub.head()"
   ]
  },
  {
   "cell_type": "code",
   "execution_count": null,
   "metadata": {},
   "outputs": [],
   "source": [
    "g= sns.catplot(x='substance', y='Time in chamber (min)', data=data_RFID_total_sub,  kind='bar', height=5, aspect=2,\n",
    "            ci=68, hue='Sex', order=order, palette='PuBuGn')\n",
    "\n",
    "# map data to stripplot\n",
    "g.map(sns.stripplot, 'substance', 'Time in chamber (min)', 'Sex',\n",
    "      palette=sns.color_palette('PuBuGn')[2:4], dodge=True, alpha=0.6, ec='k', linewidth=1,\n",
    "      order=order)\n",
    "\n",
    "plt.xlabel('Chamber substance')\n",
    "plt.show()"
   ]
  },
  {
   "cell_type": "code",
   "execution_count": null,
   "metadata": {
    "scrolled": true
   },
   "outputs": [],
   "source": [
    "dv = 'Time in chamber (min)'\n",
    "\n",
    "#RM using Pingouin\n",
    "aov = pg.mixed_anova(dv=dv, within='substance', between='Sex', subject='IdRFID', data=data_RFID_total_sub)\n",
    "pg.print_table(aov)\n",
    "\n",
    "#posthocs\n",
    "posthocs = pg.pairwise_ttests(dv=dv, within='substance', between='Sex',\n",
    "                              subject='IdRFID', data=data_RFID_total_sub, padjust='bonf')\n",
    "pg.print_table(posthocs)"
   ]
  },
  {
   "cell_type": "markdown",
   "metadata": {},
   "source": [
    "## daily with separate substances "
   ]
  },
  {
   "cell_type": "markdown",
   "metadata": {},
   "source": [
    "### event duration proportion"
   ]
  },
  {
   "cell_type": "code",
   "execution_count": null,
   "metadata": {},
   "outputs": [],
   "source": [
    "d = data_RFID_start[data_RFID_start['substance']=='water']\n",
    "\n",
    "g=sns.displot(data=d, x=\"eventDuration\", kind='ecdf', hue='ld_day', col='Sex', palette='PuBuGn')\n",
    "#plt.ylim(0,2000)\n",
    "plt.xlim(0,30)\n",
    "\n",
    "g.set_axis_labels('Time in chamber (sec)')\n",
    "plt.show()"
   ]
  },
  {
   "cell_type": "markdown",
   "metadata": {},
   "source": [
    "### total event duration sum"
   ]
  },
  {
   "cell_type": "code",
   "execution_count": null,
   "metadata": {},
   "outputs": [],
   "source": [
    "data_RFID_sub_daily = data_RFID.groupby(['IdRFID', 'Sex', 'ld_day', 'substance'\n",
    "                                   ])['eventDuration'].sum().reset_index()\n",
    "\n",
    "data_RFID_sub_daily['Time in chamber (min)'] = data_RFID_sub_daily['eventDuration']/60\n",
    "\n",
    "data_RFID_sub_daily.head()"
   ]
  },
  {
   "cell_type": "code",
   "execution_count": null,
   "metadata": {},
   "outputs": [],
   "source": [
    "sub = 'Fent20'\n",
    "d = data_RFID_sub_daily[data_RFID_sub_daily['substance']==sub]\n",
    "\n",
    "g= sns.catplot(x='Sex', y='Time in chamber (min)', data=d,  kind='bar', height=5, aspect=1,\n",
    "            ci=68, hue='ld_day', palette='PuBuGn', )\n",
    "\n",
    "# map data to stripplot\n",
    "g.map(sns.stripplot, 'Sex', 'Time in chamber (min)', 'ld_day', \n",
    "      palette=sns.color_palette('PuBuGn')[2:4], dodge=True, alpha=0.6, ec='k', linewidth=1 )\n",
    "\n",
    "plt.ylim(0,200)\n",
    "plt.title(sub)\n",
    "plt.xlabel('Day')\n",
    "plt.show()"
   ]
  },
  {
   "cell_type": "code",
   "execution_count": null,
   "metadata": {
    "scrolled": true
   },
   "outputs": [],
   "source": [
    "dv = 'Time in chamber (min)'\n",
    "\n",
    "d = data_RFID_sub_daily[data_RFID_sub_daily['substance']==sub]\n",
    "\n",
    "#RM using Pingouin\n",
    "aov = pg.mixed_anova(dv=dv, within='ld_day', between='Sex', subject='IdRFID', data=d)\n",
    "pg.print_table(aov)\n",
    "\n",
    "#posthocs\n",
    "posthocs = pg.pairwise_ttests(dv=dv, within='ld_day', between='Sex',\n",
    "                              subject='IdRFID', data=d, padjust='fdr_bh')\n",
    "pg.print_table(posthocs)"
   ]
  },
  {
   "cell_type": "markdown",
   "metadata": {},
   "source": [
    "## light dark with separate substances "
   ]
  },
  {
   "cell_type": "markdown",
   "metadata": {},
   "source": [
    "### event duration proportion"
   ]
  },
  {
   "cell_type": "code",
   "execution_count": null,
   "metadata": {},
   "outputs": [],
   "source": [
    "d = data_RFID_start[data_RFID_start['Sex']=='male']\n",
    "\n",
    "g=sns.displot(data=d, x=\"eventDuration\", kind='ecdf', hue='substance', col='ld_cycle', palette='PuBuGn',\n",
    "              hue_order=order)\n",
    "#plt.ylim(0,2000)\n",
    "plt.xlim(0,30)\n",
    "\n",
    "g.set_axis_labels('Time in chamber (sec)')\n",
    "plt.show()"
   ]
  },
  {
   "cell_type": "markdown",
   "metadata": {},
   "source": [
    "### total event duration sum"
   ]
  },
  {
   "cell_type": "code",
   "execution_count": null,
   "metadata": {},
   "outputs": [],
   "source": [
    "data_RFID_sub_ld = data_RFID.groupby(['IdRFID', 'Sex', 'ld_cycle', 'substance',\n",
    "                                   ])['eventDuration'].sum().reset_index()\n",
    "\n",
    "data_RFID_sub_ld['Time in chamber (min)'] = data_RFID_sub_ld['eventDuration']/60\n",
    "\n",
    "data_RFID_sub_ld.head()"
   ]
  },
  {
   "cell_type": "code",
   "execution_count": null,
   "metadata": {},
   "outputs": [],
   "source": [
    "d = data_RFID_sub_ld[data_RFID_sub_ld['Sex']=='female']\n",
    "\n",
    "g= sns.catplot(x='ld_cycle', y='Time in chamber (min)', data=d,  kind='bar', height=5, aspect=1,\n",
    "            ci=68, hue='substance', palette='PuBuGn', hue_order=order)\n",
    "\n",
    "# map data to stripplot\n",
    "g.map(sns.stripplot, 'ld_cycle', 'Time in chamber (min)', 'substance', \n",
    "      palette=sns.color_palette('PuBuGn')[2:4], dodge=True, alpha=0.6, ec='k', linewidth=1 , hue_order=order)\n",
    "\n",
    "plt.ylim(0,500)\n",
    "plt.xlabel('Light/Dark Cycle')\n",
    "plt.show()"
   ]
  },
  {
   "cell_type": "code",
   "execution_count": null,
   "metadata": {},
   "outputs": [],
   "source": [
    "data_RFID_sub_ld.set_index(['IdRFID', 'Sex', 'ld_cycle', 'substance'])['Time in chamber (min)'].unstack(-1).to_csv('data_RFID_sub_ld.csv')"
   ]
  },
  {
   "cell_type": "markdown",
   "metadata": {},
   "source": [
    "## daily and hourly total with separate substance heatmap"
   ]
  },
  {
   "cell_type": "markdown",
   "metadata": {},
   "source": [
    "### event duration"
   ]
  },
  {
   "cell_type": "code",
   "execution_count": null,
   "metadata": {},
   "outputs": [],
   "source": [
    "data_RFID_total_sub_day_hour = data_RFID.groupby(['IdRFID', 'Sex', 'substance', 'ld_day', 'zeitgeber',\n",
    "                                   ])['eventDuration'].sum().reset_index()\n",
    "\n",
    "data_RFID_total_sub_day_hour['Time in chamber (min)'] = data_RFID_total_sub_day_hour['eventDuration']/60\n",
    "\n",
    "data_RFID_total_sub_day_hour.head()"
   ]
  },
  {
   "cell_type": "code",
   "execution_count": null,
   "metadata": {},
   "outputs": [],
   "source": [
    "d = data_RFID_total_sub_day_hour[data_RFID_total_sub_day_hour['Sex']=='female']\n",
    "d = d[d['substance']=='Fent20']\n",
    "groupby = d.groupby(['ld_day', 'zeitgeber'])['Time in chamber (min)'].mean().reset_index()\n",
    "\n",
    "\n",
    "sns.set(font_scale=2)\n",
    "groupby = groupby.pivot('ld_day', 'zeitgeber', \"Time in chamber (min)\")\n",
    "plt.figure(figsize=(5,5))\n",
    "ax = sns.heatmap(groupby, cmap=\"PuBuGn\", linewidths=.25, vmax=5,\n",
    "                     cbar_kws={'label': 'Time in chamber (min)'})\n",
    "\n",
    "#plt.xlabel('Bottle')\n",
    "plt.show()"
   ]
  },
  {
   "cell_type": "markdown",
   "metadata": {},
   "source": [
    "## ID heatmap"
   ]
  },
  {
   "cell_type": "code",
   "execution_count": null,
   "metadata": {},
   "outputs": [],
   "source": [
    "data_RFID_total_sub['Id'] = data_RFID_total_sub['Sex'] + '_' + data_RFID_total_sub['IdRFID'].astype('str')\n",
    "data_RFID_total_sub.head()"
   ]
  },
  {
   "cell_type": "code",
   "execution_count": null,
   "metadata": {},
   "outputs": [],
   "source": [
    "sns.set(font_scale=2)\n",
    "groupby = data_RFID_total_sub.pivot('Id', 'substance', \"Time in chamber (min)\")\n",
    "plt.figure(figsize=(5,30))\n",
    "ax = sns.heatmap(groupby, cmap=\"PuBuGn\", linewidths=.25, vmax=600,\n",
    "                     cbar_kws={'label': 'Time in chamber (min)'})\n",
    "\n",
    "\n",
    "#plt.xlabel('Bottle')\n",
    "plt.show()"
   ]
  },
  {
   "cell_type": "markdown",
   "metadata": {},
   "source": [
    "## Raster"
   ]
  },
  {
   "cell_type": "code",
   "execution_count": null,
   "metadata": {},
   "outputs": [],
   "source": [
    "mice = ['041AC1620E', '041AC15DE9', '041AC16321', '041AC16A00', ]\n",
    "data_idivid = data_RFID_start[data_RFID_start['IdRFID']==mice[3]]\n",
    "data_idivid = data_idivid[data_idivid['ld_day']==4]\n",
    "colorCodes = ['C{}'.format(i) for i in range(5)]\n",
    "\n",
    "param = 'RFID_sec_count_running'\n",
    "data_1 = data_idivid[data_idivid['substance'] == 'water'][param].values\n",
    "data_2 = data_idivid[data_idivid['substance'] == 'EtOH05'][param].values\n",
    "data_3 = data_idivid[data_idivid['substance'] == 'EtOH10'][param].values\n",
    "data_4 = data_idivid[data_idivid['substance'] == 'Fent05'][param].values\n",
    "data_5 = data_idivid[data_idivid['substance'] == 'Fent20'][param].values\n",
    "\n",
    "data_array = np.array([data_1, data_2, data_3, data_4, data_5])\n",
    "\n",
    "# Draw a spike raster plot\n",
    "plt.figure(figsize=(19,5))\n",
    "params = {'axes.labelsize': 75,\n",
    "          'axes.titlesize': 75}\n",
    "plt.rc('xtick', labelsize=40) \n",
    "plt.rc('ytick', labelsize=40) \n",
    "plt.rcParams.update(params)\n",
    "plt.yticks([0,1,2,3,4], \n",
    "           ['water', 'EtOH05', 'EtOH10', 'Fent05', 'Fent20'])\n",
    "plt.eventplot(data_array, color=colorCodes, linelengths = 0.3) \n",
    "plt.xlabel('Time (running second count)', fontsize=50)\n",
    "plt.ylabel('Drinking chamber', fontsize=50)\n",
    "\n",
    "plt.show()"
   ]
  },
  {
   "cell_type": "markdown",
   "metadata": {},
   "source": [
    "# Drinking data"
   ]
  },
  {
   "cell_type": "code",
   "execution_count": null,
   "metadata": {},
   "outputs": [],
   "source": [
    "sns.set_context(\"poster\")\n",
    "sns.set_style(\"ticks\")\n",
    "sns.set(font_scale=2)"
   ]
  },
  {
   "cell_type": "markdown",
   "metadata": {},
   "source": [
    "## total with combined substances"
   ]
  },
  {
   "cell_type": "code",
   "execution_count": null,
   "metadata": {},
   "outputs": [],
   "source": [
    "data_final_clean_3s = data_final\n",
    "data_final_clean_3s.head()"
   ]
  },
  {
   "cell_type": "markdown",
   "metadata": {},
   "source": [
    "### total intake sum min"
   ]
  },
  {
   "cell_type": "code",
   "execution_count": null,
   "metadata": {},
   "outputs": [],
   "source": [
    "data_VDM_total_min = data_VDM_start.groupby(['IdRFID', 'Sex', 'VDM_min_count_running',\n",
    "                                   ])[['intake_ml_kg']].sum().reset_index()\n",
    "\n",
    "data_VDM_total_min.head()"
   ]
  },
  {
   "cell_type": "code",
   "execution_count": null,
   "metadata": {},
   "outputs": [],
   "source": [
    "sns.displot(data=data_VDM_total_min, x=\"intake_ml_kg\", kind='ecdf', hue='Sex',\n",
    "           palette='PuBuGn')\n",
    "\n",
    "plt.xlabel('Intake (ml/kg) per minute')\n",
    "\n",
    "plt.xlim(0,10)"
   ]
  },
  {
   "cell_type": "markdown",
   "metadata": {},
   "source": [
    "### total intake sum"
   ]
  },
  {
   "cell_type": "code",
   "execution_count": null,
   "metadata": {},
   "outputs": [],
   "source": [
    "data_VDM_total = data_final_clean_3s.groupby(['IdRFID', 'Sex', \n",
    "                                   ])[['intake_ml_kg']].sum().reset_index()\n",
    "\n",
    "data_VDM_total.head()"
   ]
  },
  {
   "cell_type": "code",
   "execution_count": null,
   "metadata": {},
   "outputs": [],
   "source": [
    "g = sns.catplot(x='Sex', y='intake_ml_kg', data=data_VDM_total,  kind='bar', height=5, aspect=1,\n",
    "            ci=68, palette='PuBuGn')\n",
    "\n",
    "# map data to stripplot\n",
    "g.map(sns.stripplot, 'Sex', 'intake_ml_kg', \n",
    "      palette=sns.color_palette('PuBuGn')[2:4], dodge=True, alpha=0.6, ec='k', linewidth=1)\n",
    "plt.ylabel('Total intake (ml/kg)')\n",
    "plt.show()\n",
    "\n",
    "male = data_VDM_total[data_VDM_total['Sex']=='male']['intake_ml_kg']\n",
    "female = data_VDM_total[data_VDM_total['Sex']=='female']['intake_ml_kg']\n",
    "stats.ttest_ind(female, male)"
   ]
  },
  {
   "cell_type": "markdown",
   "metadata": {},
   "source": [
    "## light dark with combined substances"
   ]
  },
  {
   "cell_type": "markdown",
   "metadata": {},
   "source": [
    "### total intake sum min"
   ]
  },
  {
   "cell_type": "code",
   "execution_count": null,
   "metadata": {},
   "outputs": [],
   "source": [
    "data_VDM_total_ld_min = data_VDM_start.groupby(['IdRFID', 'Sex', 'VDM_min_count_running', 'ld_cycle',\n",
    "                                   ])[['intake_ml_kg']].sum().reset_index()\n",
    "\n",
    "data_VDM_total_ld_min.head()"
   ]
  },
  {
   "cell_type": "code",
   "execution_count": null,
   "metadata": {},
   "outputs": [],
   "source": [
    "g=sns.displot(data=data_VDM_total_ld_min, x=\"intake_ml_kg\", kind='ecdf', hue='ld_cycle', col='Sex', palette='PuBuGn')\n",
    "#plt.ylim(0,2000)\n",
    "plt.xlim(0,10)\n",
    "\n",
    "g.set_axis_labels('Intake (ml/kg) per minute')\n",
    "plt.show()"
   ]
  },
  {
   "cell_type": "markdown",
   "metadata": {},
   "source": [
    "### total intake sum"
   ]
  },
  {
   "cell_type": "code",
   "execution_count": null,
   "metadata": {},
   "outputs": [],
   "source": [
    "data_VDM_total_ld = data_final_clean_3s.groupby(['IdRFID', 'Sex', 'ld_cycle',\n",
    "                                   ])[['intake_ml_kg']].sum().reset_index()\n",
    "\n",
    "data_VDM_total_ld.head()"
   ]
  },
  {
   "cell_type": "code",
   "execution_count": null,
   "metadata": {},
   "outputs": [],
   "source": [
    "g= sns.catplot(x='ld_cycle', y='intake_ml_kg', data=data_VDM_total_ld,  kind='bar', height=5, aspect=1,\n",
    "            ci=68, hue='Sex', palette='PuBuGn')\n",
    "\n",
    "# map data to stripplot\n",
    "g.map(sns.stripplot, 'ld_cycle', 'intake_ml_kg', 'Sex',\n",
    "      palette=sns.color_palette('PuBuGn')[2:4], dodge=True, alpha=0.6, ec='k', linewidth=1)\n",
    "\n",
    "\n",
    "plt.xlabel('Light/Dark Cycle')\n",
    "plt.ylabel('Total intake (ml/kg)')\n",
    "plt.show()"
   ]
  },
  {
   "cell_type": "code",
   "execution_count": null,
   "metadata": {
    "scrolled": true
   },
   "outputs": [],
   "source": [
    "dv = 'intake_ml_kg'\n",
    "\n",
    "#RM using Pingouin\n",
    "aov = pg.mixed_anova(dv=dv, within='ld_cycle', between='Sex', subject='IdRFID', data=data_VDM_total_ld)\n",
    "pg.print_table(aov)\n",
    "\n",
    "#posthocs\n",
    "posthocs = pg.pairwise_ttests(dv=dv, within='ld_cycle', between='Sex',\n",
    "                              subject='IdRFID', data=data_VDM_total_ld, padjust='holm')\n",
    "pg.print_table(posthocs)"
   ]
  },
  {
   "cell_type": "markdown",
   "metadata": {},
   "source": [
    "## daily total with combined substances"
   ]
  },
  {
   "cell_type": "markdown",
   "metadata": {},
   "source": [
    "### total intake sum min"
   ]
  },
  {
   "cell_type": "code",
   "execution_count": null,
   "metadata": {},
   "outputs": [],
   "source": [
    "data_VDM_total_daily_min = data_VDM_start.groupby(['IdRFID', 'Sex', 'VDM_min_count_running', 'ld_day',\n",
    "                                   ])[['intake_ml_kg']].sum().reset_index()\n",
    "\n",
    "data_VDM_total_daily_min.head()"
   ]
  },
  {
   "cell_type": "code",
   "execution_count": null,
   "metadata": {},
   "outputs": [],
   "source": [
    "g=sns.displot(data=data_VDM_total_daily_min, x=\"intake_ml_kg\", kind='ecdf', hue='ld_day', col='Sex', palette='PuBuGn')\n",
    "#plt.ylim(0,2000)\n",
    "plt.xlim(0,10)\n",
    "\n",
    "g.set_axis_labels('Intake (ml/kg) per minute')\n",
    "plt.show()"
   ]
  },
  {
   "cell_type": "markdown",
   "metadata": {},
   "source": [
    "### total intake sum"
   ]
  },
  {
   "cell_type": "code",
   "execution_count": null,
   "metadata": {},
   "outputs": [],
   "source": [
    "data_VDM_total_daily = data_final_clean_3s.groupby(['IdRFID', 'Sex', 'ld_day',\n",
    "                                   ])[['intake_ml_kg']].sum().reset_index()\n",
    "\n",
    "data_VDM_total_daily.head()"
   ]
  },
  {
   "cell_type": "code",
   "execution_count": null,
   "metadata": {},
   "outputs": [],
   "source": [
    "g= sns.catplot(x='ld_day', y='intake_ml_kg', data=data_VDM_total_daily,  kind='bar', height=5, aspect=2,\n",
    "            ci=68, hue='Sex', palette='PuBuGn')\n",
    "\n",
    "# map data to stripplot\n",
    "g.map(sns.stripplot, 'ld_day', 'intake_ml_kg', 'Sex',\n",
    "      palette=sns.color_palette('PuBuGn')[2:4], dodge=True, alpha=0.6, ec='k', linewidth=1)\n",
    "\n",
    "plt.xlabel('Day')\n",
    "plt.ylabel('Total intake (ml/kg)')\n",
    "plt.show()"
   ]
  },
  {
   "cell_type": "code",
   "execution_count": null,
   "metadata": {
    "scrolled": true
   },
   "outputs": [],
   "source": [
    "dv = 'intake_ml_kg'\n",
    "\n",
    "#RM using Pingouin\n",
    "aov = pg.mixed_anova(dv=dv, within='ld_day', between='Sex', subject='IdRFID', data=data_VDM_total_daily)\n",
    "pg.print_table(aov)\n",
    "\n",
    "#posthocs\n",
    "posthocs = pg.pairwise_ttests(dv=dv, within='ld_day', between='Sex',\n",
    "                              subject='IdRFID', data=data_VDM_total_daily, padjust='holm')\n",
    "pg.print_table(posthocs)"
   ]
  },
  {
   "cell_type": "markdown",
   "metadata": {},
   "source": [
    "## hourly total with combined substances"
   ]
  },
  {
   "cell_type": "markdown",
   "metadata": {},
   "source": [
    "### total intake sum"
   ]
  },
  {
   "cell_type": "code",
   "execution_count": null,
   "metadata": {},
   "outputs": [],
   "source": [
    "data_VDM_total_zeit = data_final_clean_3s.groupby(['IdRFID', 'Sex', 'zeitgeber',\n",
    "                                   ])[['intake_ml_kg']].sum().reset_index()\n",
    "\n",
    "data_VDM_total_zeit.head()"
   ]
  },
  {
   "cell_type": "code",
   "execution_count": null,
   "metadata": {},
   "outputs": [],
   "source": [
    "g= sns.catplot(x='zeitgeber', y='intake_ml_kg', data=data_VDM_total_zeit,  kind='bar', height=5, aspect=2,\n",
    "            ci=68, hue='Sex', palette='PuBuGn')\n",
    "\n",
    "# map data to stripplot\n",
    "g.map(sns.stripplot, 'zeitgeber', 'intake_ml_kg', 'Sex',\n",
    "      palette=sns.color_palette('PuBuGn')[2:4], dodge=True, alpha=0.6, ec='k', linewidth=1)\n",
    "\n",
    "plt.xlabel('Zeitgeber time (hour)')\n",
    "plt.ylabel('Total intake (ml/kg)')\n",
    "plt.show()"
   ]
  },
  {
   "cell_type": "code",
   "execution_count": null,
   "metadata": {},
   "outputs": [],
   "source": [
    "dv = 'intake_ml_kg'\n",
    "\n",
    "#RM using Pingouin\n",
    "aov = pg.mixed_anova(dv=dv, within='zeitgeber', between='Sex', subject='IdRFID', data=data_VDM_total_zeit)\n",
    "pg.print_table(aov)\n",
    "\n",
    "#posthocs\n",
    "posthocs = pg.pairwise_ttests(dv=dv, within='zeitgeber', between='Sex',\n",
    "                              subject='IdRFID', data=data_VDM_total_zeit, padjust='bonf')\n",
    "pg.print_table(posthocs)"
   ]
  },
  {
   "cell_type": "markdown",
   "metadata": {},
   "source": [
    "## daily and hourly combines substances heatmap"
   ]
  },
  {
   "cell_type": "markdown",
   "metadata": {},
   "source": [
    "### total drinking"
   ]
  },
  {
   "cell_type": "code",
   "execution_count": null,
   "metadata": {},
   "outputs": [],
   "source": [
    "data_VDM_total_hour_day = data_final_clean_3s.groupby(['IdRFID', 'Sex', 'zeitgeber', 'ld_day',\n",
    "                                   ])['intake_ml_kg'].sum().reset_index()\n",
    "\n",
    "data_VDM_total_hour_day.head()"
   ]
  },
  {
   "cell_type": "code",
   "execution_count": null,
   "metadata": {},
   "outputs": [],
   "source": [
    "d = data_VDM_total_hour_day[data_VDM_total_hour_day['Sex']=='female']\n",
    "groupby = d.groupby(['ld_day', 'zeitgeber'])['intake_ml_kg'].mean().reset_index()\n",
    "\n",
    "\n",
    "sns.set(font_scale=2)\n",
    "groupby = groupby.pivot('ld_day', 'zeitgeber', \"intake_ml_kg\")\n",
    "plt.figure(figsize=(5,5))\n",
    "ax = sns.heatmap(groupby, cmap=\"PuBuGn\", linewidths=.25, vmax=15,\n",
    "                     cbar_kws={'label': 'Total intake (ml/kg)'})\n",
    "\n",
    "#plt.xlabel('Bottle')\n",
    "plt.show()"
   ]
  },
  {
   "cell_type": "markdown",
   "metadata": {},
   "source": [
    "## total with separate substances"
   ]
  },
  {
   "cell_type": "markdown",
   "metadata": {},
   "source": [
    "### total intake sum min"
   ]
  },
  {
   "cell_type": "code",
   "execution_count": null,
   "metadata": {},
   "outputs": [],
   "source": [
    "data_VDM_total_sub_min = data_VDM_start.groupby(['IdRFID', 'Sex', 'VDM_min_count_running', 'substance',\n",
    "                                   ])[['intake_ml_kg']].sum().reset_index()\n",
    "\n",
    "data_VDM_total_sub_min.head()"
   ]
  },
  {
   "cell_type": "code",
   "execution_count": null,
   "metadata": {},
   "outputs": [],
   "source": [
    "g=sns.displot(data=data_VDM_total_sub_min, x=\"intake_ml_kg\", kind='ecdf', hue='substance', col='Sex', \n",
    "              hue_order=order, palette='PuBuGn')\n",
    "#plt.ylim(0,2000)\n",
    "plt.xlim(0,10)\n",
    "\n",
    "g.set_axis_labels('Intake (ml/kg) per minute')\n",
    "plt.show()"
   ]
  },
  {
   "cell_type": "markdown",
   "metadata": {},
   "source": [
    "### total intake sum"
   ]
  },
  {
   "cell_type": "code",
   "execution_count": null,
   "metadata": {},
   "outputs": [],
   "source": [
    "data_VDM_total_sub = data_final_clean_3s.groupby(['IdRFID', 'Sex', 'substance',\n",
    "                                   ])[['intake_ml_kg']].sum().reset_index()\n",
    "\n",
    "data_VDM_total_sub.tail()"
   ]
  },
  {
   "cell_type": "code",
   "execution_count": null,
   "metadata": {},
   "outputs": [],
   "source": [
    "g= sns.catplot(x='substance', y='intake_ml_kg', data=data_VDM_total_sub,  kind='bar', height=5, aspect=2,\n",
    "            ci=68, hue='Sex', order=order, palette='PuBuGn')\n",
    "\n",
    "# map data to stripplot\n",
    "g.map(sns.stripplot, 'substance', 'intake_ml_kg', 'Sex',\n",
    "      palette=sns.color_palette('PuBuGn')[2:4], dodge=True, alpha=0.6, ec='k', linewidth=1,\n",
    "      order=order,)\n",
    "\n",
    "plt.xlabel('Chamber substance')\n",
    "plt.ylabel('Total intake (ml/kg)')\n",
    "plt.show()"
   ]
  },
  {
   "cell_type": "code",
   "execution_count": null,
   "metadata": {
    "scrolled": true
   },
   "outputs": [],
   "source": [
    "dv = 'intake_ml_kg'\n",
    "\n",
    "#RM using Pingouin\n",
    "aov = pg.mixed_anova(dv=dv, within='substance', between='Sex', subject='IdRFID', data=data_VDM_total_sub)\n",
    "pg.print_table(aov)\n",
    "\n",
    "#posthocs\n",
    "posthocs = pg.pairwise_ttests(dv=dv, within='substance', between='Sex',\n",
    "                              subject='IdRFID', data=data_VDM_total_sub, padjust='bonf')\n",
    "pg.print_table(posthocs)"
   ]
  },
  {
   "cell_type": "markdown",
   "metadata": {},
   "source": [
    "## light dark with separate substances "
   ]
  },
  {
   "cell_type": "markdown",
   "metadata": {},
   "source": [
    "### total intake"
   ]
  },
  {
   "cell_type": "code",
   "execution_count": null,
   "metadata": {},
   "outputs": [],
   "source": [
    "data_VDM_total_sub_ld = data_final_clean_3s.groupby(['IdRFID', 'Sex', 'ld_cycle', 'substance',\n",
    "                                   ])[['intake_ml_kg']].sum().reset_index()\n",
    "\n",
    "data_VDM_total_sub_ld.head()"
   ]
  },
  {
   "cell_type": "code",
   "execution_count": null,
   "metadata": {},
   "outputs": [],
   "source": [
    "d = data_VDM_total_sub_ld[data_VDM_total_sub_ld['Sex']=='female']\n",
    "\n",
    "g= sns.catplot(x='ld_cycle', y='intake_ml_kg', data=d,  kind='bar', height=5, aspect=1,\n",
    "            ci=68, hue='substance', palette='PuBuGn', hue_order=order)\n",
    "\n",
    "# map data to stripplot\n",
    "g.map(sns.stripplot, 'ld_cycle', 'intake_ml_kg', 'substance', hue_order=order,\n",
    "      palette=sns.color_palette('PuBuGn')[2:4], dodge=True, alpha=0.6, ec='k', linewidth=1)\n",
    "\n",
    "plt.ylim(0,1250)\n",
    "plt.xlabel('Light/Dark Cycle')\n",
    "plt.ylabel('Total intake (ml/kg)')\n",
    "plt.show()"
   ]
  },
  {
   "cell_type": "code",
   "execution_count": null,
   "metadata": {},
   "outputs": [],
   "source": [
    "data_VDM_total_sub_ld.set_index(['IdRFID', 'Sex', 'ld_cycle', 'substance'])['intake_ml_kg'].unstack(-1).to_csv('data_VDM_total_sub_ld.csv')"
   ]
  },
  {
   "cell_type": "markdown",
   "metadata": {},
   "source": [
    "## daily with separate substances "
   ]
  },
  {
   "cell_type": "code",
   "execution_count": null,
   "metadata": {},
   "outputs": [],
   "source": [
    "data_VDM_total_sub_day = data_final_clean_3s.groupby(['IdRFID', 'Sex', 'ld_day', 'substance',\n",
    "                                   ])[['intake_ml_kg']].sum().reset_index()\n",
    "\n",
    "data_VDM_total_sub_day.head()"
   ]
  },
  {
   "cell_type": "code",
   "execution_count": null,
   "metadata": {},
   "outputs": [],
   "source": [
    "sub = 'Fent20'\n",
    "d = data_VDM_total_sub_day[data_VDM_total_sub_day['substance']==sub]\n",
    "\n",
    "g= sns.catplot(x='Sex', y='intake_ml_kg', data=d,  kind='bar', height=5, aspect=1,\n",
    "            ci=68, hue='ld_day', palette='PuBuGn')\n",
    "\n",
    "# map data to stripplot\n",
    "g.map(sns.stripplot, 'Sex', 'intake_ml_kg', 'ld_day', \n",
    "      palette=sns.color_palette('PuBuGn')[2:4], dodge=True, alpha=0.6, ec='k', linewidth=1)\n",
    "\n",
    "plt.ylim(0,250)\n",
    "plt.title(sub)\n",
    "plt.xlabel('Day')\n",
    "plt.ylabel('Daily intake (ml/kg)')\n",
    "plt.show()"
   ]
  },
  {
   "cell_type": "code",
   "execution_count": null,
   "metadata": {
    "scrolled": true
   },
   "outputs": [],
   "source": [
    "dv = 'intake_ml_kg'\n",
    "\n",
    "#RM using Pingouin\n",
    "aov = pg.mixed_anova(dv=dv, within='ld_day', between='Sex', subject='IdRFID', data=d)\n",
    "pg.print_table(aov)\n",
    "\n",
    "#posthocs\n",
    "posthocs = pg.pairwise_ttests(dv=dv, within='ld_day', between='Sex',\n",
    "                              subject='IdRFID', data=d, padjust='fdr_bh')\n",
    "pg.print_table(posthocs)"
   ]
  },
  {
   "cell_type": "markdown",
   "metadata": {},
   "source": [
    "## daily and hourly total with separate substances heatmap"
   ]
  },
  {
   "cell_type": "markdown",
   "metadata": {},
   "source": [
    "### total intake"
   ]
  },
  {
   "cell_type": "code",
   "execution_count": null,
   "metadata": {},
   "outputs": [],
   "source": [
    "data_VDM_total_sub_day_hour = data_final_clean_3s.groupby(['IdRFID', 'Sex', 'substance', 'ld_day', 'zeitgeber',\n",
    "                                   ])[['intake_ml_kg']].sum().reset_index()\n",
    "\n",
    "data_VDM_total_sub_day_hour.head()"
   ]
  },
  {
   "cell_type": "code",
   "execution_count": null,
   "metadata": {},
   "outputs": [],
   "source": [
    "d = data_VDM_total_sub_day_hour[data_VDM_total_sub_day_hour['Sex']=='female']\n",
    "d = d[d['substance']=='Fent20']\n",
    "groupby = d.groupby(['ld_day', 'zeitgeber'])['intake_ml_kg'].mean().reset_index()\n",
    "\n",
    "\n",
    "sns.set(font_scale=2)\n",
    "groupby = groupby.pivot('ld_day', 'zeitgeber', \"intake_ml_kg\")\n",
    "plt.figure(figsize=(5,5))\n",
    "ax = sns.heatmap(groupby, cmap=\"PuBuGn\", linewidths=.25, vmax=10,\n",
    "                     cbar_kws={'label': 'Total intake (ml/kg)'})\n",
    "\n",
    "#plt.xlabel('Bottle')\n",
    "plt.show()"
   ]
  },
  {
   "cell_type": "markdown",
   "metadata": {},
   "source": [
    "## ID heatmap"
   ]
  },
  {
   "cell_type": "code",
   "execution_count": null,
   "metadata": {},
   "outputs": [],
   "source": [
    "data_VDM_total_sub['Id'] = data_VDM_total_sub['Sex'] + '_' + data_VDM_total_sub['IdRFID'].astype('str')\n",
    "data_VDM_total_sub.head()"
   ]
  },
  {
   "cell_type": "code",
   "execution_count": null,
   "metadata": {
    "scrolled": false
   },
   "outputs": [],
   "source": [
    "sns.set(font_scale=2)\n",
    "groupby = data_VDM_total_sub.pivot('Id', 'substance', \"intake_ml_kg\")\n",
    "plt.figure(figsize=(5,30))\n",
    "ax = sns.heatmap(groupby, cmap=\"PuBuGn\", linewidths=.25, \n",
    "                     cbar_kws={'label': 'Total intake (ml/kg)'})\n",
    "\n",
    "#plt.xlabel('Bottle')\n",
    "plt.show()"
   ]
  },
  {
   "cell_type": "markdown",
   "metadata": {},
   "source": [
    "## raster"
   ]
  },
  {
   "cell_type": "code",
   "execution_count": null,
   "metadata": {},
   "outputs": [],
   "source": [
    "data_VDM_start.head()"
   ]
  },
  {
   "cell_type": "code",
   "execution_count": null,
   "metadata": {},
   "outputs": [],
   "source": [
    "mice = ['041AC1620E', '041AC15DE9', '041AC16321', '041AC16A00', ]\n",
    "data_idivid = data_VDM_start[data_VDM_start['IdRFID']==mice[3]]\n",
    "data_idivid = data_idivid[data_idivid['ld_day']==4]\n",
    "colorCodes = ['C{}'.format(i) for i in range(5)]\n",
    "\n",
    "param = 'VDM_sec_count_running'\n",
    "data_1 = data_idivid[data_idivid['substance'] == 'water'][param].values\n",
    "data_2 = data_idivid[data_idivid['substance'] == 'EtOH05'][param].values\n",
    "data_3 = data_idivid[data_idivid['substance'] == 'EtOH10'][param].values\n",
    "data_4 = data_idivid[data_idivid['substance'] == 'Fent05'][param].values\n",
    "data_5 = data_idivid[data_idivid['substance'] == 'Fent20'][param].values\n",
    "\n",
    "data_array = np.array([data_1, data_2, data_3, data_4, data_5])\n",
    "\n",
    "# Draw a spike raster plot\n",
    "plt.figure(figsize=(19,5))\n",
    "params = {'axes.labelsize': 75,\n",
    "          'axes.titlesize': 75}\n",
    "plt.rc('xtick', labelsize=40) \n",
    "plt.rc('ytick', labelsize=40) \n",
    "plt.rcParams.update(params)\n",
    "plt.yticks([0,1,2,3,4], \n",
    "           ['water', 'EtOH05', 'EtOH10', 'Fent05', 'Fent20'])\n",
    "plt.eventplot(data_array, color=colorCodes, linelengths = 0.3) \n",
    "plt.xlabel('Time (running second count)', fontsize=50)\n",
    "plt.ylabel('Drinking chamber', fontsize=50)\n",
    "\n",
    "plt.show()"
   ]
  },
  {
   "cell_type": "markdown",
   "metadata": {},
   "source": [
    "## preference"
   ]
  },
  {
   "cell_type": "markdown",
   "metadata": {},
   "source": [
    "#### total by substance"
   ]
  },
  {
   "cell_type": "code",
   "execution_count": null,
   "metadata": {},
   "outputs": [],
   "source": [
    "data_summary_vol = data_VDM_total_sub.set_index(['IdRFID', 'Sex', \n",
    "                                  'substance'])[['intake_ml_kg']].unstack(-1).reset_index()\n",
    "\n",
    "data_summary_vol.columns = ['IdRFID', 'Sex', \n",
    "                        'EtOH05', 'EtOH10', 'Fent05', 'Fent20', 'water',]\n",
    "\n",
    "data_summary_vol.replace(np.nan, 0, inplace=True)\n",
    "\n",
    "data_summary_vol['total_alcohol_intake'] = data_summary_vol['EtOH05'] + data_summary_vol['EtOH10'] \n",
    "data_summary_vol['total_fent_intake'] = data_summary_vol['Fent05'] + data_summary_vol['Fent20'] \n",
    "\n",
    "data_summary_vol['overall_alcohol_pref'] = data_summary_vol['total_alcohol_intake'] / (data_summary_vol['total_alcohol_intake'] + data_summary_vol['water'])\n",
    "data_summary_vol['overall_fent_pref'] = data_summary_vol['total_fent_intake'] / (data_summary_vol['total_fent_intake'] + data_summary_vol['water'])\n",
    "\n",
    "data_summary_vol['DP_alcohol'] =  ((data_summary_vol['EtOH05']*.05) + (data_summary_vol['EtOH10']*.1))  \\\n",
    "/ (data_summary_vol['EtOH05'] + data_summary_vol['EtOH10'])\n",
    "\n",
    "data_summary_vol['DP_fent'] =  ((data_summary_vol['Fent05']*.05) + (data_summary_vol['Fent20']*.2))  \\\n",
    "/ (data_summary_vol['Fent05'] + data_summary_vol['Fent20'])\n",
    "\n",
    "data_summary_vol.replace(np.nan, 0, inplace=True)\n",
    "\n",
    "data_summary_vol.head()"
   ]
  },
  {
   "cell_type": "code",
   "execution_count": null,
   "metadata": {},
   "outputs": [],
   "source": [
    "g = sns.catplot(x='Sex', y='DP_fent', data=data_summary_vol,  kind='bar', height=5, aspect=1,\n",
    "            ci=68, palette='PuBuGn')\n",
    "\n",
    "# map data to stripplot\n",
    "g.map(sns.stripplot, 'Sex', 'DP_fent', \n",
    "      palette=sns.color_palette('PuBuGn')[2:4], dodge=True, alpha=0.6, ec='k', linewidth=1)\n",
    "plt.ylabel('Fentanly Dose Preference')\n",
    "plt.ylim(0,.2)\n",
    "plt.show()\n",
    "\n",
    "male = data_summary_vol[data_summary_vol['Sex']=='male']['DP_fent']\n",
    "female = data_summary_vol[data_summary_vol['Sex']=='female']['DP_fent']\n",
    "stats.ttest_ind(female, male)"
   ]
  },
  {
   "cell_type": "markdown",
   "metadata": {},
   "source": [
    "#### ld total by substance"
   ]
  },
  {
   "cell_type": "code",
   "execution_count": null,
   "metadata": {},
   "outputs": [],
   "source": [
    "data_summary_vol_day = data_VDM_total_sub_day.set_index(['IdRFID', 'Sex', 'ld_day', \n",
    "                                  'substance'])[['intake_ml_kg']].unstack(-1).reset_index()\n",
    "\n",
    "data_summary_vol_day.columns = ['IdRFID', 'Sex', 'ld_day',\n",
    "                        'EtOH05', 'EtOH10', 'Fent05', 'Fent20', 'water',]\n",
    "\n",
    "data_summary_vol_day.replace(np.nan, 0, inplace=True)\n",
    "\n",
    "data_summary_vol_day['total_alcohol_intake'] = data_summary_vol_day['EtOH05'] + data_summary_vol_day['EtOH10'] \n",
    "data_summary_vol_day['total_fent_intake'] = data_summary_vol_day['Fent05'] + data_summary_vol_day['Fent20'] \n",
    "\n",
    "data_summary_vol_day['overall_alcohol_pref'] = data_summary_vol_day['total_alcohol_intake'] / (data_summary_vol_day['total_alcohol_intake'] + data_summary_vol_day['water'])\n",
    "data_summary_vol_day['overall_fent_pref'] = data_summary_vol_day['total_fent_intake'] / (data_summary_vol_day['total_fent_intake'] + data_summary_vol_day['water'])\n",
    "\n",
    "data_summary_vol_day['DP_alcohol'] =  ((data_summary_vol_day['EtOH05']*.05) + (data_summary_vol_day['EtOH10']*.1))  \\\n",
    "/ (data_summary_vol_day['EtOH05'] + data_summary_vol_day['EtOH10'])\n",
    "\n",
    "data_summary_vol_day['DP_fent'] =  ((data_summary_vol_day['Fent05']*.05) + (data_summary_vol_day['Fent20']*.2))  \\\n",
    "/ (data_summary_vol_day['Fent05'] + data_summary_vol_day['Fent20'])\n",
    "\n",
    "data_summary_vol_day.replace(np.nan, 0, inplace=True)\n",
    "data_summary_vol_day.head()"
   ]
  },
  {
   "cell_type": "code",
   "execution_count": null,
   "metadata": {},
   "outputs": [],
   "source": [
    "g= sns.catplot(x='ld_day', y='DP_fent', data=data_summary_vol_day,  kind='bar', height=5, aspect=1,\n",
    "            ci=68, hue='Sex', palette='PuBuGn')\n",
    "\n",
    "# map data to DP_fent\n",
    "g.map(sns.stripplot, 'ld_day', 'DP_fent', 'Sex', \n",
    "      palette=sns.color_palette('PuBuGn')[2:4], dodge=True, alpha=0.6, ec='k', linewidth=1)\n",
    "\n",
    "#plt.ylim(0,1250)\n",
    "plt.xlabel('Day')\n",
    "plt.ylabel('Fentanly Dose Preference')\n",
    "plt.show()"
   ]
  },
  {
   "cell_type": "code",
   "execution_count": null,
   "metadata": {
    "scrolled": true
   },
   "outputs": [],
   "source": [
    "dv = 'DP_fent'\n",
    "\n",
    "#RM using Pingouin\n",
    "aov = pg.mixed_anova(dv=dv, within='ld_day', between='Sex', subject='IdRFID', data=data_summary_vol_day)\n",
    "pg.print_table(aov)\n",
    "\n",
    "#posthocs\n",
    "posthocs = pg.pairwise_ttests(dv=dv, within='ld_day', between='Sex',\n",
    "                              subject='IdRFID', data=data_summary_vol_day, padjust='fdr_bh')\n",
    "pg.print_table(posthocs)"
   ]
  },
  {
   "cell_type": "markdown",
   "metadata": {},
   "source": [
    "#### daily and hourly total by substance"
   ]
  },
  {
   "cell_type": "code",
   "execution_count": null,
   "metadata": {},
   "outputs": [],
   "source": [
    "data_summary_vol_day = data_VDM_total_sub_day_hour.set_index(['IdRFID', 'Sex', 'ld_day', 'zeitgeber',\n",
    "                                  'substance'])[['intake_ml_kg']].unstack(-1).reset_index()\n",
    "\n",
    "data_summary_vol_day.columns = ['IdRFID', 'Sex', 'ld_day', 'zeitgeber',\n",
    "                        'EtOH05', 'EtOH10', 'Fent05', 'Fent20', 'water',]\n",
    "\n",
    "data_summary_vol_day.replace(np.nan, 0, inplace=True)\n",
    "\n",
    "data_summary_vol_day['total_alcohol_intake'] = data_summary_vol_day['EtOH05'] + data_summary_vol_day['EtOH10'] \n",
    "data_summary_vol_day['total_fent_intake'] = data_summary_vol_day['Fent05'] + data_summary_vol_day['Fent20'] \n",
    "\n",
    "data_summary_vol_day['overall_alcohol_pref'] = data_summary_vol_day['total_alcohol_intake'] / (data_summary_vol_day['total_alcohol_intake'] + data_summary_vol_day['water'])\n",
    "data_summary_vol_day['overall_fent_pref'] = data_summary_vol_day['total_fent_intake'] / (data_summary_vol_day['total_fent_intake'] + data_summary_vol_day['water'])\n",
    "\n",
    "data_summary_vol_day['DP_alcohol'] =  ((data_summary_vol_day['EtOH05']*.05) + (data_summary_vol_day['EtOH10']*.1))  \\\n",
    "/ (data_summary_vol_day['EtOH05'] + data_summary_vol_day['EtOH10'])\n",
    "\n",
    "data_summary_vol_day['DP_fent'] =  ((data_summary_vol_day['Fent05']*.05) + (data_summary_vol_day['Fent20']*.2))  \\\n",
    "/ (data_summary_vol_day['Fent05'] + data_summary_vol_day['Fent20'])\n",
    "\n",
    "\n",
    "data_summary_vol_day.replace(np.nan, 0, inplace=True)\n",
    "\n",
    "data_summary_vol_day.head()"
   ]
  },
  {
   "cell_type": "code",
   "execution_count": null,
   "metadata": {},
   "outputs": [],
   "source": [
    "d = data_summary_vol_day[data_summary_vol_day['Sex']=='male']\n",
    "\n",
    "groupby = d.groupby(['ld_day', 'zeitgeber'])['overall_fent_pref'].mean().reset_index()\n",
    "\n",
    "\n",
    "sns.set(font_scale=2)\n",
    "groupby = groupby.pivot('ld_day', 'zeitgeber', \"overall_fent_pref\")\n",
    "plt.figure(figsize=(5,5))\n",
    "ax = sns.heatmap(groupby, cmap=\"PuBuGn\", linewidths=.25, vmax=1,\n",
    "                     cbar_kws={'label': 'Fentanyl Preference'})\n",
    "\n",
    "#plt.xlabel('Bottle')\n",
    "plt.show()"
   ]
  }
 ],
 "metadata": {
  "kernelspec": {
   "display_name": "Python 3",
   "language": "python",
   "name": "python3"
  },
  "language_info": {
   "codemirror_mode": {
    "name": "ipython",
    "version": 3
   },
   "file_extension": ".py",
   "mimetype": "text/x-python",
   "name": "python",
   "nbconvert_exporter": "python",
   "pygments_lexer": "ipython3",
   "version": "3.6.12"
  },
  "toc": {
   "base_numbering": 1,
   "nav_menu": {},
   "number_sections": true,
   "sideBar": true,
   "skip_h1_title": false,
   "title_cell": "Table of Contents",
   "title_sidebar": "Contents",
   "toc_cell": false,
   "toc_position": {
    "height": "calc(100% - 180px)",
    "left": "10px",
    "top": "150px",
    "width": "276.333px"
   },
   "toc_section_display": true,
   "toc_window_display": true
  }
 },
 "nbformat": 4,
 "nbformat_minor": 2
}
