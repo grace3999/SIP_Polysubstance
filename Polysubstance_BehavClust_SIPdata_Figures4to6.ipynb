{
 "cells": [
  {
   "cell_type": "code",
   "execution_count": null,
   "metadata": {},
   "outputs": [],
   "source": [
    "#getting and working with data\n",
    "import pandas as pd\n",
    "import numpy as np\n",
    "import re\n",
    "import os\n",
    "import datetime as dt\n",
    "import string\n",
    "\n",
    "from scipy import stats\n",
    "from statsmodels.formula.api import ols\n",
    "from statsmodels.stats.anova import anova_lm\n",
    "from statsmodels.stats.anova import AnovaRM\n",
    "from statsmodels.graphics.factorplots import interaction_plot\n",
    "\n",
    "from scipy.stats import chi2_contingency\n",
    "from scipy.stats import f_oneway\n",
    "import statsmodels.api as sm\n",
    "from statsmodels.formula.api import ols\n",
    "import pingouin as pg\n",
    "from pingouin import ttest\n",
    "\n",
    "from CosinorPy import file_parser, cosinor, cosinor1\n",
    "\n",
    "from sklearn.preprocessing import StandardScaler\n",
    "from sklearn.preprocessing import RobustScaler\n",
    "from sklearn import metrics\n",
    "\n",
    "#dimensionality reduction\n",
    "from sklearn.decomposition import PCA\n",
    "\n",
    "#clustering\n",
    "from sklearn.cluster import KMeans\n",
    "import scipy.cluster.hierarchy as shc\n",
    "from bioinfokit.visuz import cluster\n",
    "\n",
    "#visualizing results\n",
    "import matplotlib.pyplot as plt\n",
    "%matplotlib inline\n",
    "import seaborn as sns\n",
    "\n",
    "sns.set_context(\"poster\")\n",
    "sns.set_style(\"ticks\")\n",
    "sns.set(font_scale=2)\n",
    "\n",
    "pd.set_option('display.max_rows', 500)\n",
    "pd.set_option('display.max_columns', 500)\n",
    "pd.set_option('display.width', 15000)\n",
    "pd.set_option('display.max_colwidth', -1)\n",
    "\n",
    "import warnings; warnings.simplefilter('ignore')\n",
    "np.set_printoptions(suppress=True)"
   ]
  },
  {
   "cell_type": "markdown",
   "metadata": {},
   "source": [
    "# Get data"
   ]
  },
  {
   "cell_type": "markdown",
   "metadata": {},
   "source": [
    "## Get filtered drinking data combined with RFID (already processed in other nb)"
   ]
  },
  {
   "cell_type": "code",
   "execution_count": null,
   "metadata": {},
   "outputs": [],
   "source": [
    "path = '/Users/abbieschindler/Documents/Schindler_Lab/Data/RFID_VDM/polysubstance_paper/data/final/clean/VDM/VDM_poly_final_clean_231103.csv'\n",
    "data_VDM_start = pd.read_csv(path)\n",
    "data_VDM_start = pd.DataFrame(data = data_VDM_start)\n",
    "data_VDM_start['Id'] = data_VDM_start['Sex'] + '_' + data_VDM_start['IdRFID'].astype('str')\n",
    "\n",
    "print(data_VDM_start.shape)\n",
    "data_VDM_start.head()"
   ]
  },
  {
   "cell_type": "code",
   "execution_count": null,
   "metadata": {
    "scrolled": true
   },
   "outputs": [],
   "source": [
    "data_VDM_start.groupby(['IdRFID'])['ld_day'].max()"
   ]
  },
  {
   "cell_type": "code",
   "execution_count": null,
   "metadata": {},
   "outputs": [],
   "source": [
    "#some got taken out on 8th day \n",
    "data_VDM_start = data_VDM_start[data_VDM_start['ld_day']<8]\n",
    "data_VDM_start = data_VDM_start[data_VDM_start['ld_day']>0]\n",
    "data_VDM_start = data_VDM_start[data_VDM_start['VDM_RFID_timediff']<3]\n",
    "data_VDM_start = data_VDM_start[data_VDM_start['Cage_N']>1]\n",
    "\n",
    "data_VDM_start['intake_ml_kg'] = data_VDM_start['value'] / (data_VDM_start['weight_pre']/1000)\n",
    "\n",
    "data_VDM_start.head()"
   ]
  },
  {
   "cell_type": "code",
   "execution_count": null,
   "metadata": {},
   "outputs": [],
   "source": [
    "hour_to_zeit = {0:19,\n",
    "                1:20,\n",
    "                2:21,\n",
    "                3:22,\n",
    "                4:23,\n",
    "                5:24,\n",
    "                6:1,\n",
    "                7:2,\n",
    "                8:3,\n",
    "                9:4,\n",
    "                10:5,\n",
    "                11:6,\n",
    "                12:7,\n",
    "                13:8,\n",
    "                14:9,\n",
    "                15:10,\n",
    "                16:11,\n",
    "                17:12,\n",
    "                18:13,\n",
    "                19:14,\n",
    "                20:15,\n",
    "                21:16,\n",
    "                22:17,\n",
    "                23:18,\n",
    "               }\n",
    "\n",
    "data_VDM_start['zeitgeber'] = data_VDM_start['VDM_hour'].map(hour_to_zeit)"
   ]
  },
  {
   "cell_type": "code",
   "execution_count": null,
   "metadata": {},
   "outputs": [],
   "source": [
    "len(data_VDM_start[data_VDM_start['Sex']=='female']['IdRFID'].unique())"
   ]
  },
  {
   "cell_type": "code",
   "execution_count": null,
   "metadata": {},
   "outputs": [],
   "source": [
    "len(data_VDM_start[data_VDM_start['Sex']=='male']['IdRFID'].unique())"
   ]
  },
  {
   "cell_type": "code",
   "execution_count": null,
   "metadata": {},
   "outputs": [],
   "source": [
    "data_VDM_start.shape"
   ]
  },
  {
   "cell_type": "code",
   "execution_count": null,
   "metadata": {},
   "outputs": [],
   "source": [
    "data_VDM_total_ld_day_hour = data_VDM_start.groupby(['IdRFID', 'Sex', 'substance', 'ld_cycle', 'zeitgeber', 'ld_day',\n",
    "                                   ])['intake_ml_kg'].sum().reset_index()\n",
    "\n",
    "print(data_VDM_total_ld_day_hour.shape)\n",
    "data_VDM_total_ld_day_hour.head()"
   ]
  },
  {
   "cell_type": "code",
   "execution_count": null,
   "metadata": {},
   "outputs": [],
   "source": [
    "substances = ['water', 'EtOH05', 'EtOH10', 'Fent05', 'Fent20']\n",
    "data_final = pd.DataFrame()\n",
    "\n",
    "for IdRFID in data_VDM_total_ld_day_hour['IdRFID'].unique():\n",
    "    print(IdRFID)\n",
    "    \n",
    "    d_animal = data_VDM_total_ld_day_hour[data_VDM_total_ld_day_hour['IdRFID']==IdRFID]\n",
    "    \n",
    "    for substance in substances:\n",
    "        \n",
    "        days_hours_df = pd.DataFrame(0, index=np.arange(1,8), columns=data_VDM_start['zeitgeber'].unique()).unstack().reset_index()\n",
    "        days_hours_df.columns = ['zeitgeber', 'ld_day', 'ddd']\n",
    "        days_hours_df['ld_cycle'] = ['light' if x<13 else 'dark' for x in days_hours_df['zeitgeber']]\n",
    "        days_hours_df['substance'] = substance\n",
    "        days_hours_df['IdRFID'] = IdRFID\n",
    "        days_hours_df['Sex'] = d_animal['Sex'].values[0]\n",
    "        \n",
    "        x = days_hours_df.merge(d_animal, on=['IdRFID', 'Sex', 'ld_day', 'ld_cycle', 'zeitgeber', 'substance'], \n",
    "                                how='left').sort_values(['substance', 'ld_day', 'zeitgeber'])\n",
    "        \n",
    "        if data_final.empty:\n",
    "            data_final = x\n",
    "        else:\n",
    "            data_final = pd.concat([data_final, x], axis=0)\n",
    "        \n",
    "    print(data_final.shape,'\\n')\n",
    "\n",
    "data_final = data_final.fillna(0).sort_values(['IdRFID', 'substance', 'ld_day', 'zeitgeber'])\n",
    "data_final.head()"
   ]
  },
  {
   "cell_type": "markdown",
   "metadata": {},
   "source": [
    "## Get RFID data (already processed in other nb)"
   ]
  },
  {
   "cell_type": "code",
   "execution_count": null,
   "metadata": {},
   "outputs": [],
   "source": [
    "path = '/Users/abbieschindler/Documents/Schindler_Lab/Data/RFID_VDM/polysubstance_paper/data/final/clean/RFID/RFID_poly_final_clean_231103.csv'\n",
    "\n",
    "data_RFID_start = pd.read_csv(path)\n",
    "data_RFID_start = pd.DataFrame(data = data_RFID_start)\n",
    "print(data_RFID_start.shape)\n",
    "data_RFID_start.head()"
   ]
  },
  {
   "cell_type": "code",
   "execution_count": null,
   "metadata": {
    "scrolled": true
   },
   "outputs": [],
   "source": [
    "data_RFID_start.groupby(['IdRFID'])['ld_day'].max()"
   ]
  },
  {
   "cell_type": "code",
   "execution_count": null,
   "metadata": {},
   "outputs": [],
   "source": [
    "#some got taken out on 8th day so end at lights on day 8\n",
    "data_RFID_start = data_RFID_start[data_RFID_start['ld_day']<8]\n",
    "data_RFID_start = data_RFID_start[data_RFID_start['ld_day']>0]\n",
    "\n",
    "data_RFID_start = data_RFID_start[data_RFID_start['Cage_N']>1]\n",
    "print(data_RFID_start.shape)\n",
    "data_RFID_start.head()"
   ]
  },
  {
   "cell_type": "code",
   "execution_count": null,
   "metadata": {},
   "outputs": [],
   "source": [
    "hour_to_zeit = {0:19,\n",
    "                1:20,\n",
    "                2:21,\n",
    "                3:22,\n",
    "                4:23,\n",
    "                5:24,\n",
    "                6:1,\n",
    "                7:2,\n",
    "                8:3,\n",
    "                9:4,\n",
    "                10:5,\n",
    "                11:6,\n",
    "                12:7,\n",
    "                13:8,\n",
    "                14:9,\n",
    "                15:10,\n",
    "                16:11,\n",
    "                17:12,\n",
    "                18:13,\n",
    "                19:14,\n",
    "                20:15,\n",
    "                21:16,\n",
    "                22:17,\n",
    "                23:18,\n",
    "               }\n",
    "\n",
    "data_RFID_start['zeitgeber'] = data_RFID_start['RFID_hour'].map(hour_to_zeit)"
   ]
  },
  {
   "cell_type": "markdown",
   "metadata": {},
   "source": [
    "## Confirm matching RFIDs "
   ]
  },
  {
   "cell_type": "code",
   "execution_count": null,
   "metadata": {},
   "outputs": [],
   "source": [
    "set(data_RFID_start['IdRFID'].unique()) - set(data_VDM_start['IdRFID'].unique())"
   ]
  },
  {
   "cell_type": "code",
   "execution_count": null,
   "metadata": {},
   "outputs": [],
   "source": [
    "set(data_VDM_start['IdRFID'].unique()) - set(data_RFID_start['IdRFID'].unique())"
   ]
  },
  {
   "cell_type": "code",
   "execution_count": null,
   "metadata": {},
   "outputs": [],
   "source": [
    "sub_map = {'etoh_05': 'EtOH05',\n",
    "           'etoh_10': 'EtOH10',\n",
    "           'fent_05': 'Fent05',\n",
    "           'fent_20': 'Fent20',\n",
    "           'water_1': 'water',\n",
    "           'water_2': 'water',}\n",
    "\n",
    "data_RFID_start['substance'] = data_RFID_start['unitLabel_drink'].map(sub_map)"
   ]
  },
  {
   "cell_type": "code",
   "execution_count": null,
   "metadata": {},
   "outputs": [],
   "source": [
    "data_RFID_total_ld_day_hour = data_RFID_start.groupby(['IdRFID', 'Sex', 'substance', 'ld_cycle', 'zeitgeber', 'ld_day',\n",
    "                                   ])['eventDuration'].sum().reset_index()\n",
    "\n",
    "print(data_RFID_total_ld_day_hour.shape)\n",
    "data_RFID_total_ld_day_hour.head()"
   ]
  },
  {
   "cell_type": "code",
   "execution_count": null,
   "metadata": {},
   "outputs": [],
   "source": [
    "substances = ['water', 'EtOH05', 'EtOH10', 'Fent05', 'Fent20']\n",
    "data_RFID_final = pd.DataFrame()\n",
    "\n",
    "for IdRFID in data_RFID_total_ld_day_hour['IdRFID'].unique():\n",
    "    print(IdRFID)\n",
    "    \n",
    "    d_animal = data_RFID_total_ld_day_hour[data_RFID_total_ld_day_hour['IdRFID']==IdRFID]\n",
    "    \n",
    "    for substance in substances:\n",
    "        \n",
    "        days_hours_df = pd.DataFrame(0, index=np.arange(1,8), columns=data_RFID_start['zeitgeber'].unique()).unstack().reset_index()\n",
    "        days_hours_df.columns = ['zeitgeber', 'ld_day', 'ddd']\n",
    "        days_hours_df['ld_cycle'] = ['light' if x<13 else 'dark' for x in days_hours_df['zeitgeber']]\n",
    "        days_hours_df['substance'] = substance\n",
    "        days_hours_df['IdRFID'] = IdRFID\n",
    "        days_hours_df['Sex'] = d_animal['Sex'].values[0]\n",
    "        \n",
    "        x = days_hours_df.merge(d_animal, on=['IdRFID', 'Sex', 'ld_day', 'ld_cycle', 'zeitgeber', 'substance'], \n",
    "                                how='left').sort_values(['substance', 'ld_day', 'zeitgeber'])\n",
    "        \n",
    "        if data_RFID_final.empty:\n",
    "            data_RFID_final = x\n",
    "        else:\n",
    "            data_RFID_final = pd.concat([data_RFID_final, x], axis=0)\n",
    "        \n",
    "    print(data_RFID_final.shape,'\\n')\n",
    "\n",
    "data_RFID_final = data_RFID_final.fillna(0).sort_values(['IdRFID', 'substance', 'ld_day', 'zeitgeber'])\n",
    "data_RFID_final.head()"
   ]
  },
  {
   "cell_type": "code",
   "execution_count": null,
   "metadata": {},
   "outputs": [],
   "source": [
    "data_RFID = data_RFID_final"
   ]
  },
  {
   "cell_type": "markdown",
   "metadata": {},
   "source": [
    "## Behav baseline data"
   ]
  },
  {
   "cell_type": "code",
   "execution_count": null,
   "metadata": {},
   "outputs": [],
   "source": [
    "path_behav = '/Users/abbieschindler/Documents/Schindler_Lab/Data/RFID_VDM/polysubstance_paper/meta/RFID_VDM_behavior.xlsx'\n",
    "\n",
    "data_behav = pd.read_excel(path_behav)\n",
    "data_behav = pd.DataFrame(data = data_behav)\n",
    "data_behav = data_behav[data_behav['IdRFID'].isin(data_RFID_total_ld_day_hour['IdRFID'].unique())]\n",
    "data_behav['Id'] = data_behav['Sex'] + '_' + data_behav['IdRFID'].astype('str')\n",
    "\n",
    "print(data_behav.shape)\n",
    "data_behav.head()"
   ]
  },
  {
   "cell_type": "markdown",
   "metadata": {},
   "source": [
    "### stats on behavior male vs. female"
   ]
  },
  {
   "cell_type": "code",
   "execution_count": null,
   "metadata": {},
   "outputs": [],
   "source": [
    "params = ['EZM_distance', 'EZM_speed', 'EZM_OAE', 'EZM_OAT',\n",
    "       'EZM_OAD', 'EZM_OAL', 'OFB_distance', 'OFB_speed', 'OFB_CE',\n",
    "       'OFB_CT', 'OFB_CD', 'OFB_CL']\n",
    "\n",
    "for param in params:\n",
    "\n",
    "    g = sns.catplot(x='Sex', y=param, data=data_behav,  kind='bar', \n",
    "                    ci=68, height=5, aspect=1, palette='PuBuGn')\n",
    "    # map data to stripplot\n",
    "    g.map(sns.stripplot, 'Sex', param,\n",
    "          palette=sns.color_palette('PuBuGn')[2:4], dodge=True, alpha=0.6, ec='k', linewidth=1)\n",
    "    plt.ylabel(param)\n",
    "    plt.show()\n",
    "\n",
    "    male = data_behav[data_behav['Sex']=='male'][param]\n",
    "    female = data_behav[data_behav['Sex']=='female'][param]\n",
    "    print(stats.ttest_ind(female, male))"
   ]
  },
  {
   "cell_type": "markdown",
   "metadata": {},
   "source": [
    "### cor viz"
   ]
  },
  {
   "cell_type": "code",
   "execution_count": null,
   "metadata": {},
   "outputs": [],
   "source": [
    "def corr_sig(df=None):\n",
    "    p_matrix = np.zeros(shape=(df.shape[1],df.shape[1]))\n",
    "    for col in df.columns:\n",
    "        for col2 in df.drop(col,axis=1).columns:\n",
    "            _ , p = stats.spearmanr(df[col],df[col2])\n",
    "            p_matrix[df.columns.to_list().index(col),df.columns.to_list().index(col2)] = p\n",
    "    return p_matrix\n",
    "\n",
    "def plot_cor_matrix(corr, mask=None):\n",
    "    f, ax = plt.subplots(figsize=(10,15))\n",
    "    sns.heatmap(corr, ax=ax,\n",
    "                mask=mask,\n",
    "                # cosmetics\n",
    "                annot=False, vmin=-1, vmax=1, center=0,\n",
    "                cmap='coolwarm', linewidths=1, linecolor='black', cbar_kws={'orientation': 'horizontal'})\n",
    "\n",
    "\n",
    "# Plotting with significance filter  \n",
    "corr = data_behav[params].corr()\n",
    "p_values = corr_sig(corr)                     # get p-Value\n",
    "mask = np.invert(np.tril(p_values<0.01))    # mask - only get significant corr\n",
    "plot_cor_matrix(corr,mask)  \n",
    "\n",
    "plt.xticks(rotation = 90)\n",
    "plt.yticks(rotation = 0)\n",
    "plt.show()\n",
    "\n",
    "plt.show()\n"
   ]
  },
  {
   "cell_type": "markdown",
   "metadata": {},
   "source": [
    "### cluster viz"
   ]
  },
  {
   "cell_type": "code",
   "execution_count": null,
   "metadata": {},
   "outputs": [],
   "source": [
    "sns.color_palette(\"flare\", as_cmap=True)\n",
    "\n",
    "lut = dict(zip(data_behav['Sex'].unique(), \"cb\"))\n",
    "row_colors = data_behav['Sex'].map(lut)\n",
    "plt.figure(figsize=(15,30))\n",
    "\n",
    "g = sns.clustermap(data_behav[params].dropna(axis=0), row_colors=row_colors,\n",
    "                 metric=\"euclidean\", z_score=1, method=\"ward\",\n",
    "               vmin=-2, vmax=2, center=0, cmap = 'PuBuGn', \n",
    "               square=True, cbar_kws={\"shrink\": .5}, figsize=(10,10))\n",
    "plt.show()"
   ]
  },
  {
   "cell_type": "markdown",
   "metadata": {},
   "source": [
    "# Behavior PCA then cluster"
   ]
  },
  {
   "cell_type": "markdown",
   "metadata": {},
   "source": [
    "## PCA"
   ]
  },
  {
   "cell_type": "code",
   "execution_count": null,
   "metadata": {},
   "outputs": [],
   "source": [
    "#dimensionality reduction\n",
    "from sklearn.decomposition import PCA\n",
    "\n",
    "feat_df = data_behav[['EZM_distance', 'EZM_speed', 'EZM_OAE', 'EZM_OAT',\n",
    "       'EZM_OAD', 'EZM_OAL', 'OFB_distance', 'OFB_speed', 'OFB_CE',\n",
    "       'OFB_CT', 'OFB_CD', 'OFB_CL',]]\n",
    "\n",
    "df_st =  StandardScaler().fit_transform(feat_df)  \n",
    "\n",
    "pca_out = PCA().fit(df_st)\n",
    "\n",
    "pca_out.explained_variance_ratio_"
   ]
  },
  {
   "cell_type": "code",
   "execution_count": null,
   "metadata": {},
   "outputs": [],
   "source": [
    "exp_var_pca = pca_out.explained_variance_ratio_\n",
    "#\n",
    "# Cumulative sum of eigenvalues; This will be used to create step plot\n",
    "# for visualizing the variance explained by each principal component.\n",
    "#\n",
    "cum_sum_eigenvalues = np.cumsum(exp_var_pca)\n",
    "#\n",
    "# Create the visualization plot\n",
    "#\n",
    "plt.figure(figsize=(10,5))\n",
    "plt.bar(range(0,len(exp_var_pca)), exp_var_pca, alpha=0.5, align='center', label='Individual exp var')\n",
    "plt.step(range(0,len(cum_sum_eigenvalues)), cum_sum_eigenvalues, where='mid',label='Cumulative exp var')\n",
    "plt.ylabel('Explained variance ratio')\n",
    "plt.xlabel('Principal component index')\n",
    "\n",
    "plt.legend(loc='upper right')\n",
    "plt.tight_layout()\n",
    "plt.show()"
   ]
  },
  {
   "cell_type": "code",
   "execution_count": null,
   "metadata": {},
   "outputs": [],
   "source": [
    "loadings = pca_out.components_\n",
    "num_pc = pca_out.n_features_\n",
    "pc_list = [\"PC\"+str(i) for i in list(range(1, num_pc+1))]\n",
    "loadings_df = pd.DataFrame.from_dict(dict(zip(pc_list, loadings)))\n",
    "loadings_df['substance'] = feat_df.columns.values\n",
    "loadings_df = loadings_df.set_index('substance')\n",
    "loadings_df.head()"
   ]
  },
  {
   "cell_type": "code",
   "execution_count": null,
   "metadata": {},
   "outputs": [],
   "source": [
    "plt.figure(figsize=(7,7))\n",
    "ax = sns.heatmap(loadings_df, annot=False, cmap='PuBuGn')\n",
    "plt.show()"
   ]
  },
  {
   "cell_type": "code",
   "execution_count": null,
   "metadata": {
    "scrolled": true
   },
   "outputs": [],
   "source": [
    "# get PC scores\n",
    "pca_scores = PCA().fit_transform(df_st)\n",
    "\n",
    "from bioinfokit.visuz import cluster\n",
    "\n",
    "# get 2D biplot\n",
    "cluster.biplot(cscore=pca_scores, loadings=loadings, labels=feat_df.columns.values, \n",
    "               var1=round(pca_out.explained_variance_ratio_[0]*100, 2),\n",
    "               var2=round(pca_out.explained_variance_ratio_[1]*100, 2), \n",
    "               show=True, dim=(9,13), axlabelfontsize=29,\n",
    "               colordot=[\"#A6BDDB\", \"#014636\"],\n",
    "              colorlist=data_behav['Sex'], legendpos='upper left', dotsize=50)"
   ]
  },
  {
   "cell_type": "code",
   "execution_count": null,
   "metadata": {},
   "outputs": [],
   "source": [
    "pc_list = [\"PC\"+str(i) for i in list(range(1, num_pc+1))]\n",
    "id_scores_df = pd.DataFrame.from_dict(pca_scores)\n",
    "id_scores_df.columns = pc_list\n",
    "id_scores_df['IdRFID'] = data_behav['IdRFID'].values\n",
    "\n",
    "print(id_scores_df.shape)\n",
    "id_scores_df.head()"
   ]
  },
  {
   "cell_type": "markdown",
   "metadata": {},
   "source": [
    "## Cluster"
   ]
  },
  {
   "cell_type": "code",
   "execution_count": null,
   "metadata": {},
   "outputs": [],
   "source": [
    "data_behav_PCA = data_behav.merge(id_scores_df, on='IdRFID')\n",
    "\n",
    "print(data_behav_PCA.shape)\n",
    "data_behav_PCA.head()"
   ]
  },
  {
   "cell_type": "code",
   "execution_count": null,
   "metadata": {},
   "outputs": [],
   "source": [
    "#viz dendrogram to find if three clusters makes sense\n",
    "plt.figure(figsize=(10, 5))  \n",
    "plt.title(\"Dendrogram\")  \n",
    "plt.ylabel(\"Distance (dissimilarity)\")\n",
    "plt.xlabel(\"Mice\")\n",
    "dend = shc.dendrogram(shc.linkage(data_behav_PCA[['PC1', 'PC2', 'PC3']], method='ward'), \n",
    "                      distance_sort='ascending', \n",
    "                      show_leaf_counts=True, leaf_font_size=13)"
   ]
  },
  {
   "cell_type": "code",
   "execution_count": null,
   "metadata": {},
   "outputs": [],
   "source": [
    "def kmeans_stability(data, k):\n",
    "    \n",
    "    ####determine cluster stability - bootstrap starting random state - e.g. different cluster initialization \n",
    "    \n",
    "    scores = {}\n",
    "    \n",
    "    homogeneity_score_list = []\n",
    "    completeness_score_list = []\n",
    "    v_measure_score_list = []\n",
    "    adjusted_rand_score_list = []\n",
    "    adjusted_mutual_info_score_list = []\n",
    "    \n",
    "    #create initial cluster as baseline comparison\n",
    "    km_orig = KMeans(n_clusters=k, random_state=39)\n",
    "    km_orig.fit(data)\n",
    "    orig_clusters = km_orig.labels_\n",
    "\n",
    "    #bootstrap random state and compare to baseline cluster\n",
    "    for i in range(1,99,3):\n",
    "\n",
    "        #fit\n",
    "        km_int = KMeans(n_clusters=k, random_state=i)\n",
    "        km_int.fit(data)\n",
    "        int_clusters = km_int.labels_\n",
    "    \n",
    "        #compute metrics\n",
    "        homogeneity_score_int = metrics.homogeneity_score(orig_clusters, int_clusters)\n",
    "        completeness_score_int = metrics.completeness_score(orig_clusters, int_clusters)\n",
    "        v_measure_score_int = metrics.v_measure_score(orig_clusters, int_clusters)\n",
    "        adjusted_rand_score_int = metrics.adjusted_rand_score(orig_clusters, int_clusters)\n",
    "        adjusted_mutual_info_score_int = metrics.adjusted_mutual_info_score(orig_clusters,  int_clusters)\n",
    "    \n",
    "        homogeneity_score_list.append(homogeneity_score_int)\n",
    "        completeness_score_list.append(completeness_score_int)\n",
    "        v_measure_score_list.append(v_measure_score_int)\n",
    "        adjusted_rand_score_list.append(adjusted_rand_score_int)\n",
    "        adjusted_mutual_info_score_list.append(adjusted_mutual_info_score_int)\n",
    "    \n",
    "    scores['homogeneity_score'] = homogeneity_score_list\n",
    "    scores['completeness_score'] = completeness_score_list\n",
    "    scores['v_measure_score'] = v_measure_score_list\n",
    "    scores['adjusted_rand_score'] = adjusted_rand_score_list\n",
    "    scores['adjusted_mutual_info_score'] = adjusted_mutual_info_score_list\n",
    "    \n",
    "    return scores"
   ]
  },
  {
   "cell_type": "code",
   "execution_count": null,
   "metadata": {},
   "outputs": [],
   "source": [
    "scores_k2 = pd.DataFrame.from_dict(kmeans_stability(data_behav_PCA[['PC1', 'PC2', 'PC3']], 2)).mean()\n",
    "scores_k3 = pd.DataFrame.from_dict(kmeans_stability(data_behav_PCA[['PC1', 'PC2', 'PC3']], 3)).mean()\n",
    "scores_k4 = pd.DataFrame.from_dict(kmeans_stability(data_behav_PCA[['PC1', 'PC2', 'PC3']], 4)).mean()\n",
    "scores_k5 = pd.DataFrame.from_dict(kmeans_stability(data_behav_PCA[['PC1', 'PC2', 'PC3']], 5)).mean()\n",
    "scores_k6 = pd.DataFrame.from_dict(kmeans_stability(data_behav_PCA[['PC1', 'PC2', 'PC3']], 6)).mean()\n",
    "\n",
    "cluster_scores = pd.DataFrame(data=[scores_k2, scores_k3, scores_k4, scores_k5, scores_k6], index=['k=2', 'k=3', 'k=4', 'k=5', 'k=6']).reset_index()\n",
    "\n",
    "cluster_scores"
   ]
  },
  {
   "cell_type": "code",
   "execution_count": null,
   "metadata": {},
   "outputs": [],
   "source": [
    "sns.lineplot(data=cluster_scores, x='index', y='homogeneity_score')"
   ]
  },
  {
   "cell_type": "code",
   "execution_count": null,
   "metadata": {},
   "outputs": [],
   "source": [
    "#choose k=3 clusters and fit data\n",
    "km_3 = KMeans(n_clusters=3,random_state=99)\n",
    "km_3.fit(data_behav_PCA[['PC1', 'PC2', 'PC3']])\n",
    "\n",
    "data_behav_PCA['kmeans_cluster'] = [\"cluster_\" + str(label) for label in km_3.labels_ ]\n",
    "print(data_behav_PCA.shape)\n",
    "data_behav_PCA.head(1)"
   ]
  },
  {
   "cell_type": "code",
   "execution_count": null,
   "metadata": {},
   "outputs": [],
   "source": [
    "data_behav_PCA.to_csv('data_behav_PCA.csv')"
   ]
  },
  {
   "cell_type": "code",
   "execution_count": null,
   "metadata": {
    "scrolled": true
   },
   "outputs": [],
   "source": [
    "params = ['EZM_distance', 'EZM_speed', 'EZM_OAE', 'EZM_OAT',\n",
    "       'EZM_OAD', 'EZM_OAL', 'OFB_distance', 'OFB_speed', 'OFB_CE',\n",
    "       'OFB_CT', 'OFB_CD', 'OFB_CL']\n",
    "cluster_order = ['cluster_0', 'cluster_1', 'cluster_2']\n",
    "for param in params:\n",
    "\n",
    "    g = sns.catplot(x='kmeans_cluster', y=param, data=data_behav_PCA,  kind='bar', \n",
    "                    ci=68, height=5, aspect=1.5, palette='PuBuGn', order=cluster_order)\n",
    "    # map data to stripplot\n",
    "    g.map(sns.stripplot, 'kmeans_cluster', param, order=cluster_order,\n",
    "          palette=sns.color_palette('PuBuGn')[2:4], dodge=True, alpha=0.6, ec='k', linewidth=1)\n",
    "    plt.ylabel(param)\n",
    "    plt.show()\n",
    "    \n",
    "    a=data_behav_PCA[data_behav_PCA['kmeans_cluster']=='cluster_0'][param].values\n",
    "    b=data_behav_PCA[data_behav_PCA['kmeans_cluster']=='cluster_1'][param].values\n",
    "    c=data_behav_PCA[data_behav_PCA['kmeans_cluster']=='cluster_2'][param].values\n",
    "    print(f_oneway(a, b, c))"
   ]
  },
  {
   "cell_type": "code",
   "execution_count": null,
   "metadata": {
    "scrolled": false
   },
   "outputs": [],
   "source": [
    "plt.figure(figsize=(7, 5))  \n",
    "\n",
    "sns.countplot(x='kmeans_cluster', data=data_behav_PCA, hue='Sex', palette=\"PuBuGn\", order=cluster_order)"
   ]
  },
  {
   "cell_type": "code",
   "execution_count": null,
   "metadata": {},
   "outputs": [],
   "source": [
    "data_behav_PCA_count = data_behav_PCA.groupby(['Sex'])['kmeans_cluster'].value_counts().reset_index(name='count')\n",
    "\n",
    "data_behav_PCA_count2 = data_behav_PCA['Sex'].value_counts().reset_index(name='count')\n",
    "\n",
    "data_behav_PCA_count = data_behav_PCA_count.merge(data_behav_PCA_count2, left_on='Sex', right_on='index')\n",
    "\n",
    "data_behav_PCA_count['kmeans_perc'] = data_behav_PCA_count['count_x'] / data_behav_PCA_count['count_y'] * 100\n",
    "\n",
    "data_behav_PCA_count"
   ]
  },
  {
   "cell_type": "code",
   "execution_count": null,
   "metadata": {},
   "outputs": [],
   "source": [
    "data_behav_PCA_count.sort_values(['Sex', 'kmeans_cluster'])"
   ]
  },
  {
   "cell_type": "code",
   "execution_count": null,
   "metadata": {},
   "outputs": [],
   "source": [
    "table = np.array([[4, 5, 15], [7, 1, 24]])\n",
    "chi2_contingency(table)\n"
   ]
  },
  {
   "cell_type": "code",
   "execution_count": null,
   "metadata": {},
   "outputs": [],
   "source": [
    "g = sns.catplot(x='kmeans_cluster', y='kmeans_perc', data=data_behav_PCA_count,  kind='bar', hue='Sex',\n",
    "                    ci=68, height=5, aspect=2, palette='PuBuGn', order=cluster_order)\n",
    "plt.legend(loc='upper left')\n",
    "plt.ylabel('Percent in Cluster')\n",
    "plt.show()"
   ]
  },
  {
   "cell_type": "markdown",
   "metadata": {},
   "source": [
    "# Project clusters back onto RFID data"
   ]
  },
  {
   "cell_type": "code",
   "execution_count": null,
   "metadata": {},
   "outputs": [],
   "source": [
    "cluster_order = ['cluster_0', 'cluster_1', 'cluster_2']\n",
    "drink_order=['water', 'EtOH05', 'EtOH10', 'Fent05', 'Fent20']\n"
   ]
  },
  {
   "cell_type": "code",
   "execution_count": null,
   "metadata": {},
   "outputs": [],
   "source": [
    "data_RFID = data_behav_PCA[['IdRFID', 'kmeans_cluster']].merge(data_RFID, on='IdRFID')\n",
    "data_RFID_start = data_behav_PCA[['IdRFID', 'kmeans_cluster']].merge(data_RFID_start, on='IdRFID')\n",
    "\n",
    "data_RFID.head()"
   ]
  },
  {
   "cell_type": "markdown",
   "metadata": {},
   "source": [
    "## total with combined substances"
   ]
  },
  {
   "cell_type": "markdown",
   "metadata": {},
   "source": [
    "### event duration proportion"
   ]
  },
  {
   "cell_type": "code",
   "execution_count": null,
   "metadata": {},
   "outputs": [],
   "source": [
    "sns.displot(data=data_RFID_start, x=\"eventDuration\", kind='ecdf', hue='kmeans_cluster', palette='PuBuGn',\n",
    "            hue_order=cluster_order)\n",
    "#plt.ylim(0,2000)\n",
    "plt.xlim(0,30)\n",
    "plt.xlabel('Time in chamber (sec)')\n",
    "\n",
    "plt.show()"
   ]
  },
  {
   "cell_type": "markdown",
   "metadata": {},
   "source": [
    "### total event duration sum"
   ]
  },
  {
   "cell_type": "code",
   "execution_count": null,
   "metadata": {},
   "outputs": [],
   "source": [
    "data_RFID_total = data_RFID.groupby(['IdRFID', 'kmeans_cluster', \n",
    "                                   ])['eventDuration'].sum().reset_index()\n",
    "\n",
    "data_RFID_total['Time in chamber (min)'] = data_RFID_total['eventDuration']/60\n",
    "\n",
    "data_RFID_total.head()"
   ]
  },
  {
   "cell_type": "code",
   "execution_count": null,
   "metadata": {},
   "outputs": [],
   "source": [
    "g = sns.catplot(x='kmeans_cluster', y='Time in chamber (min)', data=data_RFID_total,  kind='bar', height=5, aspect=1.5,\n",
    "            ci=68, palette='PuBuGn', order=cluster_order)\n",
    "\n",
    "# map data to stripplot\n",
    "g.map(sns.stripplot, 'kmeans_cluster', 'Time in chamber (min)', \n",
    "      palette=sns.color_palette('PuBuGn')[2:4], dodge=True, alpha=0.6, ec='k', linewidth=1, order=cluster_order)\n",
    "\n",
    "plt.show()\n",
    "\n",
    "param = 'Time in chamber (min)'\n",
    "a=data_RFID_total[data_RFID_total['kmeans_cluster']=='cluster_0'][param].values\n",
    "b=data_RFID_total[data_RFID_total['kmeans_cluster']=='cluster_1'][param].values\n",
    "c=data_RFID_total[data_RFID_total['kmeans_cluster']=='cluster_2'][param].values\n",
    "print(f_oneway(a, b, c))"
   ]
  },
  {
   "cell_type": "markdown",
   "metadata": {},
   "source": [
    "## light dark with combined substances"
   ]
  },
  {
   "cell_type": "markdown",
   "metadata": {},
   "source": [
    "### event duration proportion"
   ]
  },
  {
   "cell_type": "code",
   "execution_count": null,
   "metadata": {},
   "outputs": [],
   "source": [
    "g=sns.displot(data=data_RFID_start, x=\"eventDuration\", kind='ecdf', hue='ld_cycle', \n",
    "              col='kmeans_cluster', palette='PuBuGn', col_order=cluster_order)\n",
    "#plt.ylim(0,2000)\n",
    "plt.xlim(0,30)\n",
    "\n",
    "g.set_axis_labels('Time in chamber (sec)')\n",
    "plt.show()"
   ]
  },
  {
   "cell_type": "markdown",
   "metadata": {},
   "source": [
    "### total event duration sum"
   ]
  },
  {
   "cell_type": "code",
   "execution_count": null,
   "metadata": {},
   "outputs": [],
   "source": [
    "data_RFID_total_ld = data_RFID.groupby(['IdRFID', 'kmeans_cluster', 'ld_cycle', \n",
    "                                   ])['eventDuration'].sum().reset_index()\n",
    "\n",
    "data_RFID_total_ld['Time in chamber (min)'] = data_RFID_total_ld['eventDuration']/60\n",
    "\n",
    "data_RFID_total_ld.head()"
   ]
  },
  {
   "cell_type": "code",
   "execution_count": null,
   "metadata": {},
   "outputs": [],
   "source": [
    "g= sns.catplot(x='ld_cycle', y='Time in chamber (min)', data=data_RFID_total_ld,  kind='bar', height=5, aspect=1,\n",
    "            ci=68, hue='kmeans_cluster', palette='PuBuGn', hue_order=cluster_order)\n",
    "\n",
    "# map data to stripplot\n",
    "g.map(sns.stripplot, 'ld_cycle', 'Time in chamber (min)', 'kmeans_cluster', hue_order=cluster_order,\n",
    "      palette=sns.color_palette('PuBuGn')[2:4], dodge=True, alpha=0.6, ec='k', linewidth=1)\n",
    "\n",
    "plt.xlabel('Light/Dark Cycle')\n",
    "plt.show()"
   ]
  },
  {
   "cell_type": "code",
   "execution_count": null,
   "metadata": {
    "scrolled": true
   },
   "outputs": [],
   "source": [
    "dv = 'Time in chamber (min)'\n",
    "\n",
    "#RM using Pingouin\n",
    "aov = pg.mixed_anova(dv=dv, within='ld_cycle', between='kmeans_cluster', subject='IdRFID', data=data_RFID_total_ld)\n",
    "pg.print_table(aov)\n",
    "\n",
    "#posthocs\n",
    "posthocs = pg.pairwise_ttests(dv=dv, within='ld_cycle', between='kmeans_cluster',\n",
    "                              subject='IdRFID', data=data_RFID_total_ld, padjust='holm')\n",
    "pg.print_table(posthocs)"
   ]
  },
  {
   "cell_type": "markdown",
   "metadata": {},
   "source": [
    "## daily total with combined substance "
   ]
  },
  {
   "cell_type": "markdown",
   "metadata": {},
   "source": [
    "### event duration proportion"
   ]
  },
  {
   "cell_type": "code",
   "execution_count": null,
   "metadata": {},
   "outputs": [],
   "source": [
    "g=sns.displot(data=data_RFID_start, x=\"eventDuration\", kind='ecdf', hue='ld_day', col='kmeans_cluster', \n",
    "              palette='PuBuGn', col_order=cluster_order)\n",
    "#plt.ylim(0,2000)\n",
    "plt.xlim(0,30)\n",
    "\n",
    "g.set_axis_labels('Time in chamber (sec)')\n",
    "plt.show()"
   ]
  },
  {
   "cell_type": "markdown",
   "metadata": {},
   "source": [
    "### total event duration sum"
   ]
  },
  {
   "cell_type": "code",
   "execution_count": null,
   "metadata": {},
   "outputs": [],
   "source": [
    "data_RFID_total_daily = data_RFID.groupby(['IdRFID', 'kmeans_cluster', 'ld_day',\n",
    "                                   ])['eventDuration'].sum().reset_index()\n",
    "\n",
    "data_RFID_total_daily['Time in chamber (min)'] = data_RFID_total_daily['eventDuration']/60\n",
    "\n",
    "data_RFID_total_daily.head()"
   ]
  },
  {
   "cell_type": "code",
   "execution_count": null,
   "metadata": {},
   "outputs": [],
   "source": [
    "g= sns.catplot(x='ld_day', y='Time in chamber (min)', data=data_RFID_total_daily,  kind='bar', height=5, aspect=2,\n",
    "            ci=68, hue='kmeans_cluster', palette='PuBuGn', hue_order=cluster_order)\n",
    "\n",
    "# map data to stripplot\n",
    "g.map(sns.stripplot, 'ld_day', 'Time in chamber (min)', 'kmeans_cluster',\n",
    "      palette=sns.color_palette('PuBuGn')[2:4], dodge=True, alpha=0.6, ec='k', linewidth=1, hue_order=cluster_order)\n",
    "\n",
    "plt.xlabel('Day')\n",
    "plt.show()"
   ]
  },
  {
   "cell_type": "code",
   "execution_count": null,
   "metadata": {
    "scrolled": true
   },
   "outputs": [],
   "source": [
    "dv = 'Time in chamber (min)'\n",
    "\n",
    "#RM using Pingouin\n",
    "aov = pg.mixed_anova(dv=dv, within='ld_day', between='kmeans_cluster', subject='IdRFID', data=data_RFID_total_daily)\n",
    "pg.print_table(aov)\n",
    "\n",
    "#posthocs\n",
    "posthocs = pg.pairwise_ttests(dv=dv, within='ld_day', between='kmeans_cluster',\n",
    "                              subject='IdRFID', data=data_RFID_total_daily, padjust='holm')\n",
    "pg.print_table(posthocs)"
   ]
  },
  {
   "cell_type": "markdown",
   "metadata": {},
   "source": [
    "## hourly total with combined substances"
   ]
  },
  {
   "cell_type": "markdown",
   "metadata": {},
   "source": [
    "### event duration proportion"
   ]
  },
  {
   "cell_type": "code",
   "execution_count": null,
   "metadata": {
    "scrolled": true
   },
   "outputs": [],
   "source": [
    "g=sns.displot(data=data_RFID_start, x=\"eventDuration\", kind='ecdf', hue='zeitgeber', col='kmeans_cluster', \n",
    "              palette='PuBuGn', col_order=cluster_order)\n",
    "#plt.ylim(0,2000)\n",
    "plt.xlim(0,30)\n",
    "\n",
    "g.set_axis_labels('Time in chamber (sec)')\n",
    "plt.show()"
   ]
  },
  {
   "cell_type": "markdown",
   "metadata": {},
   "source": [
    "### total event duration sum"
   ]
  },
  {
   "cell_type": "code",
   "execution_count": null,
   "metadata": {},
   "outputs": [],
   "source": [
    "data_RFID_total_hourly = data_RFID.groupby(['IdRFID', 'kmeans_cluster', 'zeitgeber', \n",
    "                                   ])['eventDuration'].sum().reset_index()\n",
    "\n",
    "data_RFID_total_hourly['Time in chamber (min)'] = data_RFID_total_hourly['eventDuration']/60\n",
    "\n",
    "data_RFID_total_hourly.head()"
   ]
  },
  {
   "cell_type": "code",
   "execution_count": null,
   "metadata": {},
   "outputs": [],
   "source": [
    "g= sns.catplot(x='zeitgeber', y='Time in chamber (min)', data=data_RFID_total_hourly,  kind='bar', height=5, aspect=2,\n",
    "            ci=68, hue='kmeans_cluster', palette='PuBuGn', hue_order=cluster_order)\n",
    "\n",
    "# map data to stripplot\n",
    "g.map(sns.stripplot, 'zeitgeber', 'Time in chamber (min)', 'kmeans_cluster', hue_order=cluster_order,\n",
    "      palette=sns.color_palette('PuBuGn')[2:4], dodge=True, alpha=0.6, ec='k', linewidth=1,\n",
    "      )\n",
    "\n",
    "plt.xlabel('Zeitgeber time (hour)')\n",
    "plt.show()"
   ]
  },
  {
   "cell_type": "code",
   "execution_count": null,
   "metadata": {},
   "outputs": [],
   "source": [
    "dv = 'Time in chamber (min)'\n",
    "\n",
    "#RM using Pingouin\n",
    "aov = pg.mixed_anova(dv=dv, within='zeitgeber', between='kmeans_cluster', subject='IdRFID', data=data_RFID_total_hourly)\n",
    "pg.print_table(aov)\n",
    "\n",
    "#posthocs\n",
    "posthocs = pg.pairwise_ttests(dv=dv, within='zeitgeber', between='kmeans_cluster',\n",
    "                              subject='IdRFID', data=data_RFID_total_hourly, padjust='holm')\n",
    "pg.print_table(posthocs)"
   ]
  },
  {
   "cell_type": "markdown",
   "metadata": {},
   "source": [
    "## daily and hourly combined substances heatmap"
   ]
  },
  {
   "cell_type": "code",
   "execution_count": null,
   "metadata": {},
   "outputs": [],
   "source": [
    "data_RFID_total_hour_day = data_RFID.groupby(['IdRFID', 'kmeans_cluster', 'zeitgeber', 'ld_day',\n",
    "                                   ])['eventDuration'].sum().reset_index()\n",
    "\n",
    "data_RFID_total_hour_day['Time in chamber (min)'] = data_RFID_total_hour_day['eventDuration']/60\n",
    "\n",
    "data_RFID_total_hour_day.head()"
   ]
  },
  {
   "cell_type": "markdown",
   "metadata": {},
   "source": [
    "### event duration"
   ]
  },
  {
   "cell_type": "code",
   "execution_count": null,
   "metadata": {},
   "outputs": [],
   "source": [
    "d = data_RFID_total_hour_day[data_RFID_total_hour_day['kmeans_cluster']=='cluster_2']\n",
    "groupby = d.groupby(['ld_day', 'zeitgeber'])['Time in chamber (min)'].mean().reset_index()\n",
    "\n",
    "\n",
    "sns.set(font_scale=2)\n",
    "groupby = groupby.pivot('ld_day', 'zeitgeber', \"Time in chamber (min)\")\n",
    "plt.figure(figsize=(5,5))\n",
    "ax = sns.heatmap(groupby, cmap=\"PuBuGn\", linewidths=.25, vmax=12,\n",
    "                     cbar_kws={'label': 'Time in chamber (min)'})\n",
    "\n",
    "#plt.xlabel('Bottle')\n",
    "plt.show()"
   ]
  },
  {
   "cell_type": "markdown",
   "metadata": {},
   "source": [
    "## total with separate substances "
   ]
  },
  {
   "cell_type": "markdown",
   "metadata": {},
   "source": [
    "### event duration proportion"
   ]
  },
  {
   "cell_type": "code",
   "execution_count": null,
   "metadata": {},
   "outputs": [],
   "source": [
    "\n",
    "g=sns.displot(data=data_RFID_start, x=\"eventDuration\", kind='ecdf', hue='substance', col='kmeans_cluster', \n",
    "              palette='PuBuGn', hue_order=drink_order, col_order=cluster_order)\n",
    "#plt.ylim(0,2000)\n",
    "plt.xlim(0,30)\n",
    "\n",
    "g.set_axis_labels('Time in chamber (sec)')\n",
    "plt.show()"
   ]
  },
  {
   "cell_type": "markdown",
   "metadata": {},
   "source": [
    "### total event duration sum"
   ]
  },
  {
   "cell_type": "code",
   "execution_count": null,
   "metadata": {},
   "outputs": [],
   "source": [
    "data_RFID_total_sub = data_RFID.groupby(['IdRFID', 'kmeans_cluster', 'substance',\n",
    "                                   ])['eventDuration'].sum().reset_index()\n",
    "\n",
    "data_RFID_total_sub['Time in chamber (min)'] = data_RFID_total_sub['eventDuration']/60\n",
    "\n",
    "data_RFID_total_sub.head()"
   ]
  },
  {
   "cell_type": "code",
   "execution_count": null,
   "metadata": {},
   "outputs": [],
   "source": [
    "g= sns.catplot(x='kmeans_cluster', y='Time in chamber (min)', data=data_RFID_total_sub,  kind='bar', height=5, aspect=2,\n",
    "            ci=68, hue='substance', hue_order=drink_order, order=cluster_order, palette='PuBuGn')\n",
    "\n",
    "# map data to stripplot\n",
    "g.map(sns.stripplot, 'kmeans_cluster', 'Time in chamber (min)', 'substance',\n",
    "      palette=sns.color_palette('PuBuGn')[2:4], dodge=True, alpha=0.6, ec='k', linewidth=1,\n",
    "      hue_order=drink_order, order=cluster_order,)\n",
    "\n",
    "#plt.xlabel('Cluster')\n",
    "plt.show()"
   ]
  },
  {
   "cell_type": "code",
   "execution_count": null,
   "metadata": {
    "scrolled": true
   },
   "outputs": [],
   "source": [
    "dv = 'Time in chamber (min)'\n",
    "\n",
    "#RM using Pingouin\n",
    "aov = pg.mixed_anova(dv=dv, within='substance', between='kmeans_cluster', subject='IdRFID', data=data_RFID_total_sub)\n",
    "pg.print_table(aov)\n",
    "\n",
    "#posthocs\n",
    "posthocs = pg.pairwise_ttests(dv=dv, within='substance', between='kmeans_cluster',\n",
    "                              subject='IdRFID', data=data_RFID_total_sub, padjust='fdr_bh')\n",
    "pg.print_table(posthocs)"
   ]
  },
  {
   "cell_type": "markdown",
   "metadata": {},
   "source": [
    "## light dark with separate substances "
   ]
  },
  {
   "cell_type": "markdown",
   "metadata": {},
   "source": [
    "### event duration proportion"
   ]
  },
  {
   "cell_type": "markdown",
   "metadata": {},
   "source": [
    "### total event duration sum"
   ]
  },
  {
   "cell_type": "code",
   "execution_count": null,
   "metadata": {},
   "outputs": [],
   "source": [
    "data_RFID_sub_ld = data_RFID.groupby(['IdRFID', 'kmeans_cluster', 'ld_cycle', 'substance',\n",
    "                                   ])['eventDuration'].sum().reset_index()\n",
    "\n",
    "data_RFID_sub_ld['Time in chamber (min)'] = data_RFID_sub_ld['eventDuration']/60\n",
    "\n",
    "data_RFID_sub_ld.head()"
   ]
  },
  {
   "cell_type": "code",
   "execution_count": null,
   "metadata": {},
   "outputs": [],
   "source": [
    "x = data_RFID_sub_ld[data_RFID_sub_ld['kmeans_cluster']=='cluster_1'].set_index(['kmeans_cluster', 'ld_cycle', 'IdRFID',  'substance', ]).unstack(-1).reset_index()\n",
    "x.head()"
   ]
  },
  {
   "cell_type": "code",
   "execution_count": null,
   "metadata": {},
   "outputs": [],
   "source": [
    "x.to_csv('data_RFID_sub_ld_cluster1.csv')"
   ]
  },
  {
   "cell_type": "code",
   "execution_count": null,
   "metadata": {},
   "outputs": [],
   "source": [
    "d = data_RFID_sub_ld[data_RFID_sub_ld['kmeans_cluster']=='cluster_2']\n",
    "\n",
    "g= sns.catplot(x='ld_cycle', y='Time in chamber (min)', data=d,  kind='bar', height=5, aspect=1,\n",
    "            ci=68, hue='substance', palette='PuBuGn', hue_order=drink_order)\n",
    "\n",
    "# map data to stripplot\n",
    "g.map(sns.stripplot, 'ld_cycle', 'Time in chamber (min)', 'substance', \n",
    "      palette=sns.color_palette('PuBuGn')[2:4], dodge=True, alpha=0.6, ec='k', \n",
    "      linewidth=1, hue_order=drink_order)\n",
    "\n",
    "plt.ylim(0,500)\n",
    "plt.xlabel('Light/Dark Cycle')\n",
    "plt.show()"
   ]
  },
  {
   "cell_type": "code",
   "execution_count": null,
   "metadata": {
    "scrolled": true
   },
   "outputs": [],
   "source": [
    "dv = 'Time in chamber (min)'\n",
    "\n",
    "#RM using Pingouin\n",
    "aov = pg.rm_anova(dv=dv, within=['ld_cycle', 'substance'], subject='IdRFID', data=d)\n",
    "pg.print_table(aov)\n",
    "\n",
    "#posthocs\n",
    "posthocs = pg.pairwise_ttests(dv=dv, within=['ld_cycle', 'substance'],\n",
    "                              subject='IdRFID', data=d, padjust='fdr_bh')\n",
    "pg.print_table(posthocs)"
   ]
  },
  {
   "cell_type": "markdown",
   "metadata": {},
   "source": [
    "## daily with separate substances"
   ]
  },
  {
   "cell_type": "code",
   "execution_count": null,
   "metadata": {},
   "outputs": [],
   "source": [
    "data_RFID_sub_daily = data_RFID.groupby(['IdRFID', 'kmeans_cluster', 'ld_day', 'substance'\n",
    "                                   ])['eventDuration'].sum().reset_index()\n",
    "\n",
    "data_RFID_sub_daily['Time in chamber (min)'] = data_RFID_sub_daily['eventDuration']/60\n",
    "\n",
    "data_RFID_sub_daily.head()"
   ]
  },
  {
   "cell_type": "code",
   "execution_count": null,
   "metadata": {},
   "outputs": [],
   "source": [
    "data_RFID_sub_daily['Time in chamber (min)'].max()"
   ]
  },
  {
   "cell_type": "code",
   "execution_count": null,
   "metadata": {},
   "outputs": [],
   "source": [
    "sub = 'Fent20'\n",
    "d = data_RFID_sub_daily[data_RFID_sub_daily['substance']==sub]\n",
    "order=['cluster_0', 'cluster_1', 'cluster_2']\n",
    "g= sns.catplot(x='kmeans_cluster', y='Time in chamber (min)', data=d,  kind='bar', height=5, aspect=1.2,\n",
    "            ci=68, hue='ld_day', palette='PuBuGn', order=order)\n",
    "\n",
    "# map data to stripplot\n",
    "g.map(sns.stripplot, 'kmeans_cluster', 'Time in chamber (min)', 'ld_day', \n",
    "      palette=sns.color_palette('PuBuGn')[2:4], dodge=True, alpha=0.6, ec='k', linewidth=1, order=order)\n",
    "\n",
    "plt.ylim(0,200)\n",
    "plt.title(sub)\n",
    "plt.xlabel('Day')\n",
    "plt.show()"
   ]
  },
  {
   "cell_type": "code",
   "execution_count": null,
   "metadata": {
    "scrolled": true
   },
   "outputs": [],
   "source": [
    "dv = 'Time in chamber (min)'\n",
    "\n",
    "#RM using Pingouin\n",
    "aov = pg.mixed_anova(dv=dv, within='ld_day', between='kmeans_cluster', subject='IdRFID', data=d)\n",
    "pg.print_table(aov)\n",
    "\n",
    "#posthocs\n",
    "posthocs = pg.pairwise_ttests(dv=dv, within='ld_day', between='kmeans_cluster',\n",
    "                              subject='IdRFID', data=d, padjust='fdr_bh')\n",
    "pg.print_table(posthocs)"
   ]
  },
  {
   "cell_type": "markdown",
   "metadata": {},
   "source": [
    "## daily and hourly total with separate substance heatmap"
   ]
  },
  {
   "cell_type": "markdown",
   "metadata": {},
   "source": [
    "### event duration"
   ]
  },
  {
   "cell_type": "code",
   "execution_count": null,
   "metadata": {},
   "outputs": [],
   "source": [
    "data_RFID_total_sub_day_hour = data_RFID.groupby(['IdRFID', 'kmeans_cluster', 'substance', 'ld_day', 'zeitgeber',\n",
    "                                   ])['eventDuration'].sum().reset_index()\n",
    "\n",
    "data_RFID_total_sub_day_hour['Time in chamber (min)'] = data_RFID_total_sub_day_hour['eventDuration']/60\n",
    "\n",
    "data_RFID_total_sub_day_hour.head()"
   ]
  },
  {
   "cell_type": "code",
   "execution_count": null,
   "metadata": {},
   "outputs": [],
   "source": [
    "data_RFID_total_sub_day_hour['substance'].unique()"
   ]
  },
  {
   "cell_type": "code",
   "execution_count": null,
   "metadata": {},
   "outputs": [],
   "source": [
    "d = data_RFID_total_sub_day_hour[data_RFID_total_sub_day_hour['kmeans_cluster']=='cluster_2']\n",
    "d = d[d['substance']=='Fent20']\n",
    "\n",
    "groupby = d.groupby(['ld_day', 'zeitgeber'])['Time in chamber (min)'].mean().reset_index()\n",
    "\n",
    "\n",
    "sns.set(font_scale=2)\n",
    "groupby = groupby.pivot('ld_day', 'zeitgeber', \"Time in chamber (min)\")\n",
    "plt.figure(figsize=(5,5))\n",
    "ax = sns.heatmap(groupby, cmap=\"PuBuGn\", linewidths=.25, vmax=5,\n",
    "                     cbar_kws={'label': 'Time in chamber (min)'})\n",
    "\n",
    "#plt.xlabel('Bottle')\n",
    "plt.show()"
   ]
  },
  {
   "cell_type": "markdown",
   "metadata": {},
   "source": [
    "## ID heatmap"
   ]
  },
  {
   "cell_type": "code",
   "execution_count": null,
   "metadata": {},
   "outputs": [],
   "source": [
    "data_RFID_total_sub['Id'] = data_RFID_total_sub['kmeans_cluster'] + '_' + data_RFID_total_sub['IdRFID'].astype('str')\n",
    "data_RFID_total_sub.head()"
   ]
  },
  {
   "cell_type": "code",
   "execution_count": null,
   "metadata": {},
   "outputs": [],
   "source": [
    "sns.set(font_scale=2)\n",
    "groupby = data_RFID_total_sub.pivot('Id', 'substance', \"Time in chamber (min)\")\n",
    "plt.figure(figsize=(5,15))\n",
    "ax = sns.heatmap(groupby, cmap=\"PuBuGn\", linewidths=.25, vmax=500,\n",
    "                     cbar_kws={'label': 'Time in chamber (min)'})\n",
    "\n",
    "#plt.xlabel('Bottle')\n",
    "plt.show()"
   ]
  },
  {
   "cell_type": "markdown",
   "metadata": {},
   "source": [
    "# Project clusters back onto drinking data"
   ]
  },
  {
   "cell_type": "code",
   "execution_count": null,
   "metadata": {},
   "outputs": [],
   "source": [
    "sns.set_context(\"poster\")\n",
    "sns.set_style(\"ticks\")\n",
    "sns.set(font_scale=2)"
   ]
  },
  {
   "cell_type": "code",
   "execution_count": null,
   "metadata": {},
   "outputs": [],
   "source": [
    "data_final_clean_3s = data_final\n"
   ]
  },
  {
   "cell_type": "code",
   "execution_count": null,
   "metadata": {},
   "outputs": [],
   "source": [
    "data_final_clean_3s = data_behav_PCA[['IdRFID', 'kmeans_cluster']].merge(data_final_clean_3s, on='IdRFID')\n",
    "data_VDM_start = data_behav_PCA[['IdRFID', 'kmeans_cluster']].merge(data_VDM_start, on='IdRFID')\n",
    "\n",
    "data_final_clean_3s.head()"
   ]
  },
  {
   "cell_type": "markdown",
   "metadata": {},
   "source": [
    "## total with combined substances"
   ]
  },
  {
   "cell_type": "markdown",
   "metadata": {},
   "source": [
    "### total intake sum min"
   ]
  },
  {
   "cell_type": "code",
   "execution_count": null,
   "metadata": {},
   "outputs": [],
   "source": [
    "data_VDM_total_min = data_VDM_start.groupby(['IdRFID', 'kmeans_cluster', 'VDM_min_count_running',\n",
    "                                   ])[['intake_ml_kg']].sum().reset_index()\n",
    "\n",
    "data_VDM_total_min.head()"
   ]
  },
  {
   "cell_type": "code",
   "execution_count": null,
   "metadata": {},
   "outputs": [],
   "source": [
    "sns.displot(data=data_VDM_total_min, x=\"intake_ml_kg\", kind='ecdf', hue='kmeans_cluster',\n",
    "           palette='PuBuGn', hue_order=cluster_order)\n",
    "\n",
    "plt.xlabel('Intake (ml/kg) per minute')\n",
    "\n",
    "plt.xlim(0,10)"
   ]
  },
  {
   "cell_type": "markdown",
   "metadata": {},
   "source": [
    "### total intake sum"
   ]
  },
  {
   "cell_type": "code",
   "execution_count": null,
   "metadata": {},
   "outputs": [],
   "source": [
    "data_VDM_total = data_final_clean_3s.groupby(['IdRFID', 'kmeans_cluster', \n",
    "                                   ])[['intake_ml_kg']].sum().reset_index()\n",
    "\n",
    "data_VDM_total.head()"
   ]
  },
  {
   "cell_type": "code",
   "execution_count": null,
   "metadata": {},
   "outputs": [],
   "source": [
    "g = sns.catplot(x='kmeans_cluster', y='intake_ml_kg', data=data_VDM_total,  kind='bar', height=5, aspect=1.5,\n",
    "            ci=68, palette='PuBuGn', order=cluster_order)\n",
    "\n",
    "# map data to stripplot\n",
    "g.map(sns.stripplot, 'kmeans_cluster', 'intake_ml_kg', \n",
    "      palette=sns.color_palette('PuBuGn')[2:4], dodge=True, alpha=0.6, ec='k', linewidth=1, order=cluster_order)\n",
    "plt.ylabel('Total intake (ml/kg)')\n",
    "plt.show()\n",
    "\n",
    "param = 'intake_ml_kg'\n",
    "a=data_VDM_total[data_VDM_total['kmeans_cluster']=='cluster_0'][param].values\n",
    "b=data_VDM_total[data_VDM_total['kmeans_cluster']=='cluster_1'][param].values\n",
    "c=data_VDM_total[data_VDM_total['kmeans_cluster']=='cluster_2'][param].values\n",
    "print(f_oneway(a, b, c))"
   ]
  },
  {
   "cell_type": "markdown",
   "metadata": {},
   "source": [
    "## light dark with combined substances"
   ]
  },
  {
   "cell_type": "markdown",
   "metadata": {},
   "source": [
    "### total intake sum min"
   ]
  },
  {
   "cell_type": "code",
   "execution_count": null,
   "metadata": {},
   "outputs": [],
   "source": [
    "data_VDM_total_ld_min = data_VDM_start.groupby(['IdRFID', 'kmeans_cluster', 'VDM_min_count_running', 'ld_cycle',\n",
    "                                   ])[['intake_ml_kg']].sum().reset_index()\n",
    "\n",
    "data_VDM_total_ld_min.head()"
   ]
  },
  {
   "cell_type": "code",
   "execution_count": null,
   "metadata": {},
   "outputs": [],
   "source": [
    "g=sns.displot(data=data_VDM_total_ld_min, x=\"intake_ml_kg\", kind='ecdf', hue='ld_cycle', col='kmeans_cluster', palette='PuBuGn')\n",
    "#plt.ylim(0,2000)\n",
    "plt.xlim(0,10)\n",
    "\n",
    "g.set_axis_labels('Intake (ml/kg) per minute')\n",
    "plt.show()"
   ]
  },
  {
   "cell_type": "markdown",
   "metadata": {},
   "source": [
    "### total intake sum"
   ]
  },
  {
   "cell_type": "code",
   "execution_count": null,
   "metadata": {},
   "outputs": [],
   "source": [
    "data_VDM_total_ld = data_final_clean_3s.groupby(['IdRFID', 'kmeans_cluster', 'ld_cycle',\n",
    "                                   ])[['intake_ml_kg']].sum().reset_index()\n",
    "\n",
    "data_VDM_total_ld.head()"
   ]
  },
  {
   "cell_type": "code",
   "execution_count": null,
   "metadata": {},
   "outputs": [],
   "source": [
    "g= sns.catplot(x='ld_cycle', y='intake_ml_kg', data=data_VDM_total_ld,  kind='bar', height=5, aspect=1,\n",
    "            ci=68, hue='kmeans_cluster', palette='PuBuGn', hue_order=cluster_order)\n",
    "\n",
    "# map data to stripplot\n",
    "g.map(sns.stripplot, 'ld_cycle', 'intake_ml_kg', 'kmeans_cluster',\n",
    "      palette=sns.color_palette('PuBuGn')[2:4], dodge=True, alpha=0.6, ec='k', linewidth=1, hue_order=cluster_order)\n",
    "\n",
    "\n",
    "plt.xlabel('Light/Dark Cycle')\n",
    "plt.ylabel('Total intake (ml/kg)')\n",
    "plt.show()"
   ]
  },
  {
   "cell_type": "code",
   "execution_count": null,
   "metadata": {
    "scrolled": true
   },
   "outputs": [],
   "source": [
    "dv = 'intake_ml_kg'\n",
    "\n",
    "#RM using Pingouin\n",
    "aov = pg.mixed_anova(dv=dv, within='ld_cycle', between='kmeans_cluster', subject='IdRFID', data=data_VDM_total_ld)\n",
    "pg.print_table(aov)\n",
    "\n",
    "#posthocs\n",
    "posthocs = pg.pairwise_ttests(dv=dv, within='ld_cycle', between='kmeans_cluster',\n",
    "                              subject='IdRFID', data=data_VDM_total_ld, padjust='holm')\n",
    "pg.print_table(posthocs)"
   ]
  },
  {
   "cell_type": "markdown",
   "metadata": {},
   "source": [
    "## daily total combine substances"
   ]
  },
  {
   "cell_type": "markdown",
   "metadata": {},
   "source": [
    "### total intake sum min"
   ]
  },
  {
   "cell_type": "code",
   "execution_count": null,
   "metadata": {},
   "outputs": [],
   "source": [
    "data_VDM_total_daily_min = data_VDM_start.groupby(['IdRFID', 'kmeans_cluster', 'VDM_min_count_running', 'ld_day',\n",
    "                                   ])[['intake_ml_kg']].sum().reset_index()\n",
    "\n",
    "data_VDM_total_daily_min.head()"
   ]
  },
  {
   "cell_type": "code",
   "execution_count": null,
   "metadata": {},
   "outputs": [],
   "source": [
    "g=sns.displot(data=data_VDM_total_daily_min, x=\"intake_ml_kg\", kind='ecdf', hue='ld_day', col='kmeans_cluster', palette='PuBuGn')\n",
    "#plt.ylim(0,2000)\n",
    "plt.xlim(0,10)\n",
    "\n",
    "g.set_axis_labels('Intake (ml/kg) per minute')\n",
    "plt.show()"
   ]
  },
  {
   "cell_type": "markdown",
   "metadata": {},
   "source": [
    "### total intake sum"
   ]
  },
  {
   "cell_type": "code",
   "execution_count": null,
   "metadata": {},
   "outputs": [],
   "source": [
    "data_VDM_total_daily = data_final_clean_3s.groupby(['IdRFID', 'kmeans_cluster', 'ld_day',\n",
    "                                   ])[['intake_ml_kg']].sum().reset_index()\n",
    "\n",
    "data_VDM_total_daily.head()"
   ]
  },
  {
   "cell_type": "code",
   "execution_count": null,
   "metadata": {},
   "outputs": [],
   "source": [
    "g= sns.catplot(x='ld_day', y='intake_ml_kg', data=data_VDM_total_daily,  kind='bar', height=5, aspect=2,\n",
    "            ci=68, hue='kmeans_cluster', palette='PuBuGn', hue_order=cluster_order)\n",
    "\n",
    "# map data to stripplot\n",
    "g.map(sns.stripplot, 'ld_day', 'intake_ml_kg', 'kmeans_cluster',\n",
    "      palette=sns.color_palette('PuBuGn')[2:4], dodge=True, alpha=0.6, ec='k', linewidth=1, hue_order=cluster_order)\n",
    "\n",
    "plt.xlabel('Day')\n",
    "plt.ylabel('Total intake (ml/kg)')\n",
    "plt.show()"
   ]
  },
  {
   "cell_type": "code",
   "execution_count": null,
   "metadata": {
    "scrolled": true
   },
   "outputs": [],
   "source": [
    "dv = 'intake_ml_kg'\n",
    "\n",
    "#RM using Pingouin\n",
    "aov = pg.mixed_anova(dv=dv, within='ld_day', between='kmeans_cluster', subject='IdRFID', data=data_VDM_total_daily)\n",
    "pg.print_table(aov)\n",
    "\n",
    "#posthocs\n",
    "posthocs = pg.pairwise_ttests(dv=dv, within='ld_day', between='kmeans_cluster',\n",
    "                              subject='IdRFID', data=data_VDM_total_daily, padjust='holm')\n",
    "pg.print_table(posthocs)"
   ]
  },
  {
   "cell_type": "markdown",
   "metadata": {},
   "source": [
    "## hourly total with combined substances"
   ]
  },
  {
   "cell_type": "markdown",
   "metadata": {},
   "source": [
    "### total intake sum"
   ]
  },
  {
   "cell_type": "code",
   "execution_count": null,
   "metadata": {},
   "outputs": [],
   "source": [
    "data_VDM_total_hourly = data_final_clean_3s.groupby(['IdRFID', 'kmeans_cluster', 'zeitgeber',\n",
    "                                   ])[['intake_ml_kg']].sum().reset_index()\n",
    "\n",
    "data_VDM_total_hourly.head()"
   ]
  },
  {
   "cell_type": "code",
   "execution_count": null,
   "metadata": {},
   "outputs": [],
   "source": [
    "g= sns.catplot(x='zeitgeber', y='intake_ml_kg', data=data_VDM_total_hourly,  kind='bar', height=5, aspect=2,\n",
    "            ci=68, hue='kmeans_cluster', palette='PuBuGn', hue_order=cluster_order)\n",
    "\n",
    "# map data to stripplot\n",
    "g.map(sns.stripplot, 'zeitgeber', 'intake_ml_kg', 'kmeans_cluster',\n",
    "      palette=sns.color_palette('PuBuGn')[2:4], dodge=True, alpha=0.6, ec='k', linewidth=1, hue_order=cluster_order)\n",
    "\n",
    "plt.xlabel('Zeitgeber time (hour)')\n",
    "plt.ylabel('Total intake (ml/kg)')\n",
    "plt.show()"
   ]
  },
  {
   "cell_type": "code",
   "execution_count": null,
   "metadata": {
    "scrolled": true
   },
   "outputs": [],
   "source": [
    "dv = 'intake_ml_kg'\n",
    "\n",
    "#RM using Pingouin\n",
    "aov = pg.mixed_anova(dv=dv, within='zeitgeber', between='kmeans_cluster', subject='IdRFID', data=data_VDM_total_hourly)\n",
    "pg.print_table(aov)\n",
    "\n",
    "#posthocs\n",
    "posthocs = pg.pairwise_ttests(dv=dv, within='zeitgeber', between='kmeans_cluster',\n",
    "                              subject='IdRFID', data=data_VDM_total_hourly, padjust='holm')\n",
    "pg.print_table(posthocs)"
   ]
  },
  {
   "cell_type": "markdown",
   "metadata": {},
   "source": [
    "## daily and hourly combines substances heatmap"
   ]
  },
  {
   "cell_type": "markdown",
   "metadata": {},
   "source": [
    "### total drinking"
   ]
  },
  {
   "cell_type": "code",
   "execution_count": null,
   "metadata": {},
   "outputs": [],
   "source": [
    "data_VDM_total_hour_day = data_final_clean_3s.groupby(['IdRFID', 'kmeans_cluster', 'zeitgeber', 'ld_day',\n",
    "                                   ])['intake_ml_kg'].sum().reset_index()\n",
    "\n",
    "data_VDM_total_hour_day.head()"
   ]
  },
  {
   "cell_type": "code",
   "execution_count": null,
   "metadata": {},
   "outputs": [],
   "source": [
    "d = data_VDM_total_hour_day[data_VDM_total_hour_day['kmeans_cluster']=='cluster_2']\n",
    "groupby = d.groupby(['ld_day', 'zeitgeber'])['intake_ml_kg'].mean().reset_index()\n",
    "\n",
    "\n",
    "sns.set(font_scale=2)\n",
    "groupby = groupby.pivot('ld_day', 'zeitgeber', \"intake_ml_kg\")\n",
    "plt.figure(figsize=(5,5))\n",
    "ax = sns.heatmap(groupby, cmap=\"PuBuGn\", linewidths=.25, vmax=15,\n",
    "                     cbar_kws={'label': 'Total intake (ml/kg)'})\n",
    "\n",
    "#plt.xlabel('Bottle')\n",
    "plt.show()"
   ]
  },
  {
   "cell_type": "markdown",
   "metadata": {},
   "source": [
    "## total with separate substances"
   ]
  },
  {
   "cell_type": "markdown",
   "metadata": {},
   "source": [
    "### total intake sum min"
   ]
  },
  {
   "cell_type": "code",
   "execution_count": null,
   "metadata": {},
   "outputs": [],
   "source": [
    "data_VDM_total_sub_min = data_VDM_start.groupby(['IdRFID', 'kmeans_cluster', 'VDM_min_count_running', 'substance',\n",
    "                                   ])[['intake_ml_kg']].sum().reset_index()\n",
    "\n",
    "data_VDM_total_sub_min.head()"
   ]
  },
  {
   "cell_type": "code",
   "execution_count": null,
   "metadata": {},
   "outputs": [],
   "source": [
    "g=sns.displot(data=data_VDM_total_sub_min, x=\"intake_ml_kg\", kind='ecdf', hue='substance', col='kmeans_cluster', \n",
    "              hue_order=drink_order, col_order=cluster_order, palette='PuBuGn')\n",
    "#plt.ylim(0,2000)\n",
    "plt.xlim(0,10)\n",
    "\n",
    "g.set_axis_labels('Intake (ml/kg) per minute')\n",
    "plt.show()"
   ]
  },
  {
   "cell_type": "markdown",
   "metadata": {},
   "source": [
    "### total intake sum"
   ]
  },
  {
   "cell_type": "code",
   "execution_count": null,
   "metadata": {},
   "outputs": [],
   "source": [
    "data_VDM_total_sub = data_final_clean_3s.groupby(['IdRFID', 'kmeans_cluster', 'substance',\n",
    "                                   ])[['intake_ml_kg']].sum().reset_index()\n",
    "\n",
    "data_VDM_total_sub.tail()"
   ]
  },
  {
   "cell_type": "code",
   "execution_count": null,
   "metadata": {},
   "outputs": [],
   "source": [
    "g= sns.catplot(x='kmeans_cluster', y='intake_ml_kg', data=data_VDM_total_sub,  kind='bar', height=5, aspect=2,\n",
    "            ci=68, hue='substance', hue_order=drink_order, order=cluster_order, palette='PuBuGn')\n",
    "\n",
    "# map data to stripplot\n",
    "g.map(sns.stripplot, 'kmeans_cluster', 'intake_ml_kg', 'substance',\n",
    "      palette=sns.color_palette('PuBuGn')[2:4], dodge=True, alpha=0.6, ec='k', linewidth=1,\n",
    "      hue_order=drink_order, order=cluster_order,)\n",
    "\n",
    "plt.xlabel('Chamber substance')\n",
    "plt.ylabel('Total intake (ml/kg)')\n",
    "plt.show()"
   ]
  },
  {
   "cell_type": "code",
   "execution_count": null,
   "metadata": {
    "scrolled": true
   },
   "outputs": [],
   "source": [
    "dv = 'intake_ml_kg'\n",
    "\n",
    "#RM using Pingouin\n",
    "aov = pg.mixed_anova(dv=dv, within='substance', between='kmeans_cluster', subject='IdRFID', data=data_VDM_total_sub)\n",
    "pg.print_table(aov)\n",
    "\n",
    "#posthocs\n",
    "posthocs = pg.pairwise_ttests(dv=dv, within='substance', between='kmeans_cluster',\n",
    "                              subject='IdRFID', data=data_VDM_total_sub, padjust='fdr_bh')\n",
    "pg.print_table(posthocs)"
   ]
  },
  {
   "cell_type": "markdown",
   "metadata": {},
   "source": [
    "## light dark with separate substances "
   ]
  },
  {
   "cell_type": "markdown",
   "metadata": {},
   "source": [
    "### total intake"
   ]
  },
  {
   "cell_type": "code",
   "execution_count": null,
   "metadata": {},
   "outputs": [],
   "source": [
    "data_VDM_total_sub_ld = data_final_clean_3s.groupby(['IdRFID', 'kmeans_cluster', 'ld_cycle', 'substance',\n",
    "                                   ])[['intake_ml_kg']].sum().reset_index()\n",
    "\n",
    "data_VDM_total_sub_ld.head()"
   ]
  },
  {
   "cell_type": "code",
   "execution_count": null,
   "metadata": {},
   "outputs": [],
   "source": [
    "d = data_VDM_total_sub_ld[data_VDM_total_sub_ld['kmeans_cluster']=='cluster_2']\n",
    "\n",
    "g= sns.catplot(x='ld_cycle', y='intake_ml_kg', data=d,  kind='bar', height=5, aspect=1,\n",
    "            ci=68, hue='substance', palette='PuBuGn', hue_order=drink_order,)\n",
    "\n",
    "# map data to stripplot\n",
    "g.map(sns.stripplot, 'ld_cycle', 'intake_ml_kg', 'substance', hue_order=drink_order,\n",
    "      palette=sns.color_palette('PuBuGn')[2:4], dodge=True, alpha=0.6, ec='k', \n",
    "      linewidth=1)\n",
    "\n",
    "plt.ylim(0,1250)\n",
    "plt.xlabel('Light/Dark Cycle')\n",
    "plt.ylabel('Total intake (ml/kg)')\n",
    "plt.show()"
   ]
  },
  {
   "cell_type": "code",
   "execution_count": null,
   "metadata": {
    "scrolled": true
   },
   "outputs": [],
   "source": [
    "dv = 'intake_ml_kg'\n",
    "\n",
    "#RM using Pingouin\n",
    "aov = pg.rm_anova(dv=dv, within=['ld_cycle', 'substance'], subject='IdRFID', data=d)\n",
    "pg.print_table(aov)\n",
    "\n",
    "#posthocs\n",
    "posthocs = pg.pairwise_ttests(dv=dv, within=['ld_cycle', 'substance'],\n",
    "                              subject='IdRFID', data=d, padjust='fdr_bh')\n",
    "pg.print_table(posthocs)"
   ]
  },
  {
   "cell_type": "markdown",
   "metadata": {},
   "source": [
    "## daily with separate substances"
   ]
  },
  {
   "cell_type": "code",
   "execution_count": null,
   "metadata": {},
   "outputs": [],
   "source": [
    "data_VDM_total_sub_day = data_final_clean_3s.groupby(['IdRFID', 'kmeans_cluster', 'ld_day', 'substance',\n",
    "                                   ])[['intake_ml_kg']].sum().reset_index()\n",
    "\n",
    "data_VDM_total_sub_day.head()"
   ]
  },
  {
   "cell_type": "code",
   "execution_count": null,
   "metadata": {},
   "outputs": [],
   "source": [
    "data_VDM_total_sub_day['intake_ml_kg'].max()"
   ]
  },
  {
   "cell_type": "code",
   "execution_count": null,
   "metadata": {},
   "outputs": [],
   "source": [
    "sub = 'Fent20'\n",
    "d = data_VDM_total_sub_day[data_VDM_total_sub_day['substance']==sub]\n",
    "order=['cluster_0', 'cluster_1', 'cluster_2']\n",
    "g= sns.catplot(x='kmeans_cluster', y='intake_ml_kg', data=d,  kind='bar', height=5, aspect=1.2,\n",
    "            ci=68, hue='ld_day', palette='PuBuGn', order=order)\n",
    "\n",
    "# map data to stripplot\n",
    "g.map(sns.stripplot, 'kmeans_cluster', 'intake_ml_kg', 'ld_day', \n",
    "      palette=sns.color_palette('PuBuGn')[2:4], dodge=True, alpha=0.6, ec='k', linewidth=1, order=order)\n",
    "\n",
    "plt.ylim(0,400)\n",
    "plt.title(sub)\n",
    "plt.xlabel('Day')\n",
    "plt.ylabel('Total intake (ml/kg)')\n",
    "plt.show()"
   ]
  },
  {
   "cell_type": "code",
   "execution_count": null,
   "metadata": {},
   "outputs": [],
   "source": [
    "dv = 'intake_ml_kg'\n",
    "\n",
    "#RM using Pingouin\n",
    "aov = pg.mixed_anova(dv=dv, within='ld_day', between='kmeans_cluster', subject='IdRFID', data=d)\n",
    "pg.print_table(aov)\n",
    "\n",
    "#posthocs\n",
    "posthocs = pg.pairwise_ttests(dv=dv, within='ld_day', between='kmeans_cluster',\n",
    "                              subject='IdRFID', data=d, padjust='fdr_bh')\n",
    "pg.print_table(posthocs)"
   ]
  },
  {
   "cell_type": "markdown",
   "metadata": {},
   "source": [
    "## daily and hourly total with separate substances heatmap"
   ]
  },
  {
   "cell_type": "markdown",
   "metadata": {},
   "source": [
    "### total intake"
   ]
  },
  {
   "cell_type": "code",
   "execution_count": null,
   "metadata": {},
   "outputs": [],
   "source": [
    "data_VDM_total_sub_day_hour = data_final_clean_3s.groupby(['IdRFID', 'kmeans_cluster', 'substance', 'ld_day', 'zeitgeber',\n",
    "                                   ])[['intake_ml_kg']].sum().reset_index()\n",
    "\n",
    "data_VDM_total_sub_day_hour.head()"
   ]
  },
  {
   "cell_type": "code",
   "execution_count": null,
   "metadata": {},
   "outputs": [],
   "source": [
    "d = data_VDM_total_sub_day_hour[data_VDM_total_sub_day_hour['kmeans_cluster']=='cluster_2']\n",
    "d = d[d['substance']=='Fent20']\n",
    "groupby = d.groupby(['ld_day', 'zeitgeber'])['intake_ml_kg'].mean().reset_index()\n",
    "\n",
    "\n",
    "sns.set(font_scale=2)\n",
    "groupby = groupby.pivot('ld_day', 'zeitgeber', \"intake_ml_kg\")\n",
    "plt.figure(figsize=(5,5))\n",
    "ax = sns.heatmap(groupby, cmap=\"PuBuGn\", linewidths=.25, vmax=10,\n",
    "                     cbar_kws={'label': 'Total intake (ml/kg)'})\n",
    "\n",
    "#plt.xlabel('Bottle')\n",
    "plt.show()"
   ]
  },
  {
   "cell_type": "markdown",
   "metadata": {},
   "source": [
    "## preference"
   ]
  },
  {
   "cell_type": "markdown",
   "metadata": {},
   "source": [
    "#### total by substance"
   ]
  },
  {
   "cell_type": "code",
   "execution_count": null,
   "metadata": {},
   "outputs": [],
   "source": [
    "data_summary_vol = data_VDM_total_sub.set_index(['IdRFID', 'kmeans_cluster', \n",
    "                                  'substance'])[['intake_ml_kg']].unstack(-1).reset_index()\n",
    "\n",
    "data_summary_vol.columns = ['IdRFID', 'kmeans_cluster', \n",
    "                        'EtOH05', 'EtOH10', 'Fent05', 'Fent20', 'water',]\n",
    "\n",
    "data_summary_vol.replace(np.nan, 0, inplace=True)\n",
    "\n",
    "data_summary_vol['total_alcohol_intake'] = data_summary_vol['EtOH05'] + data_summary_vol['EtOH10'] \n",
    "data_summary_vol['total_fent_intake'] = data_summary_vol['Fent05'] + data_summary_vol['Fent20'] \n",
    "\n",
    "data_summary_vol['overall_alcohol_pref'] = data_summary_vol['total_alcohol_intake'] / (data_summary_vol['total_alcohol_intake'] + data_summary_vol['water'])\n",
    "data_summary_vol['overall_fent_pref'] = data_summary_vol['total_fent_intake'] / (data_summary_vol['total_fent_intake'] + data_summary_vol['water'])\n",
    "\n",
    "data_summary_vol['DP_alcohol'] =  ((data_summary_vol['EtOH05']*.05) + (data_summary_vol['EtOH10']*.1))  \\\n",
    "/ (data_summary_vol['EtOH05'] + data_summary_vol['EtOH10'])\n",
    "\n",
    "data_summary_vol['DP_fent'] =  ((data_summary_vol['Fent05']*.05) + (data_summary_vol['Fent20']*.2))  \\\n",
    "/ (data_summary_vol['Fent05'] + data_summary_vol['Fent20'])\n",
    "data_summary_vol.replace(np.nan, 0, inplace=True)\n",
    "data_summary_vol.head()"
   ]
  },
  {
   "cell_type": "code",
   "execution_count": null,
   "metadata": {},
   "outputs": [],
   "source": [
    "g = sns.catplot(x='kmeans_cluster', y='DP_fent', data=data_summary_vol,  kind='bar', height=5, aspect=1.2,\n",
    "            ci=68, palette='PuBuGn', order=cluster_order)\n",
    "\n",
    "# map data to stripplot\n",
    "g.map(sns.stripplot, 'kmeans_cluster', 'DP_fent', \n",
    "      palette=sns.color_palette('PuBuGn')[2:4], dodge=True, alpha=0.6, ec='k', linewidth=1, order=cluster_order)\n",
    "plt.ylabel('Fentanyl Dose Preference')\n",
    "plt.show()\n",
    "\n",
    "param = 'DP_fent'\n",
    "a=data_summary_vol[data_summary_vol['kmeans_cluster']=='cluster_0'][param].values\n",
    "b=data_summary_vol[data_summary_vol['kmeans_cluster']=='cluster_1'][param].values\n",
    "c=data_summary_vol[data_summary_vol['kmeans_cluster']=='cluster_2'][param].values\n",
    "print(f_oneway(a, b, c))"
   ]
  },
  {
   "cell_type": "markdown",
   "metadata": {},
   "source": [
    "#### daily by substance"
   ]
  },
  {
   "cell_type": "code",
   "execution_count": null,
   "metadata": {},
   "outputs": [],
   "source": [
    "data_summary_vol_day = data_VDM_total_sub_day.set_index(['IdRFID', 'kmeans_cluster', 'ld_day', \n",
    "                                  'substance'])[['intake_ml_kg']].unstack(-1).reset_index()\n",
    "\n",
    "data_summary_vol_day.columns = ['IdRFID', 'kmeans_cluster', 'ld_day', \n",
    "                        'EtOH05', 'EtOH10', 'Fent05', 'Fent20', 'water',]\n",
    "\n",
    "data_summary_vol_day.replace(np.nan, 0, inplace=True)\n",
    "\n",
    "data_summary_vol_day['total_alcohol_intake'] = data_summary_vol_day['EtOH05'] + data_summary_vol_day['EtOH10'] \n",
    "data_summary_vol_day['total_fent_intake'] = data_summary_vol_day['Fent05'] + data_summary_vol_day['Fent20'] \n",
    "\n",
    "data_summary_vol_day['overall_alcohol_pref'] = data_summary_vol_day['total_alcohol_intake'] / (data_summary_vol_day['total_alcohol_intake'] + data_summary_vol_day['water'])\n",
    "data_summary_vol_day['overall_fent_pref'] = data_summary_vol_day['total_fent_intake'] / (data_summary_vol_day['total_fent_intake'] + data_summary_vol_day['water'])\n",
    "\n",
    "data_summary_vol_day['DP_alcohol'] =  ((data_summary_vol_day['EtOH05']*.05) + (data_summary_vol_day['EtOH10']*.1))  \\\n",
    "/ (data_summary_vol_day['EtOH05'] + data_summary_vol_day['EtOH10'])\n",
    "\n",
    "data_summary_vol_day['DP_fent'] =  ((data_summary_vol_day['Fent05']*.05) + (data_summary_vol_day['Fent20']*.2))  \\\n",
    "/ (data_summary_vol_day['Fent05'] + data_summary_vol_day['Fent20'])\n",
    "\n",
    "data_summary_vol_day.replace(np.nan, 0, inplace=True)\n",
    "data_summary_vol_day.head()"
   ]
  },
  {
   "cell_type": "code",
   "execution_count": null,
   "metadata": {},
   "outputs": [],
   "source": [
    "g= sns.catplot(x='ld_day', y='overall_fent_pref', data=data_summary_vol_day,  kind='bar', height=5, aspect=1,\n",
    "            ci=68, hue='kmeans_cluster', palette='PuBuGn', hue_order=cluster_order)\n",
    "\n",
    "# map data to DP_fent\n",
    "g.map(sns.stripplot, 'ld_day', 'overall_fent_pref', 'kmeans_cluster', hue_order=cluster_order,\n",
    "      palette=sns.color_palette('PuBuGn')[2:4], dodge=True, alpha=0.6, ec='k', linewidth=1)\n",
    "\n",
    "#plt.ylim(0,1250)\n",
    "plt.xlabel('Day')\n",
    "plt.ylabel('Fentanyl/Water Preference')\n",
    "plt.show()"
   ]
  },
  {
   "cell_type": "code",
   "execution_count": null,
   "metadata": {},
   "outputs": [],
   "source": [
    "dv = 'DP_fent'\n",
    "\n",
    "#RM using Pingouin\n",
    "aov = pg.mixed_anova(dv=dv, within='ld_day', between='kmeans_cluster', subject='IdRFID', data=data_summary_vol_day)\n",
    "pg.print_table(aov)\n",
    "\n",
    "#posthocs\n",
    "posthocs = pg.pairwise_ttests(dv=dv, within='ld_day', between='kmeans_cluster',\n",
    "                              subject='IdRFID', data=data_summary_vol_day, padjust='fdr_bh')\n",
    "pg.print_table(posthocs)"
   ]
  },
  {
   "cell_type": "markdown",
   "metadata": {},
   "source": [
    "#### daily and hourly total by substance"
   ]
  },
  {
   "cell_type": "code",
   "execution_count": null,
   "metadata": {},
   "outputs": [],
   "source": [
    "data_summary_vol_day = data_VDM_total_sub_day_hour.set_index(['IdRFID', 'kmeans_cluster', 'ld_day', 'zeitgeber',\n",
    "                                  'substance'])[['intake_ml_kg']].unstack(-1).reset_index()\n",
    "\n",
    "data_summary_vol_day.columns = ['IdRFID', 'kmeans_cluster', 'ld_day', 'zeitgeber',\n",
    "                        'EtOH05', 'EtOH10', 'Fent05', 'Fent20', 'water',]\n",
    "\n",
    "data_summary_vol_day.replace(np.nan, 0, inplace=True)\n",
    "\n",
    "data_summary_vol_day['total_alcohol_intake'] = data_summary_vol_day['EtOH05'] + data_summary_vol_day['EtOH10'] \n",
    "data_summary_vol_day['total_fent_intake'] = data_summary_vol_day['Fent05'] + data_summary_vol_day['Fent20'] \n",
    "\n",
    "data_summary_vol_day['overall_alcohol_pref'] = data_summary_vol_day['total_alcohol_intake'] / (data_summary_vol_day['total_alcohol_intake'] + data_summary_vol_day['water'])\n",
    "data_summary_vol_day['overall_fent_pref'] = data_summary_vol_day['total_fent_intake'] / (data_summary_vol_day['total_fent_intake'] + data_summary_vol_day['water'])\n",
    "\n",
    "data_summary_vol_day['DP_alcohol'] =  ((data_summary_vol_day['EtOH05']*.05) + (data_summary_vol_day['EtOH10']*.1))  \\\n",
    "/ (data_summary_vol_day['EtOH05'] + data_summary_vol_day['EtOH10'])\n",
    "\n",
    "data_summary_vol_day['DP_fent'] =  ((data_summary_vol_day['Fent05']*.05) + (data_summary_vol_day['Fent20']*.2))  \\\n",
    "/ (data_summary_vol_day['Fent05'] + data_summary_vol_day['Fent20'])\n",
    "\n",
    "data_summary_vol_day.replace(np.nan, 0, inplace=True)\n",
    "data_summary_vol_day.head()"
   ]
  },
  {
   "cell_type": "code",
   "execution_count": null,
   "metadata": {},
   "outputs": [],
   "source": [
    "d = data_summary_vol_day[data_summary_vol_day['kmeans_cluster']=='cluster_2']\n",
    "\n",
    "groupby = d.groupby(['ld_day', 'zeitgeber'])['DP_fent'].mean().reset_index()\n",
    "\n",
    "\n",
    "sns.set(font_scale=2)\n",
    "groupby = groupby.pivot('ld_day', 'zeitgeber', \"DP_fent\")\n",
    "plt.figure(figsize=(5,5))\n",
    "ax = sns.heatmap(groupby, cmap=\"PuBuGn\", linewidths=.25, vmax=.2,\n",
    "                     cbar_kws={'label': 'Fentanyl Preference'})\n",
    "\n",
    "#plt.xlabel('Bottle')\n",
    "plt.show()"
   ]
  },
  {
   "cell_type": "code",
   "execution_count": null,
   "metadata": {
    "scrolled": true
   },
   "outputs": [],
   "source": [
    "dv = 'overall_alcohol_pref'\n",
    "\n",
    "#RM using Pingouin\n",
    "aov = pg.mixed_anova(dv=dv, within='ld_day', between='kmeans_cluster', subject='IdRFID', data=data_summary_vol_day)\n",
    "pg.print_table(aov)\n",
    "\n",
    "#posthocs\n",
    "posthocs = pg.pairwise_ttests(dv=dv, within='ld_day', between='kmeans_cluster',\n",
    "                              subject='IdRFID', data=data_summary_vol_day, padjust='holm')\n",
    "pg.print_table(posthocs)"
   ]
  },
  {
   "cell_type": "markdown",
   "metadata": {},
   "source": [
    "## ID heatmap"
   ]
  },
  {
   "cell_type": "code",
   "execution_count": null,
   "metadata": {},
   "outputs": [],
   "source": [
    "data_VDM_total_sub['Id'] = data_VDM_total_sub['kmeans_cluster'] + '_' + data_VDM_total_sub['IdRFID'].astype('str')\n",
    "data_VDM_total_sub.head()"
   ]
  },
  {
   "cell_type": "code",
   "execution_count": null,
   "metadata": {
    "scrolled": true
   },
   "outputs": [],
   "source": [
    "sns.set(font_scale=2)\n",
    "groupby = data_VDM_total_sub.pivot('Id', 'substance', \"intake_ml_kg\")\n",
    "plt.figure(figsize=(5,15))\n",
    "ax = sns.heatmap(groupby, cmap=\"PuBuGn\", linewidths=.25, \n",
    "                     cbar_kws={'label': 'Total intake (ml/kg)'})\n",
    "\n",
    "#plt.xlabel('Bottle')\n",
    "plt.show()"
   ]
  }
 ],
 "metadata": {
  "kernelspec": {
   "display_name": "Python 3",
   "language": "python",
   "name": "python3"
  },
  "language_info": {
   "codemirror_mode": {
    "name": "ipython",
    "version": 3
   },
   "file_extension": ".py",
   "mimetype": "text/x-python",
   "name": "python",
   "nbconvert_exporter": "python",
   "pygments_lexer": "ipython3",
   "version": "3.6.12"
  },
  "toc": {
   "base_numbering": 1,
   "nav_menu": {},
   "number_sections": true,
   "sideBar": true,
   "skip_h1_title": false,
   "title_cell": "Table of Contents",
   "title_sidebar": "Contents",
   "toc_cell": false,
   "toc_position": {
    "height": "calc(100% - 180px)",
    "left": "10px",
    "top": "150px",
    "width": "165px"
   },
   "toc_section_display": true,
   "toc_window_display": true
  }
 },
 "nbformat": 4,
 "nbformat_minor": 2
}
