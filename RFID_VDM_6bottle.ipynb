{
 "cells": [
  {
   "cell_type": "code",
   "execution_count": null,
   "metadata": {},
   "outputs": [],
   "source": [
    "#getting and working with data\n",
    "import pandas as pd\n",
    "import numpy as np\n",
    "import re\n",
    "import os\n",
    "import datetime as dt\n",
    "import string\n",
    "\n",
    "#visualizing results\n",
    "import matplotlib.pyplot as plt\n",
    "%matplotlib inline\n",
    "import seaborn as sns\n",
    "sns.set_context(\"poster\")\n",
    "sns.set_style(\"ticks\")\n",
    "sns.set(font_scale=2)\n",
    "\n",
    "pd.set_option('display.max_rows', 500)\n",
    "pd.set_option('display.max_columns', 500)\n",
    "pd.set_option('display.width', 15000)\n",
    "pd.set_option('display.max_colwidth', -1)\n",
    "\n",
    "import warnings; warnings.simplefilter('ignore')\n",
    "np.set_printoptions(suppress=True)"
   ]
  },
  {
   "cell_type": "markdown",
   "metadata": {},
   "source": [
    "### RFID data"
   ]
  },
  {
   "cell_type": "markdown",
   "metadata": {},
   "source": [
    "#### Get paths for files to process"
   ]
  },
  {
   "cell_type": "code",
   "execution_count": null,
   "metadata": {},
   "outputs": [],
   "source": [
    "#create list of dir paths\n",
    "RFID_path = '/Users/abbieschindler/Documents/Schindler_Lab/Data/RFID_VDM/AQP4/RFID'\n",
    "    \n",
    "RFID_file_names = os.listdir(RFID_path)\n",
    "\n",
    "RFID_data_dir_paths = []\n",
    "\n",
    "for file in RFID_file_names:\n",
    "    int_path = RFID_path + '/' + file\n",
    "    RFID_data_dir_paths.append(int_path)\n",
    "    \n",
    "RFID_data_dir_paths"
   ]
  },
  {
   "cell_type": "markdown",
   "metadata": {},
   "source": [
    "#### Clean df and fix datetime"
   ]
  },
  {
   "cell_type": "code",
   "execution_count": null,
   "metadata": {
    "scrolled": true
   },
   "outputs": [],
   "source": [
    "path = RFID_data_dir_paths[1]\n",
    "\n",
    "data_RFID_int = pd.read_csv(path, sep=';', encoding='utf-16')\n",
    "\n",
    "data_RFID_int = pd.DataFrame(data = data_RFID_int)\n",
    "print(data_RFID_int.shape)\n",
    "\n",
    "data_RFID_int.head(50)"
   ]
  },
  {
   "cell_type": "code",
   "execution_count": null,
   "metadata": {},
   "outputs": [],
   "source": [
    "row_drop = 33\n",
    "\n",
    "data_RFID = pd.DataFrame()\n",
    "\n",
    "for path in RFID_data_dir_paths:\n",
    "    print(path)\n",
    "\n",
    "    if path.split('/')[-1] == '.DS_Store':\n",
    "        continue\n",
    "    \n",
    "    #data_RFID_int['file'] = path.split('/')[-1]\n",
    "    \n",
    "    #create data table\n",
    "    data_RFID_int = pd.read_csv(path, sep=';', encoding='utf-16')\n",
    "    data_RFID_int = pd.DataFrame(data = data_RFID_int)\n",
    "    data_RFID_int = data_RFID_int.iloc[row_drop: , :]\n",
    "    print(data_RFID_int.shape)\n",
    "    \n",
    "    #add file name\n",
    "    data_RFID_int['RFID_file'] = path.split('/')[-1]\n",
    "                                            \n",
    "    #drop rows with no event duration\n",
    "    data_RFID_int = data_RFID_int[~data_RFID_int['eventDuration'].isna()]\n",
    "    print(data_RFID_int.shape)\n",
    "    data_RFID_int = data_RFID_int[~data_RFID_int['DateTime'].isna()]\n",
    "    print(data_RFID_int.shape)\n",
    "\n",
    "    #convert from ms to sec\n",
    "    data_RFID_int['eventDuration'] = data_RFID_int['eventDuration']/1000\n",
    "    #clean up and create datetime columns\n",
    "    data_RFID_int['start_datetime'] = pd.to_datetime(data_RFID_int['DateTime'], unit='d')\n",
    "    #can't figure out datetime format so hard code for now\n",
    "    data_RFID_int['RFID_datetime_start'] = [x.replace(year = 2023) - dt.timedelta(days = 1) for x in data_RFID_int['start_datetime']] \n",
    "    data_RFID_int['RFID_date'] = data_RFID_int['RFID_datetime_start'].dt.date \n",
    "    data_RFID_int['RFID_day'] = data_RFID_int['RFID_datetime_start'].dt.day \n",
    "    data_RFID_int['RFID_time_start'] = [x.split(' ')[1] for x in data_RFID_int['RFID_datetime_start'].dt.strftime(\"%Y-%m-%d %H:%M:%S\")]\n",
    "    data_RFID_int['RFID_hour'] = data_RFID_int['RFID_datetime_start'].dt.hour\n",
    "    data_RFID_int['RFID_min'] = data_RFID_int['RFID_datetime_start'].dt.minute\n",
    "    data_RFID_int['RFID_second'] = data_RFID_int['RFID_datetime_start'].dt.second\n",
    "\n",
    "    if data_RFID.empty:\n",
    "        data_RFID = data_RFID_int\n",
    "    else:\n",
    "        data_RFID = pd.concat([data_RFID, data_RFID_int], axis=0)\n",
    "        \n",
    "    print(data_RFID.shape,'\\n')\n",
    "\n",
    "#clean columns\n",
    "data_RFID = data_RFID[['RFID_file', 'IdRFID', 'unitLabel', 'eventDuration',\n",
    "       'RFID_datetime_start', 'RFID_date',\n",
    "       'RFID_day', 'RFID_time_start', 'RFID_hour', 'RFID_min', 'RFID_second']]\n",
    "\n",
    "print(data_RFID.shape,'\\n')\n",
    "\n",
    "data_RFID.head()"
   ]
  },
  {
   "cell_type": "code",
   "execution_count": null,
   "metadata": {},
   "outputs": [],
   "source": [
    "data_RFID['RFID_day'].value_counts()"
   ]
  },
  {
   "cell_type": "code",
   "execution_count": null,
   "metadata": {},
   "outputs": [],
   "source": [
    "data_RFID['IdRFID'].value_counts()"
   ]
  },
  {
   "cell_type": "markdown",
   "metadata": {},
   "source": [
    "#### Compute endtime "
   ]
  },
  {
   "cell_type": "code",
   "execution_count": null,
   "metadata": {},
   "outputs": [],
   "source": [
    "#compute end time for each eventDuration\n",
    "def add_duration(a, b):\n",
    "    newtime = a + dt.timedelta(0, b)\n",
    "\n",
    "    return newtime\n",
    "\n",
    "data_RFID['RFID_datetime_end'] = data_RFID.apply(lambda row: add_duration(row['RFID_datetime_start'], row['eventDuration']), axis=1)\n",
    "data_RFID['RFID_time_end'] = [x.split(' ')[1] for x in data_RFID['RFID_datetime_end'].dt.strftime(\"%Y-%m-%d %H:%M:%S\")]\n",
    "\n",
    "print(data_RFID.shape)\n",
    "data_RFID.head()"
   ]
  },
  {
   "cell_type": "markdown",
   "metadata": {},
   "source": [
    "#### Add day, hour, and min counts"
   ]
  },
  {
   "cell_type": "code",
   "execution_count": null,
   "metadata": {},
   "outputs": [],
   "source": [
    "#column of running day count\n",
    "dat_map = dict(zip(data_RFID['RFID_date'].sort_values().unique(), np.arange(0,len(data_RFID['RFID_date'].unique()))))\n",
    "data_RFID['RFID_day_count'] = data_RFID['RFID_date'].map(dat_map)\n",
    "\n",
    "#column of running min and second count within each day\n",
    "data_RFID['RFID_min_count'] = (data_RFID['RFID_hour']*60) + data_RFID['RFID_min'] \n",
    "data_RFID['RFID_sec_count'] = (data_RFID['RFID_min_count']*60) + data_RFID['RFID_second'] \n",
    "\n",
    "#column of running hour and minute count across all days\n",
    "data_RFID['RFID_hour_count_running'] = (data_RFID['RFID_day_count']*24) + data_RFID['RFID_hour'] - 24\n",
    "data_RFID['RFID_min_count_running'] = (data_RFID['RFID_hour_count_running']*60) + data_RFID['RFID_min'] \n",
    "data_RFID['RFID_sec_count_running'] = (data_RFID['RFID_min_count_running']*60) + data_RFID['RFID_second'] - 60\n",
    "\n",
    "print(data_RFID.shape)\n",
    "data_RFID.head()"
   ]
  },
  {
   "cell_type": "code",
   "execution_count": null,
   "metadata": {},
   "outputs": [],
   "source": [
    "dat_map"
   ]
  },
  {
   "cell_type": "markdown",
   "metadata": {},
   "source": [
    "#### Light/dark mapping"
   ]
  },
  {
   "cell_type": "code",
   "execution_count": null,
   "metadata": {},
   "outputs": [],
   "source": [
    "def assign_ld(time):\n",
    "    if (time >= 6) & (time < 18):\n",
    "        return 'light'\n",
    "    if (time >= 0) & (time < 6):\n",
    "        return 'dark_am'\n",
    "    if (time >= 18):\n",
    "        return 'dark_pm'\n",
    "    \n",
    "data_RFID['ld_seg'] = data_RFID['RFID_hour'].apply(assign_ld)\n",
    "\n",
    "print(data_RFID.shape)\n",
    "data_RFID.head()\n"
   ]
  },
  {
   "cell_type": "code",
   "execution_count": null,
   "metadata": {},
   "outputs": [],
   "source": [
    "ld_mapping_path = '/Users/abbieschindler/Documents/Schindler_Lab/Data/RFID_VDM/AQP4/meta/ld_mapping.xlsx'\n",
    "\n",
    "ld_mapping = pd.read_excel(ld_mapping_path)\n",
    "ld_mapping = pd.DataFrame(data = ld_mapping)\n",
    "print(ld_mapping.shape)\n",
    "ld_mapping.head()"
   ]
  },
  {
   "cell_type": "code",
   "execution_count": null,
   "metadata": {},
   "outputs": [],
   "source": [
    "data_RFID = data_RFID.merge(ld_mapping, right_on=['day', 'ld_seg'], left_on=['RFID_day_count', 'ld_seg'])\n",
    "print(data_RFID.shape)\n",
    "data_RFID.head()"
   ]
  },
  {
   "cell_type": "code",
   "execution_count": null,
   "metadata": {},
   "outputs": [],
   "source": [
    "sns.displot(data=data_RFID, x=\"eventDuration\", kind=\"ecdf\", hue='IdRFID', col='ld_cycle')\n",
    "plt.xlabel('Visit Duration (sec)')\n",
    "plt.xlim(0, 60)\n",
    "plt.show()"
   ]
  },
  {
   "cell_type": "code",
   "execution_count": null,
   "metadata": {},
   "outputs": [],
   "source": [
    "data_RFID.groupby(['unitLabel'])['IdRFID'].value_counts()"
   ]
  },
  {
   "cell_type": "markdown",
   "metadata": {},
   "source": [
    "#### Map unitLabel and bottle contents"
   ]
  },
  {
   "cell_type": "code",
   "execution_count": null,
   "metadata": {},
   "outputs": [],
   "source": [
    "RFID_bottle_assignment_path = '/Users/abbieschindler/Documents/Schindler_Lab/Data/RFID_VDM/AQP4/meta/bottle_assignment_RFID.xlsx'\n",
    "\n",
    "RFID_bottle_assignment = pd.read_excel(RFID_bottle_assignment_path)\n",
    "RFID_bottle_assignment = pd.DataFrame(data = RFID_bottle_assignment)\n",
    "print(RFID_bottle_assignment.shape)\n",
    "RFID_bottle_assignment.tail()"
   ]
  },
  {
   "cell_type": "code",
   "execution_count": null,
   "metadata": {},
   "outputs": [],
   "source": [
    "data_RFID_bottle = pd.DataFrame()\n",
    "\n",
    "for file in data_RFID['RFID_file'].unique():\n",
    "    print(file)\n",
    "    d_int = data_RFID[data_RFID['RFID_file']==file]\n",
    "    \n",
    "    RFID_bottle_map = RFID_bottle_assignment[RFID_bottle_assignment['RFID_file']==file].reset_index().loc[0,'Spyder1.01':'Spyder1.32'].to_dict()\n",
    "    d_int['unitLabel_drink'] = d_int['unitLabel'].map(RFID_bottle_map)\n",
    "    \n",
    "    if data_RFID_bottle.empty:\n",
    "        data_RFID_bottle = d_int\n",
    "    else:\n",
    "        data_RFID_bottle = pd.concat([data_RFID_bottle, d_int], axis=0)\n",
    "        \n",
    "    print(data_RFID_bottle.shape,'\\n')\n",
    "    \n",
    "data_RFID_bottle.head()"
   ]
  },
  {
   "cell_type": "code",
   "execution_count": null,
   "metadata": {},
   "outputs": [],
   "source": [
    "data_RFID = data_RFID_bottle\n",
    "\n",
    "data_RFID.groupby('unitLabel_drink')['unitLabel'].value_counts()"
   ]
  },
  {
   "cell_type": "markdown",
   "metadata": {},
   "source": [
    "#### Add metadata and clean"
   ]
  },
  {
   "cell_type": "code",
   "execution_count": null,
   "metadata": {},
   "outputs": [],
   "source": [
    "meta_path = '/Users/abbieschindler/Documents/Schindler_Lab/Data/RFID_VDM/AQP4/meta/meta_data.xlsx'\n",
    "meta_data = pd.read_excel(meta_path)\n",
    "meta_data = pd.DataFrame(data = meta_data)\n",
    "meta_data['IdRFID'] = [str(x) for x in meta_data['IdRFID']]\n",
    "data_RFID_final = meta_data.merge(data_RFID.reset_index(), on='IdRFID', sort=False)\n",
    "\n",
    "print(data_RFID_final.shape)\n",
    "data_RFID_final.head()"
   ]
  },
  {
   "cell_type": "code",
   "execution_count": null,
   "metadata": {},
   "outputs": [],
   "source": [
    "data_RFID_final.columns.values"
   ]
  },
  {
   "cell_type": "code",
   "execution_count": null,
   "metadata": {},
   "outputs": [],
   "source": [
    "data_RFID_final = data_RFID_final[['IdRFID', 'Genotype', 'Sex', 'ld_cycle', 'ld_day',\n",
    "                                   'unitLabel', 'eventDuration', 'unitLabel_drink',\n",
    "                                   'RFID_datetime_start', 'RFID_time_start', 'RFID_datetime_end', 'RFID_time_end',\n",
    "                                   'RFID_date', 'RFID_day', 'RFID_hour', 'RFID_min', 'RFID_second', \n",
    "                                   'RFID_day_count', 'RFID_min_count', 'RFID_sec_count',\n",
    "                                   'RFID_hour_count_running', 'RFID_min_count_running', 'RFID_sec_count_running',\n",
    "                                   'Cage', 'Animal', 'ARF_Cage', 'Round', 'Startdate', 'Cage_N', 'RFID_file', \n",
    "                                   'wt1', 'wt2', 'wt_change']]\n",
    "\n",
    "print(data_RFID_final.shape)\n",
    "data_RFID_final.head()"
   ]
  },
  {
   "cell_type": "code",
   "execution_count": null,
   "metadata": {},
   "outputs": [],
   "source": [
    "data_RFID_final.groupby('Sex')['Cage'].value_counts()"
   ]
  },
  {
   "cell_type": "code",
   "execution_count": null,
   "metadata": {},
   "outputs": [],
   "source": [
    "data_RFID_final.to_csv('RFID_231211.csv')"
   ]
  },
  {
   "cell_type": "markdown",
   "metadata": {},
   "source": [
    "#### Viz"
   ]
  },
  {
   "cell_type": "code",
   "execution_count": null,
   "metadata": {
    "scrolled": false
   },
   "outputs": [],
   "source": [
    "data_int = data_RFID_final\n",
    "sns.displot(data=data_int, x=\"eventDuration\", kind=\"ecdf\", hue='Genotype')\n",
    "plt.xlabel('Visit Duration (sec)')\n",
    "plt.xlim(0, 60)\n",
    "plt.show()"
   ]
  },
  {
   "cell_type": "code",
   "execution_count": null,
   "metadata": {},
   "outputs": [],
   "source": [
    "data_int = data_RFID_final\n",
    "\n",
    "data_int = data_int.groupby(['Sex', 'IdRFID', 'Genotype', 'ld_day', 'unitLabel_drink'])['eventDuration'].sum().reset_index(name='count')\n",
    "\n",
    "plt.figure(figsize=(10,5))\n",
    "params = {'axes.labelsize': 30,\n",
    "          'axes.titlesize': 30}\n",
    "plt.rc('xtick', labelsize=15) \n",
    "plt.rc('ytick', labelsize=15) \n",
    "sns.catplot(data=data_int, x=\"unitLabel_drink\", y='count', hue=\"Genotype\", kind='bar', height=5, aspect=2, \n",
    "            ci=68, col='Sex')\n",
    "plt.legend(loc='upper center', bbox_to_anchor=(0.5, 1.3), \n",
    "          ncol=5, fancybox=True, shadow=True)\n",
    "plt.xlabel('Substance type')\n",
    "plt.ylabel('Visit count')\n",
    "plt.show()"
   ]
  },
  {
   "cell_type": "markdown",
   "metadata": {},
   "source": [
    "### VDM data"
   ]
  },
  {
   "cell_type": "markdown",
   "metadata": {},
   "source": [
    "#### Get paths for files to process"
   ]
  },
  {
   "cell_type": "code",
   "execution_count": null,
   "metadata": {},
   "outputs": [],
   "source": [
    "#create list of dir paths\n",
    "VDM_path = '/Users/abbieschindler/Documents/Schindler_Lab/Data/RFID_VDM/AQP4/VDM'\n",
    "    \n",
    "VDM_file_names = os.listdir(VDM_path)\n",
    "\n",
    "VDM_data_dir_paths = []\n",
    "\n",
    "for file in VDM_file_names:\n",
    "    int_path = VDM_path + '/' + file\n",
    "    VDM_data_dir_paths.append(int_path)\n",
    "    \n",
    "VDM_data_dir_paths"
   ]
  },
  {
   "cell_type": "markdown",
   "metadata": {},
   "source": [
    "#### Clean df and remove starting meta data"
   ]
  },
  {
   "cell_type": "code",
   "execution_count": null,
   "metadata": {
    "scrolled": true
   },
   "outputs": [],
   "source": [
    "data_VDM_int = pd.read_table(VDM_data_dir_paths[0], sep=';')\n",
    "data_VDM_int = pd.DataFrame(data = data_VDM_int)\n",
    "data_VDM_int.head(50)"
   ]
  },
  {
   "cell_type": "code",
   "execution_count": null,
   "metadata": {},
   "outputs": [],
   "source": [
    "row_drop = 22\n",
    "data_VDM = pd.DataFrame()\n",
    "\n",
    "for path in VDM_data_dir_paths:\n",
    "    print(path)\n",
    "    \n",
    "    if path.split('/')[-1] == '.DS_Store':\n",
    "        continue\n",
    "        \n",
    "    #create data table\n",
    "    data_VDM_int = pd.read_table(path, sep=';')\n",
    "    data_VDM_int = pd.DataFrame(data = data_VDM_int)\n",
    "    data_VDM_int = data_VDM_int.iloc[row_drop: , :]['Columbus Instruments Device Interface Version 1.5'].str.split(',', expand=True)\n",
    "    data_VDM_int.columns = data_VDM_int.loc[row_drop].values\n",
    "    data_VDM_int = data_VDM_int.drop(row_drop)\n",
    "    \n",
    "    data_VDM_int['VDM_file'] = path.split('/')[-1]\n",
    "\n",
    "    if data_VDM.empty:\n",
    "        data_VDM = data_VDM_int\n",
    "    else:\n",
    "        data_VDM = pd.concat([data_VDM, data_VDM_int], axis=0)\n",
    "        \n",
    "    print(data_VDM.shape,'\\n')\n",
    "\n",
    "print(data_VDM.shape)\n",
    "data_VDM.head()"
   ]
  },
  {
   "cell_type": "code",
   "execution_count": null,
   "metadata": {},
   "outputs": [],
   "source": [
    "data_VDM.columns = ['Int', 'Cage_VDM', 'VDM_Time', \n",
    "                    'drink_1', 'drink_1_accum',\n",
    "                    'drink_2', 'drink_2_accum',\n",
    "                    'drink_3', 'drink_3_accum',\n",
    "                    'drink_4', 'drink_4_accum',\n",
    "                    'blank', 'VDM_file']\n",
    "\n",
    "data_VDM = data_VDM[['VDM_file', 'Cage_VDM', 'VDM_Time', \n",
    "                    'drink_1', \n",
    "                    'drink_2', \n",
    "                    'drink_3', \n",
    "                    'drink_4', \n",
    "                    ]]\n",
    "\n",
    "data_VDM.tail()"
   ]
  },
  {
   "cell_type": "markdown",
   "metadata": {},
   "source": [
    "#### Make into tidy df"
   ]
  },
  {
   "cell_type": "code",
   "execution_count": null,
   "metadata": {},
   "outputs": [],
   "source": [
    "#melt dataframe (new column of parameters)\n",
    "\n",
    "meta_params = ['VDM_file', 'Cage_VDM', 'VDM_Time']\n",
    "intake_params = ['drink_1', 'drink_2', 'drink_3', 'drink_4']\n",
    "\n",
    "data_VDM_tidy = pd.melt(data_VDM, id_vars=meta_params, value_vars=intake_params)\n",
    "\n",
    "data_VDM_tidy = data_VDM_tidy.replace({'':0.000})\n",
    "\n",
    "data_VDM_tidy['value'] = data_VDM_tidy['value'].astype('float')\n",
    "\n",
    "print(data_VDM_tidy.shape)\n",
    "data_VDM_tidy.head()"
   ]
  },
  {
   "cell_type": "code",
   "execution_count": null,
   "metadata": {},
   "outputs": [],
   "source": [
    "data_VDM_tidy['value'].unique()"
   ]
  },
  {
   "cell_type": "markdown",
   "metadata": {},
   "source": [
    "#### Drop times with no intake data"
   ]
  },
  {
   "cell_type": "code",
   "execution_count": null,
   "metadata": {},
   "outputs": [],
   "source": [
    "data_VDM_tidy_intake = data_VDM_tidy[data_VDM_tidy['value'] > 0.000]\n",
    "print(data_VDM_tidy_intake.shape)\n",
    "data_VDM_tidy_intake.head()"
   ]
  },
  {
   "cell_type": "markdown",
   "metadata": {},
   "source": [
    "#### Clean up datetime"
   ]
  },
  {
   "cell_type": "code",
   "execution_count": null,
   "metadata": {
    "scrolled": true
   },
   "outputs": [],
   "source": [
    "#clean up and create datetime columns\n",
    "data_VDM_tidy_intake['VDM_datetime'] = pd.to_datetime(data_VDM_tidy_intake['VDM_Time'])\n",
    "data_VDM_tidy_intake['VDM_timestamp'] = [x.timestamp() for x in data_VDM_tidy_intake['VDM_datetime']]\n",
    "\n",
    "data_VDM_tidy_intake['VDM_date'] = data_VDM_tidy_intake['VDM_datetime'].dt.date\n",
    "data_VDM_tidy_intake['VDM_day'] = data_VDM_tidy_intake['VDM_datetime'].dt.day\n",
    "data_VDM_tidy_intake['VDM_time'] = data_VDM_tidy_intake['VDM_datetime'].dt.strftime(\"%H:%M:%S\")\n",
    "data_VDM_tidy_intake['VDM_hour'] = data_VDM_tidy_intake['VDM_datetime'].dt.hour\n",
    "data_VDM_tidy_intake['VDM_min'] = data_VDM_tidy_intake['VDM_datetime'].dt.minute\n",
    "data_VDM_tidy_intake['VDM_second'] = data_VDM_tidy_intake['VDM_datetime'].dt.second\n",
    "\n",
    "print(data_VDM_tidy_intake.shape)\n",
    "data_VDM_tidy_intake.head()"
   ]
  },
  {
   "cell_type": "markdown",
   "metadata": {},
   "source": [
    "#### Add day, hour, and min counts"
   ]
  },
  {
   "cell_type": "code",
   "execution_count": null,
   "metadata": {},
   "outputs": [],
   "source": [
    "#column of running day count\n",
    "dat_map = dict(zip(data_VDM_tidy_intake['VDM_date'].sort_values().unique(), np.arange(0,len(data_VDM_tidy_intake['VDM_date'].unique()))))\n",
    "data_VDM_tidy_intake['VDM_day_count'] = data_VDM_tidy_intake['VDM_date'].map(dat_map)\n",
    "\n",
    "#column of running min and second count within each day\n",
    "data_VDM_tidy_intake['VDM_min_count'] = (data_VDM_tidy_intake['VDM_hour']*60) + data_VDM_tidy_intake['VDM_min'] \n",
    "data_VDM_tidy_intake['VDM_sec_count'] = (data_VDM_tidy_intake['VDM_min_count']*60) + data_VDM_tidy_intake['VDM_second'] \n",
    "\n",
    "#column of running hour and minute count across all days\n",
    "data_VDM_tidy_intake['VDM_hour_count_running'] = (data_VDM_tidy_intake['VDM_day_count']*24) + data_VDM_tidy_intake['VDM_hour'] - 24\n",
    "data_VDM_tidy_intake['VDM_min_count_running'] = (data_VDM_tidy_intake['VDM_hour_count_running']*60) + data_VDM_tidy_intake['VDM_min'] \n",
    "data_VDM_tidy_intake['VDM_sec_count_running'] = (data_VDM_tidy_intake['VDM_min_count_running']*60) + data_VDM_tidy_intake['VDM_second'] - 60\n",
    "\n",
    "print(data_VDM_tidy_intake.shape)\n",
    "data_VDM_tidy_intake.head()"
   ]
  },
  {
   "cell_type": "code",
   "execution_count": null,
   "metadata": {},
   "outputs": [],
   "source": [
    "data_VDM_tidy_intake['VDM_day'].value_counts()"
   ]
  },
  {
   "cell_type": "markdown",
   "metadata": {},
   "source": [
    "#### Light/dark mapping"
   ]
  },
  {
   "cell_type": "code",
   "execution_count": null,
   "metadata": {},
   "outputs": [],
   "source": [
    "def assign_ld(time):\n",
    "    if (time >= 6) & (time < 18):\n",
    "        return 'light'\n",
    "    if (time >= 0) & (time < 6):\n",
    "        return 'dark_am'\n",
    "    if (time >= 18):\n",
    "        return 'dark_pm'\n",
    "    \n",
    "data_VDM_tidy_intake['ld_seg'] = data_VDM_tidy_intake['VDM_hour'].apply(assign_ld)\n",
    "\n",
    "data_VDM_tidy_intake.head()"
   ]
  },
  {
   "cell_type": "code",
   "execution_count": null,
   "metadata": {},
   "outputs": [],
   "source": [
    "data_VDM_tidy_intake = data_VDM_tidy_intake.merge(ld_mapping, right_on=['day', 'ld_seg'], left_on=['VDM_day_count', 'ld_seg'])\n",
    "print(data_VDM_tidy_intake.shape)\n",
    "data_VDM_tidy_intake.head()"
   ]
  },
  {
   "cell_type": "code",
   "execution_count": null,
   "metadata": {},
   "outputs": [],
   "source": [
    "dat_map"
   ]
  },
  {
   "cell_type": "markdown",
   "metadata": {},
   "source": [
    "#### Map bottle contents"
   ]
  },
  {
   "cell_type": "code",
   "execution_count": null,
   "metadata": {},
   "outputs": [],
   "source": [
    "data_VDM_tidy_intake.loc[(data_VDM_tidy_intake['Cage_VDM']=='1') & (data_VDM_tidy_intake['variable']=='drink_1'), \n",
    "                         'VDM_drink'] = 'VDM_H20_1'\n",
    "\n",
    "data_VDM_tidy_intake.loc[(data_VDM_tidy_intake['Cage_VDM']=='1') & (data_VDM_tidy_intake['variable']=='drink_2'), \n",
    "                         'VDM_drink'] = 'VDM_EtOH10'\n",
    "\n",
    "data_VDM_tidy_intake.loc[(data_VDM_tidy_intake['Cage_VDM']=='1') & (data_VDM_tidy_intake['variable']=='drink_3'), \n",
    "                         'VDM_drink'] = 'VDM_Fent20'\n",
    "\n",
    "data_VDM_tidy_intake.loc[(data_VDM_tidy_intake['Cage_VDM']=='1') & (data_VDM_tidy_intake['variable']=='drink_4'), \n",
    "                         'VDM_drink'] = 'VDM_H20_2'\n",
    "\n",
    "data_VDM_tidy_intake.loc[(data_VDM_tidy_intake['Cage_VDM']=='2') & (data_VDM_tidy_intake['variable']=='drink_1'), \n",
    "                         'VDM_drink'] = 'VDM_EtOH05'\n",
    "\n",
    "data_VDM_tidy_intake.loc[(data_VDM_tidy_intake['Cage_VDM']=='2') & (data_VDM_tidy_intake['variable']=='drink_2'), \n",
    "                         'VDM_drink'] = 'VDM_Fent05'\n",
    "\n",
    "data_VDM_tidy_intake.loc[(data_VDM_tidy_intake['Cage_VDM']=='2') & (data_VDM_tidy_intake['variable']=='drink_3'), \n",
    "                         'VDM_drink'] = 'VDM_drip_1'\n",
    "\n",
    "data_VDM_tidy_intake.loc[(data_VDM_tidy_intake['Cage_VDM']=='2') & (data_VDM_tidy_intake['variable']=='drink_4'), \n",
    "                         'VDM_drink'] = 'VDM_drip_2'\n",
    "\n",
    "\n",
    "data_VDM_tidy_intake.loc[(data_VDM_tidy_intake['Cage_VDM']=='3') & (data_VDM_tidy_intake['variable']=='drink_1'), \n",
    "                         'VDM_drink'] = 'VDM_H20_1'\n",
    "\n",
    "data_VDM_tidy_intake.loc[(data_VDM_tidy_intake['Cage_VDM']=='3') & (data_VDM_tidy_intake['variable']=='drink_2'), \n",
    "                         'VDM_drink'] = 'VDM_EtOH10'\n",
    "\n",
    "data_VDM_tidy_intake.loc[(data_VDM_tidy_intake['Cage_VDM']=='3') & (data_VDM_tidy_intake['variable']=='drink_3'), \n",
    "                         'VDM_drink'] = 'VDM_Fent20'\n",
    "\n",
    "data_VDM_tidy_intake.loc[(data_VDM_tidy_intake['Cage_VDM']=='3') & (data_VDM_tidy_intake['variable']=='drink_4'), \n",
    "                         'VDM_drink'] = 'VDM_H20_2'\n",
    "\n",
    "data_VDM_tidy_intake.loc[(data_VDM_tidy_intake['Cage_VDM']=='4') & (data_VDM_tidy_intake['variable']=='drink_1'), \n",
    "                         'VDM_drink'] = 'VDM_EtOH05'\n",
    "\n",
    "data_VDM_tidy_intake.loc[(data_VDM_tidy_intake['Cage_VDM']=='4') & (data_VDM_tidy_intake['variable']=='drink_2'), \n",
    "                         'VDM_drink'] = 'VDM_Fent05'\n",
    "\n",
    "data_VDM_tidy_intake.loc[(data_VDM_tidy_intake['Cage_VDM']=='4') & (data_VDM_tidy_intake['variable']=='drink_3'), \n",
    "                         'VDM_drink'] = 'VDM_drip_1'\n",
    "\n",
    "data_VDM_tidy_intake.loc[(data_VDM_tidy_intake['Cage_VDM']=='4') & (data_VDM_tidy_intake['variable']=='drink_4'), \n",
    "                         'VDM_drink'] = 'VDM_drip_2'\n",
    "\n",
    "\n",
    "\n",
    "data_VDM_tidy_intake.loc[(data_VDM_tidy_intake['Cage_VDM']=='5') & (data_VDM_tidy_intake['variable']=='drink_1'), \n",
    "                         'VDM_drink'] = 'VDM_H20_1'\n",
    "\n",
    "data_VDM_tidy_intake.loc[(data_VDM_tidy_intake['Cage_VDM']=='5') & (data_VDM_tidy_intake['variable']=='drink_2'), \n",
    "                         'VDM_drink'] = 'VDM_EtOH10'\n",
    "\n",
    "data_VDM_tidy_intake.loc[(data_VDM_tidy_intake['Cage_VDM']=='5') & (data_VDM_tidy_intake['variable']=='drink_3'), \n",
    "                         'VDM_drink'] = 'VDM_Fent20'\n",
    "\n",
    "data_VDM_tidy_intake.loc[(data_VDM_tidy_intake['Cage_VDM']=='5') & (data_VDM_tidy_intake['variable']=='drink_4'), \n",
    "                         'VDM_drink'] = 'VDM_H20_2'\n",
    "\n",
    "data_VDM_tidy_intake.loc[(data_VDM_tidy_intake['Cage_VDM']=='6') & (data_VDM_tidy_intake['variable']=='drink_1'), \n",
    "                         'VDM_drink'] = 'VDM_EtOH05'\n",
    "\n",
    "data_VDM_tidy_intake.loc[(data_VDM_tidy_intake['Cage_VDM']=='6') & (data_VDM_tidy_intake['variable']=='drink_2'), \n",
    "                         'VDM_drink'] = 'VDM_Fent05'\n",
    "\n",
    "data_VDM_tidy_intake.loc[(data_VDM_tidy_intake['Cage_VDM']=='6') & (data_VDM_tidy_intake['variable']=='drink_3'), \n",
    "                         'VDM_drink'] = 'VDM_drip_1'\n",
    "\n",
    "data_VDM_tidy_intake.loc[(data_VDM_tidy_intake['Cage_VDM']=='6') & (data_VDM_tidy_intake['variable']=='drink_4'), \n",
    "                         'VDM_drink'] = 'VDM_drip_2'\n",
    "\n",
    "\n",
    "data_VDM_tidy_intake.loc[(data_VDM_tidy_intake['Cage_VDM']=='7') & (data_VDM_tidy_intake['variable']=='drink_1'), \n",
    "                         'VDM_drink'] = 'VDM_H20_1'\n",
    "\n",
    "data_VDM_tidy_intake.loc[(data_VDM_tidy_intake['Cage_VDM']=='7') & (data_VDM_tidy_intake['variable']=='drink_2'), \n",
    "                         'VDM_drink'] = 'VDM_EtOH10'\n",
    "\n",
    "data_VDM_tidy_intake.loc[(data_VDM_tidy_intake['Cage_VDM']=='7') & (data_VDM_tidy_intake['variable']=='drink_3'), \n",
    "                         'VDM_drink'] = 'VDM_Fent20'\n",
    "\n",
    "data_VDM_tidy_intake.loc[(data_VDM_tidy_intake['Cage_VDM']=='7') & (data_VDM_tidy_intake['variable']=='drink_4'), \n",
    "                         'VDM_drink'] = 'VDM_H20_2'\n",
    "\n",
    "data_VDM_tidy_intake.loc[(data_VDM_tidy_intake['Cage_VDM']=='8') & (data_VDM_tidy_intake['variable']=='drink_1'), \n",
    "                         'VDM_drink'] = 'VDM_EtOH05'\n",
    "\n",
    "data_VDM_tidy_intake.loc[(data_VDM_tidy_intake['Cage_VDM']=='8') & (data_VDM_tidy_intake['variable']=='drink_2'), \n",
    "                         'VDM_drink'] = 'VDM_Fent05'\n",
    "\n",
    "data_VDM_tidy_intake.loc[(data_VDM_tidy_intake['Cage_VDM']=='8') & (data_VDM_tidy_intake['variable']=='drink_3'), \n",
    "                         'VDM_drink'] = 'VDM_drip_1'\n",
    "\n",
    "data_VDM_tidy_intake.loc[(data_VDM_tidy_intake['Cage_VDM']=='8') & (data_VDM_tidy_intake['variable']=='drink_4'), \n",
    "                         'VDM_drink'] = 'VDM_drip_2'\n",
    "\n",
    "\n",
    "print(data_VDM_tidy_intake.shape)\n",
    "data_VDM_tidy_intake.head()"
   ]
  },
  {
   "cell_type": "code",
   "execution_count": null,
   "metadata": {},
   "outputs": [],
   "source": [
    "\n",
    "data_VDM_tidy_intake.loc[(data_VDM_tidy_intake['Cage_VDM']=='1') & (data_VDM_tidy_intake['variable']=='drink_1'), \n",
    "                         'VDM_drink'] = 'VDM_Fent20'\n",
    "\n",
    "data_VDM_tidy_intake.loc[(data_VDM_tidy_intake['Cage_VDM']=='1') & (data_VDM_tidy_intake['variable']=='drink_2'), \n",
    "                         'VDM_drink'] = 'VDM_H20_1'\n",
    "\n",
    "data_VDM_tidy_intake.loc[(data_VDM_tidy_intake['Cage_VDM']=='1') & (data_VDM_tidy_intake['variable']=='drink_3'), \n",
    "                         'VDM_drink'] = 'VDM_EtOH10'\n",
    "\n",
    "data_VDM_tidy_intake.loc[(data_VDM_tidy_intake['Cage_VDM']=='1') & (data_VDM_tidy_intake['variable']=='drink_4'), \n",
    "                         'VDM_drink'] = 'VDM_Fent05'\n",
    "\n",
    "data_VDM_tidy_intake.loc[(data_VDM_tidy_intake['Cage_VDM']=='2') & (data_VDM_tidy_intake['variable']=='drink_1'), \n",
    "                         'VDM_drink'] = 'VDM_H20_2'\n",
    "\n",
    "data_VDM_tidy_intake.loc[(data_VDM_tidy_intake['Cage_VDM']=='2') & (data_VDM_tidy_intake['variable']=='drink_2'), \n",
    "                         'VDM_drink'] = 'VDM_EtOH05'\n",
    "\n",
    "data_VDM_tidy_intake.loc[(data_VDM_tidy_intake['Cage_VDM']=='2') & (data_VDM_tidy_intake['variable']=='drink_3'), \n",
    "                         'VDM_drink'] = 'VDM_drip_1'\n",
    "\n",
    "data_VDM_tidy_intake.loc[(data_VDM_tidy_intake['Cage_VDM']=='2') & (data_VDM_tidy_intake['variable']=='drink_4'), \n",
    "                         'VDM_drink'] = 'VDM_drip_2'\n",
    "\n",
    "data_VDM_tidy_intake.loc[(data_VDM_tidy_intake['Cage_VDM']=='3') & (data_VDM_tidy_intake['variable']=='drink_1'), \n",
    "                         'VDM_drink'] = 'VDM_Fent20'\n",
    "\n",
    "data_VDM_tidy_intake.loc[(data_VDM_tidy_intake['Cage_VDM']=='3') & (data_VDM_tidy_intake['variable']=='drink_2'), \n",
    "                         'VDM_drink'] = 'VDM_H20_1'\n",
    "\n",
    "data_VDM_tidy_intake.loc[(data_VDM_tidy_intake['Cage_VDM']=='3') & (data_VDM_tidy_intake['variable']=='drink_3'), \n",
    "                         'VDM_drink'] = 'VDM_EtOH10'\n",
    "\n",
    "data_VDM_tidy_intake.loc[(data_VDM_tidy_intake['Cage_VDM']=='3') & (data_VDM_tidy_intake['variable']=='drink_4'), \n",
    "                         'VDM_drink'] = 'VDM_Fent05'\n",
    "\n",
    "data_VDM_tidy_intake.loc[(data_VDM_tidy_intake['Cage_VDM']=='4') & (data_VDM_tidy_intake['variable']=='drink_1'), \n",
    "                         'VDM_drink'] = 'VDM_H20_2'\n",
    "\n",
    "data_VDM_tidy_intake.loc[(data_VDM_tidy_intake['Cage_VDM']=='4') & (data_VDM_tidy_intake['variable']=='drink_2'), \n",
    "                         'VDM_drink'] = 'VDM_EtOH05'\n",
    "\n",
    "data_VDM_tidy_intake.loc[(data_VDM_tidy_intake['Cage_VDM']=='4') & (data_VDM_tidy_intake['variable']=='drink_3'), \n",
    "                         'VDM_drink'] = 'VDM_drip_1'\n",
    "\n",
    "data_VDM_tidy_intake.loc[(data_VDM_tidy_intake['Cage_VDM']=='4') & (data_VDM_tidy_intake['variable']=='drink_4'), \n",
    "                         'VDM_drink'] = 'VDM_drip_2'\n",
    "\n",
    "data_VDM_tidy_intake.loc[(data_VDM_tidy_intake['Cage_VDM']=='5') & (data_VDM_tidy_intake['variable']=='drink_1'), \n",
    "                         'VDM_drink'] = 'VDM_Fent20'\n",
    "\n",
    "data_VDM_tidy_intake.loc[(data_VDM_tidy_intake['Cage_VDM']=='5') & (data_VDM_tidy_intake['variable']=='drink_2'), \n",
    "                         'VDM_drink'] = 'VDM_H20_1'\n",
    "\n",
    "data_VDM_tidy_intake.loc[(data_VDM_tidy_intake['Cage_VDM']=='5') & (data_VDM_tidy_intake['variable']=='drink_3'), \n",
    "                         'VDM_drink'] = 'VDM_EtOH10'\n",
    "\n",
    "data_VDM_tidy_intake.loc[(data_VDM_tidy_intake['Cage_VDM']=='5') & (data_VDM_tidy_intake['variable']=='drink_4'), \n",
    "                         'VDM_drink'] = 'VDM_Fent05'\n",
    "\n",
    "data_VDM_tidy_intake.loc[(data_VDM_tidy_intake['Cage_VDM']=='6') & (data_VDM_tidy_intake['variable']=='drink_1'), \n",
    "                         'VDM_drink'] = 'VDM_H20_2'\n",
    "\n",
    "data_VDM_tidy_intake.loc[(data_VDM_tidy_intake['Cage_VDM']=='6') & (data_VDM_tidy_intake['variable']=='drink_2'), \n",
    "                         'VDM_drink'] = 'VDM_EtOH05'\n",
    "\n",
    "data_VDM_tidy_intake.loc[(data_VDM_tidy_intake['Cage_VDM']=='6') & (data_VDM_tidy_intake['variable']=='drink_3'), \n",
    "                         'VDM_drink'] = 'VDM_drip_1'\n",
    "\n",
    "data_VDM_tidy_intake.loc[(data_VDM_tidy_intake['Cage_VDM']=='6') & (data_VDM_tidy_intake['variable']=='drink_4'), \n",
    "                         'VDM_drink'] = 'VDM_drip_2'\n",
    "\n",
    "data_VDM_tidy_intake.loc[(data_VDM_tidy_intake['Cage_VDM']=='7') & (data_VDM_tidy_intake['variable']=='drink_1'), \n",
    "                         'VDM_drink'] = 'VDM_Fent20'\n",
    "\n",
    "data_VDM_tidy_intake.loc[(data_VDM_tidy_intake['Cage_VDM']=='7') & (data_VDM_tidy_intake['variable']=='drink_2'), \n",
    "                         'VDM_drink'] = 'VDM_H20_1'\n",
    "\n",
    "data_VDM_tidy_intake.loc[(data_VDM_tidy_intake['Cage_VDM']=='7') & (data_VDM_tidy_intake['variable']=='drink_3'), \n",
    "                         'VDM_drink'] = 'VDM_EtOH10'\n",
    "\n",
    "data_VDM_tidy_intake.loc[(data_VDM_tidy_intake['Cage_VDM']=='7') & (data_VDM_tidy_intake['variable']=='drink_4'), \n",
    "                         'VDM_drink'] = 'VDM_Fent05'\n",
    "\n",
    "data_VDM_tidy_intake.loc[(data_VDM_tidy_intake['Cage_VDM']=='8') & (data_VDM_tidy_intake['variable']=='drink_1'), \n",
    "                         'VDM_drink'] = 'VDM_H20_2'\n",
    "\n",
    "data_VDM_tidy_intake.loc[(data_VDM_tidy_intake['Cage_VDM']=='8') & (data_VDM_tidy_intake['variable']=='drink_2'), \n",
    "                         'VDM_drink'] = 'VDM_EtOH05'\n",
    "\n",
    "data_VDM_tidy_intake.loc[(data_VDM_tidy_intake['Cage_VDM']=='8') & (data_VDM_tidy_intake['variable']=='drink_3'), \n",
    "                         'VDM_drink'] = 'VDM_drip_1'\n",
    "\n",
    "data_VDM_tidy_intake.loc[(data_VDM_tidy_intake['Cage_VDM']=='8') & (data_VDM_tidy_intake['variable']=='drink_4'), \n",
    "                         'VDM_drink'] = 'VDM_drip_2'\n",
    "\n",
    "print(data_VDM_tidy_intake.shape)\n",
    "data_VDM_tidy_intake.head()"
   ]
  },
  {
   "cell_type": "code",
   "execution_count": null,
   "metadata": {},
   "outputs": [],
   "source": [
    "def assign_cage(cage):\n",
    "    if cage == '1':\n",
    "        return 1\n",
    "    if cage == '2':\n",
    "        return 1\n",
    "    if cage == '3':\n",
    "        return 2\n",
    "    if cage == '4':\n",
    "        return 2\n",
    "    if cage == '5':\n",
    "        return 3\n",
    "    if cage == '6':\n",
    "        return 3\n",
    "    if cage == '7':\n",
    "        return 4\n",
    "    if cage == '8':\n",
    "        return 4\n",
    "    \n",
    "data_VDM_tidy_intake['Cage_VDM_update'] = data_VDM_tidy_intake['Cage_VDM'].apply(assign_cage)\n",
    "\n",
    "data_VDM_tidy_intake.head()"
   ]
  },
  {
   "cell_type": "markdown",
   "metadata": {},
   "source": [
    "#### Viz"
   ]
  },
  {
   "cell_type": "code",
   "execution_count": null,
   "metadata": {},
   "outputs": [],
   "source": [
    "data_int = data_VDM_tidy_intake.groupby(['Cage_VDM_update', 'VDM_drink'])['value'].sum().reset_index(name='sum')\n",
    "\n",
    "plt.figure(figsize=(10,5))\n",
    "params = {'axes.labelsize': 30,\n",
    "          'axes.titlesize': 30}\n",
    "plt.rc('xtick', labelsize=15) \n",
    "plt.rc('ytick', labelsize=15) \n",
    "sns.catplot(data=data_int, x=\"VDM_drink\", y='sum', kind='bar', height=5, aspect=2, \n",
    "            col='Cage_VDM_update', col_wrap=2, sharey=False, sharex=False)\n",
    "plt.legend(loc='upper center', bbox_to_anchor=(0.5, 1.3),\n",
    "          ncol=5, fancybox=True, shadow=True)\n",
    "plt.xlabel('Substance type')\n",
    "plt.ylabel('Visit count')\n",
    "plt.show()"
   ]
  },
  {
   "cell_type": "markdown",
   "metadata": {},
   "source": [
    "### Filter RFID data by VDM times"
   ]
  },
  {
   "cell_type": "code",
   "execution_count": null,
   "metadata": {},
   "outputs": [],
   "source": [
    "data_VDM_tidy_intake = data_VDM_tidy_intake.sort_values(['VDM_drink', 'VDM_datetime']).reset_index(drop=True)\n",
    "drink_drop = ['VDM_drip_1', 'VDM_drip_2']\n",
    "data_VDM_tidy_intake = data_VDM_tidy_intake[~data_VDM_tidy_intake['VDM_drink'].isin(drink_drop)]\n",
    "print(data_VDM_tidy_intake.groupby('Cage_VDM_update')['VDM_drink'].value_counts())\n",
    "print(data_VDM_tidy_intake.shape)\n",
    "data_VDM_tidy_intake.head()"
   ]
  },
  {
   "cell_type": "code",
   "execution_count": null,
   "metadata": {},
   "outputs": [],
   "source": [
    "data_RFID_final= data_RFID_final.sort_values(['unitLabel_drink', 'RFID_datetime_start']).reset_index(drop=True)\n",
    "print(data_RFID_final['unitLabel_drink'].value_counts())\n",
    "data_RFID_final.head()"
   ]
  },
  {
   "cell_type": "markdown",
   "metadata": {},
   "source": [
    "#### Match cage, unitLabel, and datetime"
   ]
  },
  {
   "cell_type": "code",
   "execution_count": null,
   "metadata": {
    "scrolled": true
   },
   "outputs": [],
   "source": [
    "data_comb = data_VDM_tidy_intake\n",
    "\n",
    "flavor_mapping = {'VDM_Fent05': 'fent_05',\n",
    "                  'VDM_Fent20': 'fent_20',\n",
    "                  'VDM_EtOH05': 'etoh_05',\n",
    "                  'VDM_EtOH10': 'etoh_10',\n",
    "                  'VDM_H20_1': 'water_1',\n",
    "                  'VDM_H20_2': 'water_2'}\n",
    "\n",
    "RFID_eventDuration = []\n",
    "RFID_assign_id_pre = []\n",
    "RFID_assign_var_pre = []\n",
    "RFID_datetime_start_pre = []\n",
    "RFID_datetime_end_pre = []\n",
    "\n",
    "for index, row in data_VDM_tidy_intake.iterrows():\n",
    "    if index%1000 == 0:\n",
    "        print(index)\n",
    "        \n",
    "    #find RFID signal start time closest to VDM time before\n",
    "    try:\n",
    "        int_assign = data_RFID_final[(data_RFID_final['Cage'] == row['Cage_VDM_update']) & #match cage\n",
    "                               (data_RFID_final['unitLabel_drink'] == flavor_mapping[row['VDM_drink']]) & #match tube\n",
    "                               (data_RFID_final['RFID_datetime_start'] <= row['VDM_datetime']) #find closest datetime\n",
    "                              ].sort_values(['RFID_datetime_start']).iloc[-1]\n",
    "\n",
    "        RFID_eventDuration.append(int_assign['eventDuration'])\n",
    "        RFID_assign_id_pre.append(int_assign['IdRFID'])\n",
    "        RFID_assign_var_pre.append(int_assign['unitLabel_drink'])\n",
    "        RFID_datetime_start_pre.append(int_assign['RFID_datetime_start'])\n",
    "        RFID_datetime_end_pre.append(int_assign['RFID_datetime_end'])\n",
    "\n",
    "        \n",
    "    except:\n",
    "        print(index, 'pre', row['Cage_VDM_update'])\n",
    "        RFID_eventDuration.append(np.nan)\n",
    "        RFID_assign_id_pre.append(np.nan)\n",
    "        RFID_assign_var_pre.append(np.nan)\n",
    "        RFID_datetime_start_pre.append(np.nan)\n",
    "        RFID_datetime_end_pre.append(np.nan)\n",
    "\n",
    "        \n",
    "data_comb['RFID_eventDuration'] = RFID_eventDuration\n",
    "data_comb['RFID_assign_id_pre'] = RFID_assign_id_pre\n",
    "data_comb['RFID_assign_var_pre'] = RFID_assign_var_pre\n",
    "data_comb['RFID_datetime_start_pre'] = RFID_datetime_start_pre\n",
    "data_comb['RFID_datetime_end_pre'] = RFID_datetime_end_pre\n",
    "\n",
    "print(data_comb.shape)\n",
    "data_comb.head()"
   ]
  },
  {
   "cell_type": "code",
   "execution_count": null,
   "metadata": {},
   "outputs": [],
   "source": [
    "data_comb.isna().sum()"
   ]
  },
  {
   "cell_type": "code",
   "execution_count": null,
   "metadata": {},
   "outputs": [],
   "source": [
    "data_comb.groupby(['ld_day', 'VDM_drink'])['value'].sum()"
   ]
  },
  {
   "cell_type": "code",
   "execution_count": null,
   "metadata": {},
   "outputs": [],
   "source": [
    "data_comb.groupby(['ld_day', 'ld_cycle'])['VDM_date'].value_counts()"
   ]
  },
  {
   "cell_type": "markdown",
   "metadata": {},
   "source": [
    "#### Copmuter RFID/VDM time difference"
   ]
  },
  {
   "cell_type": "code",
   "execution_count": null,
   "metadata": {},
   "outputs": [],
   "source": [
    "def time_within(RFID_start, RFID_stop, VDM_time):\n",
    "    \n",
    "    if (VDM_time >= RFID_start) & (VDM_time <= RFID_stop):\n",
    "        return 0\n",
    "    \n",
    "    elif (VDM_time >= RFID_start) & (VDM_time >= RFID_stop):\n",
    "        time_within = VDM_time - RFID_stop\n",
    "        time_within = time_within.total_seconds()\n",
    "        return time_within\n",
    "    \n",
    "data_comb['VDM_RFID_timediff'] = data_comb.apply(lambda row: time_within(row['RFID_datetime_start_pre'], \n",
    "                                                                   row['RFID_datetime_end_pre'],\n",
    "                                                                   row['VDM_datetime']), axis=1)\n",
    "\n",
    "data_comb['VDM_RFID_timediff_bool'] = ['same' if x==0 else 'diff' for x in data_comb['VDM_RFID_timediff']]\n",
    "\n",
    "data_comb.head()"
   ]
  },
  {
   "cell_type": "code",
   "execution_count": null,
   "metadata": {},
   "outputs": [],
   "source": [
    "data_comb.groupby(['Cage_VDM_update', 'VDM_drink', ])['VDM_RFID_timediff_bool'].value_counts()"
   ]
  },
  {
   "cell_type": "code",
   "execution_count": null,
   "metadata": {},
   "outputs": [],
   "source": [
    "sns.displot(data=data_comb, x=\"VDM_RFID_timediff\", kind=\"ecdf\", hue='VDM_drink', col='Cage_VDM_update')\n",
    "\n",
    "plt.xlim(-1, 60)\n",
    "plt.show()"
   ]
  },
  {
   "cell_type": "markdown",
   "metadata": {},
   "source": [
    "#### Add metadata"
   ]
  },
  {
   "cell_type": "code",
   "execution_count": null,
   "metadata": {},
   "outputs": [],
   "source": [
    "data_comb = meta_data.merge(data_comb.reset_index(), left_on='IdRFID', right_on='RFID_assign_id_pre', sort=False)\n",
    "\n",
    "print(data_comb.shape)\n",
    "data_comb.head()"
   ]
  },
  {
   "cell_type": "code",
   "execution_count": null,
   "metadata": {},
   "outputs": [],
   "source": [
    "data_comb['VDM_drink'] = data_comb['VDM_drink'].replace({'VDM_H20_1':'VDM_water'})\n",
    "data_comb['VDM_drink'] = data_comb['VDM_drink'].replace({'VDM_H20_2':'VDM_water'})"
   ]
  },
  {
   "cell_type": "code",
   "execution_count": null,
   "metadata": {},
   "outputs": [],
   "source": [
    "data_comb['substance'] = [x.split('_')[-1] for x in data_comb['VDM_drink']]"
   ]
  },
  {
   "cell_type": "code",
   "execution_count": null,
   "metadata": {},
   "outputs": [],
   "source": [
    "data_comb.to_csv('poly_221010.csv')"
   ]
  },
  {
   "cell_type": "code",
   "execution_count": null,
   "metadata": {},
   "outputs": [],
   "source": [
    "data_int = data_VDM_tidy_intake[data_VDM_tidy_intake['VDM_RFID_timediff']<3].groupby(['Cage_VDM_update', 'VDM_hour'])['value'].sum().reset_index(name='sum')\n",
    "\n",
    "plt.figure(figsize=(10,5))\n",
    "params = {'axes.labelsize': 30,\n",
    "          'axes.titlesize': 30}\n",
    "plt.rc('xtick', labelsize=15) \n",
    "plt.rc('ytick', labelsize=15) \n",
    "sns.catplot(data=data_int, x=\"VDM_hour\", y='sum', kind='bar', height=5, aspect=2, \n",
    "            col='Cage_VDM_update', col_wrap=2, sharey=False, sharex=False)\n",
    "plt.legend(loc='upper center', bbox_to_anchor=(0.5, 1.3),\n",
    "          ncol=5, fancybox=True, shadow=True)\n",
    "plt.xlabel('Substance type')\n",
    "plt.ylabel('Visit count')\n",
    "plt.show()"
   ]
  },
  {
   "cell_type": "code",
   "execution_count": null,
   "metadata": {},
   "outputs": [],
   "source": []
  },
  {
   "cell_type": "code",
   "execution_count": null,
   "metadata": {},
   "outputs": [],
   "source": []
  }
 ],
 "metadata": {
  "kernelspec": {
   "display_name": "Python 3",
   "language": "python",
   "name": "python3"
  },
  "language_info": {
   "codemirror_mode": {
    "name": "ipython",
    "version": 3
   },
   "file_extension": ".py",
   "mimetype": "text/x-python",
   "name": "python",
   "nbconvert_exporter": "python",
   "pygments_lexer": "ipython3",
   "version": "3.6.12"
  },
  "toc": {
   "base_numbering": 1,
   "nav_menu": {},
   "number_sections": true,
   "sideBar": true,
   "skip_h1_title": false,
   "title_cell": "Table of Contents",
   "title_sidebar": "Contents",
   "toc_cell": false,
   "toc_position": {
    "height": "calc(100% - 180px)",
    "left": "10px",
    "top": "150px",
    "width": "312px"
   },
   "toc_section_display": true,
   "toc_window_display": true
  }
 },
 "nbformat": 4,
 "nbformat_minor": 2
}
